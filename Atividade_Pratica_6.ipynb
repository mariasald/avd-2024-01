{
  "nbformat": 4,
  "nbformat_minor": 0,
  "metadata": {
    "colab": {
      "provenance": [],
      "authorship_tag": "ABX9TyNbFkfQ8fYOX4DEzqfiLbGS",
      "include_colab_link": true
    },
    "kernelspec": {
      "name": "python3",
      "display_name": "Python 3"
    },
    "language_info": {
      "name": "python"
    }
  },
  "cells": [
    {
      "cell_type": "markdown",
      "metadata": {
        "id": "view-in-github",
        "colab_type": "text"
      },
      "source": [
        "<a href=\"https://colab.research.google.com/github/mariasald/avd-2024-01/blob/main/Atividade_Pratica_6.ipynb\" target=\"_parent\"><img src=\"https://colab.research.google.com/assets/colab-badge.svg\" alt=\"Open In Colab\"/></a>"
      ]
    },
    {
      "cell_type": "markdown",
      "source": [
        "#**Alunos**\n",
        "\n",
        "* Gabriel César Tavares Ferreira - 21854868\n",
        "* Maria Luiza Saldanha - 22153140"
      ],
      "metadata": {
        "id": "MmThcO5YKFfG"
      }
    },
    {
      "cell_type": "markdown",
      "source": [
        "# Bibliotecas Utilizadas"
      ],
      "metadata": {
        "id": "W2ttgmnZbfEu"
      }
    },
    {
      "cell_type": "code",
      "source": [
        "import numpy as np\n",
        "import pandas as pd\n",
        "from itertools import product"
      ],
      "metadata": {
        "id": "Pckl3Nsjbigu"
      },
      "execution_count": 33,
      "outputs": []
    },
    {
      "cell_type": "markdown",
      "source": [
        "# Tabelas de Sinais"
      ],
      "metadata": {
        "id": "a6CVftbKkDwn"
      }
    },
    {
      "cell_type": "code",
      "source": [
        "def tabela_de_sinais(k, repeticoes, valores):\n",
        "    tabela = []\n",
        "    headers = [\"1\"] + [chr(65+i) for i in range(k)]  # \"1\", \"A\", \"B\", \"C\", ...\n",
        "    interactions = []\n",
        "\n",
        "    for i in range(1, k+1):\n",
        "        interactions.extend(itertools.combinations(range(1, k+1), i))\n",
        "\n",
        "    for combination in itertools.product([-1, 1], repeat=k):\n",
        "        linha = [1] + list(combination)\n",
        "        for inter in interactions:\n",
        "            product_term = 1\n",
        "            for index in inter:\n",
        "                product_term *= linha[index]\n",
        "            linha.append(product_term)\n",
        "        if repeticoes > 1:\n",
        "            a = [float(input(f\"Digite o valor do resultado {j+1} para a combinação {combination}: \")) for j in range(repeticoes)]\n",
        "            linha.append(a)  # Y(1,2,3,...)\n",
        "            linha.append(np.mean(a))  # Média de Y\n",
        "        else:\n",
        "            x = float(input(f\"Digite o valor de resultados para a combinação {combination}: \"))\n",
        "            linha.append(x)  # Y\n",
        "        tabela.append(linha)\n",
        "\n",
        "    headers.extend([''.join(chr(65 + idx - 1) for idx in inter) for inter in interactions])\n",
        "    headers.append(\"Y\")\n",
        "    if repeticoes > 1:\n",
        "        headers.append(\"Y Média\")\n",
        "    return tabela, headers\n",
        "\n",
        "def imprimir_tabela(tabela, headers):\n",
        "    print(\"\\n----------Tabela De Sinais--------------\\n\")\n",
        "    print(\" \".join(f\"{col:^7}\" for col in headers))\n",
        "    for linha in tabela:\n",
        "        print(\" \".join(f\"{val:^7}\" if not isinstance(val, list) else f\"{str(val):^7}\" for val in linha))\n",
        "\n",
        "def calcular_variacao_explicada(tabela, headers, repeticoes):\n",
        "    df = pd.DataFrame(tabela, columns=headers)\n",
        "    if repeticoes > 1:\n",
        "        y_col = \"Y Média\"\n",
        "    else:\n",
        "        y_col = \"Y\"\n",
        "\n",
        "    total_variation = np.var(df[y_col].apply(lambda x: np.mean(x) if isinstance(x, list) else x), ddof=1)\n",
        "    factor_effects = {}\n",
        "    factors = headers[1:-1]  # Exclui \"1\" e \"Y\" (e \"Y Média\" se existir)\n",
        "\n",
        "    for factor in factors:\n",
        "        if isinstance(df[factor][0], list):\n",
        "            level_means = df.explode(factor)\n",
        "            level_means[y_col] = level_means[y_col].apply(lambda x: np.mean(x) if isinstance(x, list) else x)\n",
        "            level_means = level_means.groupby(factor)[y_col].mean()\n",
        "            factor_effect = (level_means[1] - level_means[-1]) / 2\n",
        "        else:\n",
        "            level_means = df.groupby(factor)[y_col].mean()\n",
        "            factor_effect = (level_means[1] - level_means[-1]) / 2\n",
        "        factor_effects[factor] = factor_effect\n",
        "\n",
        "    explained_variation = {factor: effect**2 / total_variation for factor, effect in factor_effects.items()}\n",
        "    explained_variation_fraction = {factor: var / total_variation for factor, var in explained_variation.items()}\n",
        "\n",
        "    print(\"\\nFração de Variação Explicada por cada Fator:\")\n",
        "    for factor, fraction in explained_variation_fraction.items():\n",
        "        print(f\"{factor}: {fraction:.2f}\")\n",
        "\n"
      ],
      "metadata": {
        "id": "yvDuuYCwkEEm"
      },
      "execution_count": 45,
      "outputs": []
    },
    {
      "cell_type": "markdown",
      "source": [
        "# Implementar em Python o projeto de experimentos do tipo $2^k$ fatorial.\n",
        "\n"
      ],
      "metadata": {
        "id": "tvB7_YRlKG2s"
      }
    },
    {
      "cell_type": "markdown",
      "source": [
        "a) O usuário deve escolher a quantidade de fatores entre k=2 e k=5;"
      ],
      "metadata": {
        "id": "oZvGQGmNavMe"
      }
    },
    {
      "cell_type": "code",
      "source": [
        " while True:\n",
        "  try:\n",
        "    k = int(input(\"Informe a quantidade de fatores k (entre 2 e 5): \"))\n",
        "    if 2 <= k <= 5:\n",
        "      break\n",
        "    else:\n",
        "      print(\"Fora do limite\")\n",
        "  except ValueError:\n",
        "    print(\"Número inválido.\")"
      ],
      "metadata": {
        "colab": {
          "base_uri": "https://localhost:8080/"
        },
        "id": "QpYUWi8vhzdN",
        "outputId": "45381f47-5124-4576-d1ae-87df553ffee4"
      },
      "execution_count": 35,
      "outputs": [
        {
          "name": "stdout",
          "output_type": "stream",
          "text": [
            "Informe a quantidade de fatores k (entre 2 e 5): 3\n"
          ]
        }
      ]
    },
    {
      "cell_type": "markdown",
      "source": [
        "b) O usuário deve informar o maior valor (+1) e o menor valor (-1) de cada fator;\n"
      ],
      "metadata": {
        "id": "cXsJ9uOZh00N"
      }
    },
    {
      "cell_type": "code",
      "source": [
        "valores = []\n",
        "for i in range(k):\n",
        "    while True:\n",
        "        try:\n",
        "            max_val = float(input(f\"Informe o maior valor (+1) para o fator {chr(65+i)}: \"))\n",
        "            min_val = float(input(f\"Informe o menor valor (-1) para o fator {chr(65+i)}: \"))\n",
        "            valores.append((min_val, max_val))\n",
        "            break\n",
        "        except ValueError:\n",
        "            print(\"Valor inválido.\")\n"
      ],
      "metadata": {
        "colab": {
          "base_uri": "https://localhost:8080/"
        },
        "id": "78zbt4FLh4iN",
        "outputId": "ceac71bb-d427-4bab-deec-3f6215250f1a"
      },
      "execution_count": 36,
      "outputs": [
        {
          "name": "stdout",
          "output_type": "stream",
          "text": [
            "Informe o maior valor (+1) para o fator A: 10\n",
            "Informe o menor valor (-1) para o fator A: 1\n",
            "Informe o maior valor (+1) para o fator B: 20\n",
            "Informe o menor valor (-1) para o fator B: 5\n",
            "Informe o maior valor (+1) para o fator C: 30\n",
            "Informe o menor valor (-1) para o fator C: 15\n"
          ]
        }
      ]
    },
    {
      "cell_type": "markdown",
      "source": [
        "c)  O usuário deve informar quantas vezes cada execução piloto será repetida."
      ],
      "metadata": {
        "id": "WFwFu8lajJAj"
      }
    },
    {
      "cell_type": "code",
      "source": [
        "while True:\n",
        "  try:\n",
        "    repeticoes = int(input(\"Informe a quantidade de repetições: \"))\n",
        "    break\n",
        "  except ValueError:\n",
        "    print(\"Número inválido.\")"
      ],
      "metadata": {
        "colab": {
          "base_uri": "https://localhost:8080/"
        },
        "id": "S76Ks-37jJXl",
        "outputId": "ab40b8c6-cc30-4cfe-f8bf-b93e964bdc9d"
      },
      "execution_count": 37,
      "outputs": [
        {
          "name": "stdout",
          "output_type": "stream",
          "text": [
            "Informe a quantidade de repetições: 2\n"
          ]
        }
      ]
    },
    {
      "cell_type": "markdown",
      "source": [
        "d) A aplicação deve exibir a tabela de sinais;\n",
        "\n",
        "\n",
        "e) O usuário deve informar o(s) resultado(s) de uma execução piloto com aquela combinação;"
      ],
      "metadata": {
        "id": "imqQE59MjdF1"
      }
    },
    {
      "cell_type": "code",
      "source": [
        "tabela, headers = tabela_de_sinais(k, repeticoes, valores)\n",
        "imprimir_tabela(tabela, headers)"
      ],
      "metadata": {
        "colab": {
          "base_uri": "https://localhost:8080/"
        },
        "id": "BuKLUq4JjiVU",
        "outputId": "914aeb86-9aaa-491c-ab21-b2d0d8d863ae"
      },
      "execution_count": 39,
      "outputs": [
        {
          "output_type": "stream",
          "name": "stdout",
          "text": [
            "Digite o valor do resultado 1 para a combinação (-1, -1, -1): 3.0\n",
            "Digite o valor do resultado 2 para a combinação (-1, -1, -1): 3.5\n",
            "Digite o valor do resultado 1 para a combinação (-1, -1, 1): 5.0\n",
            "Digite o valor do resultado 2 para a combinação (-1, -1, 1): 4.5\n",
            "Digite o valor do resultado 1 para a combinação (-1, 1, -1): 7.0\n",
            "Digite o valor do resultado 2 para a combinação (-1, 1, -1): 6.5\n",
            "Digite o valor do resultado 1 para a combinação (-1, 1, 1): 9.0\n",
            "Digite o valor do resultado 2 para a combinação (-1, 1, 1): 8.5\n",
            "Digite o valor do resultado 1 para a combinação (1, -1, -1): 4.0\n",
            "Digite o valor do resultado 2 para a combinação (1, -1, -1): 4.5\n",
            "Digite o valor do resultado 1 para a combinação (1, -1, 1): 6.0\n",
            "Digite o valor do resultado 2 para a combinação (1, -1, 1): 6.5\n",
            "Digite o valor do resultado 1 para a combinação (1, 1, -1): 8.0\n",
            "Digite o valor do resultado 2 para a combinação (1, 1, -1): 8.5\n",
            "Digite o valor do resultado 1 para a combinação (1, 1, 1): 10.0\n",
            "Digite o valor do resultado 2 para a combinação (1, 1, 1): 10.5\n",
            "\n",
            "----------Tabela De Sinais--------------\n",
            "\n",
            "   1       A       B       C       A       B       C      AB      AC      BC      ABC      Y    Y Média\n",
            "   1      -1      -1      -1      -1      -1      -1       1       1       1      -1    [3.0, 3.5]  3.25  \n",
            "   1      -1      -1       1      -1      -1       1       1      -1      -1       1    [5.0, 4.5]  4.75  \n",
            "   1      -1       1      -1      -1       1      -1      -1       1      -1       1    [7.0, 6.5]  6.75  \n",
            "   1      -1       1       1      -1       1       1      -1      -1       1      -1    [9.0, 8.5]  8.75  \n",
            "   1       1      -1      -1       1      -1      -1      -1      -1       1       1    [4.0, 4.5]  4.25  \n",
            "   1       1      -1       1       1      -1       1      -1       1      -1      -1    [6.0, 6.5]  6.25  \n",
            "   1       1       1      -1       1       1      -1       1      -1      -1      -1    [8.0, 8.5]  8.25  \n",
            "   1       1       1       1       1       1       1       1       1       1       1    [10.0, 10.5]  10.25 \n"
          ]
        }
      ]
    },
    {
      "cell_type": "markdown",
      "source": [
        "\n",
        "f) A aplicação deve mostrar a fração de variação explicada por cada fator."
      ],
      "metadata": {
        "id": "YkUJls8ujqSu"
      }
    },
    {
      "cell_type": "code",
      "source": [
        "calcular_variacao_explicada(tabela, headers, repeticoes)"
      ],
      "metadata": {
        "colab": {
          "base_uri": "https://localhost:8080/",
          "height": 443
        },
        "id": "tT5f3q7Kjshd",
        "outputId": "2ac53b9c-7adc-4b5a-b98d-d7c2698de173"
      },
      "execution_count": 46,
      "outputs": [
        {
          "output_type": "error",
          "ename": "KeyError",
          "evalue": "0",
          "traceback": [
            "\u001b[0;31m---------------------------------------------------------------------------\u001b[0m",
            "\u001b[0;31mTypeError\u001b[0m                                 Traceback (most recent call last)",
            "\u001b[0;32m/usr/local/lib/python3.10/dist-packages/pandas/_libs/index.pyx\u001b[0m in \u001b[0;36mpandas._libs.index.IndexEngine._get_loc_duplicates\u001b[0;34m()\u001b[0m\n",
            "\u001b[0;31mTypeError\u001b[0m: '<' not supported between instances of 'str' and 'int'",
            "\nDuring handling of the above exception, another exception occurred:\n",
            "\u001b[0;31mKeyError\u001b[0m                                  Traceback (most recent call last)",
            "\u001b[0;32m/usr/local/lib/python3.10/dist-packages/pandas/core/indexes/base.py\u001b[0m in \u001b[0;36mget_loc\u001b[0;34m(self, key)\u001b[0m\n\u001b[1;32m   3652\u001b[0m         \u001b[0;32mtry\u001b[0m\u001b[0;34m:\u001b[0m\u001b[0;34m\u001b[0m\u001b[0;34m\u001b[0m\u001b[0m\n\u001b[0;32m-> 3653\u001b[0;31m             \u001b[0;32mreturn\u001b[0m \u001b[0mself\u001b[0m\u001b[0;34m.\u001b[0m\u001b[0m_engine\u001b[0m\u001b[0;34m.\u001b[0m\u001b[0mget_loc\u001b[0m\u001b[0;34m(\u001b[0m\u001b[0mcasted_key\u001b[0m\u001b[0;34m)\u001b[0m\u001b[0;34m\u001b[0m\u001b[0;34m\u001b[0m\u001b[0m\n\u001b[0m\u001b[1;32m   3654\u001b[0m         \u001b[0;32mexcept\u001b[0m \u001b[0mKeyError\u001b[0m \u001b[0;32mas\u001b[0m \u001b[0merr\u001b[0m\u001b[0;34m:\u001b[0m\u001b[0;34m\u001b[0m\u001b[0;34m\u001b[0m\u001b[0m\n",
            "\u001b[0;32m/usr/local/lib/python3.10/dist-packages/pandas/_libs/index.pyx\u001b[0m in \u001b[0;36mpandas._libs.index.IndexEngine.get_loc\u001b[0;34m()\u001b[0m\n",
            "\u001b[0;32m/usr/local/lib/python3.10/dist-packages/pandas/_libs/index.pyx\u001b[0m in \u001b[0;36mpandas._libs.index.IndexEngine.get_loc\u001b[0;34m()\u001b[0m\n",
            "\u001b[0;32m/usr/local/lib/python3.10/dist-packages/pandas/_libs/index.pyx\u001b[0m in \u001b[0;36mpandas._libs.index.IndexEngine._get_loc_duplicates\u001b[0;34m()\u001b[0m\n",
            "\u001b[0;31mKeyError\u001b[0m: 0",
            "\nThe above exception was the direct cause of the following exception:\n",
            "\u001b[0;31mKeyError\u001b[0m                                  Traceback (most recent call last)",
            "\u001b[0;32m<ipython-input-46-7f0235948a46>\u001b[0m in \u001b[0;36m<cell line: 1>\u001b[0;34m()\u001b[0m\n\u001b[0;32m----> 1\u001b[0;31m \u001b[0mcalcular_variacao_explicada\u001b[0m\u001b[0;34m(\u001b[0m\u001b[0mtabela\u001b[0m\u001b[0;34m,\u001b[0m \u001b[0mheaders\u001b[0m\u001b[0;34m,\u001b[0m \u001b[0mrepeticoes\u001b[0m\u001b[0;34m)\u001b[0m\u001b[0;34m\u001b[0m\u001b[0;34m\u001b[0m\u001b[0m\n\u001b[0m",
            "\u001b[0;32m<ipython-input-45-030c3fac9d7a>\u001b[0m in \u001b[0;36mcalcular_variacao_explicada\u001b[0;34m(tabela, headers, repeticoes)\u001b[0m\n\u001b[1;32m     47\u001b[0m \u001b[0;34m\u001b[0m\u001b[0m\n\u001b[1;32m     48\u001b[0m     \u001b[0;32mfor\u001b[0m \u001b[0mfactor\u001b[0m \u001b[0;32min\u001b[0m \u001b[0mfactors\u001b[0m\u001b[0;34m:\u001b[0m\u001b[0;34m\u001b[0m\u001b[0;34m\u001b[0m\u001b[0m\n\u001b[0;32m---> 49\u001b[0;31m         \u001b[0;32mif\u001b[0m \u001b[0misinstance\u001b[0m\u001b[0;34m(\u001b[0m\u001b[0mdf\u001b[0m\u001b[0;34m[\u001b[0m\u001b[0mfactor\u001b[0m\u001b[0;34m]\u001b[0m\u001b[0;34m[\u001b[0m\u001b[0;36m0\u001b[0m\u001b[0;34m]\u001b[0m\u001b[0;34m,\u001b[0m \u001b[0mlist\u001b[0m\u001b[0;34m)\u001b[0m\u001b[0;34m:\u001b[0m\u001b[0;34m\u001b[0m\u001b[0;34m\u001b[0m\u001b[0m\n\u001b[0m\u001b[1;32m     50\u001b[0m             \u001b[0mlevel_means\u001b[0m \u001b[0;34m=\u001b[0m \u001b[0mdf\u001b[0m\u001b[0;34m.\u001b[0m\u001b[0mexplode\u001b[0m\u001b[0;34m(\u001b[0m\u001b[0mfactor\u001b[0m\u001b[0;34m)\u001b[0m\u001b[0;34m\u001b[0m\u001b[0;34m\u001b[0m\u001b[0m\n\u001b[1;32m     51\u001b[0m             \u001b[0mlevel_means\u001b[0m\u001b[0;34m[\u001b[0m\u001b[0my_col\u001b[0m\u001b[0;34m]\u001b[0m \u001b[0;34m=\u001b[0m \u001b[0mlevel_means\u001b[0m\u001b[0;34m[\u001b[0m\u001b[0my_col\u001b[0m\u001b[0;34m]\u001b[0m\u001b[0;34m.\u001b[0m\u001b[0mapply\u001b[0m\u001b[0;34m(\u001b[0m\u001b[0;32mlambda\u001b[0m \u001b[0mx\u001b[0m\u001b[0;34m:\u001b[0m \u001b[0mnp\u001b[0m\u001b[0;34m.\u001b[0m\u001b[0mmean\u001b[0m\u001b[0;34m(\u001b[0m\u001b[0mx\u001b[0m\u001b[0;34m)\u001b[0m \u001b[0;32mif\u001b[0m \u001b[0misinstance\u001b[0m\u001b[0;34m(\u001b[0m\u001b[0mx\u001b[0m\u001b[0;34m,\u001b[0m \u001b[0mlist\u001b[0m\u001b[0;34m)\u001b[0m \u001b[0;32melse\u001b[0m \u001b[0mx\u001b[0m\u001b[0;34m)\u001b[0m\u001b[0;34m\u001b[0m\u001b[0;34m\u001b[0m\u001b[0m\n",
            "\u001b[0;32m/usr/local/lib/python3.10/dist-packages/pandas/core/frame.py\u001b[0m in \u001b[0;36m__getitem__\u001b[0;34m(self, key)\u001b[0m\n\u001b[1;32m   3759\u001b[0m             \u001b[0;32mif\u001b[0m \u001b[0mself\u001b[0m\u001b[0;34m.\u001b[0m\u001b[0mcolumns\u001b[0m\u001b[0;34m.\u001b[0m\u001b[0mnlevels\u001b[0m \u001b[0;34m>\u001b[0m \u001b[0;36m1\u001b[0m\u001b[0;34m:\u001b[0m\u001b[0;34m\u001b[0m\u001b[0;34m\u001b[0m\u001b[0m\n\u001b[1;32m   3760\u001b[0m                 \u001b[0;32mreturn\u001b[0m \u001b[0mself\u001b[0m\u001b[0;34m.\u001b[0m\u001b[0m_getitem_multilevel\u001b[0m\u001b[0;34m(\u001b[0m\u001b[0mkey\u001b[0m\u001b[0;34m)\u001b[0m\u001b[0;34m\u001b[0m\u001b[0;34m\u001b[0m\u001b[0m\n\u001b[0;32m-> 3761\u001b[0;31m             \u001b[0mindexer\u001b[0m \u001b[0;34m=\u001b[0m \u001b[0mself\u001b[0m\u001b[0;34m.\u001b[0m\u001b[0mcolumns\u001b[0m\u001b[0;34m.\u001b[0m\u001b[0mget_loc\u001b[0m\u001b[0;34m(\u001b[0m\u001b[0mkey\u001b[0m\u001b[0;34m)\u001b[0m\u001b[0;34m\u001b[0m\u001b[0;34m\u001b[0m\u001b[0m\n\u001b[0m\u001b[1;32m   3762\u001b[0m             \u001b[0;32mif\u001b[0m \u001b[0mis_integer\u001b[0m\u001b[0;34m(\u001b[0m\u001b[0mindexer\u001b[0m\u001b[0;34m)\u001b[0m\u001b[0;34m:\u001b[0m\u001b[0;34m\u001b[0m\u001b[0;34m\u001b[0m\u001b[0m\n\u001b[1;32m   3763\u001b[0m                 \u001b[0mindexer\u001b[0m \u001b[0;34m=\u001b[0m \u001b[0;34m[\u001b[0m\u001b[0mindexer\u001b[0m\u001b[0;34m]\u001b[0m\u001b[0;34m\u001b[0m\u001b[0;34m\u001b[0m\u001b[0m\n",
            "\u001b[0;32m/usr/local/lib/python3.10/dist-packages/pandas/core/indexes/base.py\u001b[0m in \u001b[0;36mget_loc\u001b[0;34m(self, key)\u001b[0m\n\u001b[1;32m   3653\u001b[0m             \u001b[0;32mreturn\u001b[0m \u001b[0mself\u001b[0m\u001b[0;34m.\u001b[0m\u001b[0m_engine\u001b[0m\u001b[0;34m.\u001b[0m\u001b[0mget_loc\u001b[0m\u001b[0;34m(\u001b[0m\u001b[0mcasted_key\u001b[0m\u001b[0;34m)\u001b[0m\u001b[0;34m\u001b[0m\u001b[0;34m\u001b[0m\u001b[0m\n\u001b[1;32m   3654\u001b[0m         \u001b[0;32mexcept\u001b[0m \u001b[0mKeyError\u001b[0m \u001b[0;32mas\u001b[0m \u001b[0merr\u001b[0m\u001b[0;34m:\u001b[0m\u001b[0;34m\u001b[0m\u001b[0;34m\u001b[0m\u001b[0m\n\u001b[0;32m-> 3655\u001b[0;31m             \u001b[0;32mraise\u001b[0m \u001b[0mKeyError\u001b[0m\u001b[0;34m(\u001b[0m\u001b[0mkey\u001b[0m\u001b[0;34m)\u001b[0m \u001b[0;32mfrom\u001b[0m \u001b[0merr\u001b[0m\u001b[0;34m\u001b[0m\u001b[0;34m\u001b[0m\u001b[0m\n\u001b[0m\u001b[1;32m   3656\u001b[0m         \u001b[0;32mexcept\u001b[0m \u001b[0mTypeError\u001b[0m\u001b[0;34m:\u001b[0m\u001b[0;34m\u001b[0m\u001b[0;34m\u001b[0m\u001b[0m\n\u001b[1;32m   3657\u001b[0m             \u001b[0;31m# If we have a listlike key, _check_indexing_error will raise\u001b[0m\u001b[0;34m\u001b[0m\u001b[0;34m\u001b[0m\u001b[0m\n",
            "\u001b[0;31mKeyError\u001b[0m: 0"
          ]
        }
      ]
    }
  ]
}