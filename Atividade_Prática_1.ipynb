{
  "nbformat": 4,
  "nbformat_minor": 0,
  "metadata": {
    "colab": {
      "provenance": [],
      "authorship_tag": "ABX9TyNUYvN5LgDUFzNy381a+4FW",
      "include_colab_link": true
    },
    "kernelspec": {
      "name": "python3",
      "display_name": "Python 3"
    },
    "language_info": {
      "name": "python"
    }
  },
  "cells": [
    {
      "cell_type": "markdown",
      "metadata": {
        "id": "view-in-github",
        "colab_type": "text"
      },
      "source": [
        "<a href=\"https://colab.research.google.com/github/mariasald/avd-2024-01/blob/main/Atividade_Pr%C3%A1tica_1.ipynb\" target=\"_parent\"><img src=\"https://colab.research.google.com/assets/colab-badge.svg\" alt=\"Open In Colab\"/></a>"
      ]
    },
    {
      "cell_type": "code",
      "source": [
        "import matplotlib.pyplot as plt"
      ],
      "metadata": {
        "id": "v_oFTf9zct9h"
      },
      "execution_count": null,
      "outputs": []
    },
    {
      "cell_type": "code",
      "source": [
        "amostra = [59, 61, 74, 84, 86, 75, 96, 92, 53, 66,\n",
        "           58, 49, 71, 72, 73, 66, 91, 68, 79, 79,\n",
        "           64, 84, 86, 79, 88, 59, 98, 82, 69, 75,\n",
        "           84, 61, 92, 84, 82, 62, 61, 88, 74, 58,\n",
        "           60, 62, 75, 86, 88, 72, 90, 96, 51, 64]\n",
        "\n",
        "def distribuicaoFreq(amostra):\n",
        "    distribuicao = {}\n",
        "    for num in amostra:\n",
        "        if num in distribuicao:\n",
        "            distribuicao[num] += 1\n",
        "        else:\n",
        "            distribuicao[num] = 1\n",
        "    return distribuicao\n",
        "\n",
        "print(distribuicaoFreq(amostra))"
      ],
      "metadata": {
        "colab": {
          "base_uri": "https://localhost:8080/"
        },
        "id": "mWy_JvZQKZZ_",
        "outputId": "692bda9a-47dc-4096-cf56-57da83d2de97"
      },
      "execution_count": null,
      "outputs": [
        {
          "output_type": "stream",
          "name": "stdout",
          "text": [
            "{59: 2, 61: 3, 74: 2, 84: 4, 86: 3, 75: 3, 96: 2, 92: 2, 53: 1, 66: 2, 58: 2, 49: 1, 71: 1, 72: 2, 73: 1, 91: 1, 68: 1, 79: 3, 64: 2, 88: 3, 98: 1, 82: 2, 69: 1, 62: 2, 60: 1, 90: 1, 51: 1}\n"
          ]
        }
      ]
    },
    {
      "cell_type": "code",
      "execution_count": null,
      "metadata": {
        "id": "BL70FBIf6r2h",
        "colab": {
          "base_uri": "https://localhost:8080/"
        },
        "outputId": "23cfb380-3e39-47a8-b603-fe1db0a28aaf"
      },
      "outputs": [
        {
          "output_type": "stream",
          "name": "stdout",
          "text": [
            "2.8000000000000003\n"
          ]
        }
      ],
      "source": [
        "amostra = [2.5, 3.5, 2.8, 1.9, 2.4, 2.6, 3.4, 2.8, 3.6, 2.5]\n",
        "\n",
        "def mediaAritmetica(amostra):\n",
        "  soma = sum(amostra)\n",
        "  media = soma / len(amostra)\n",
        "  return media\n",
        "\n",
        "print(mediaAritmetica(amostra))"
      ]
    }
  ]
}