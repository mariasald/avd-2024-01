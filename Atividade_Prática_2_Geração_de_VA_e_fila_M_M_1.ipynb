{
  "nbformat": 4,
  "nbformat_minor": 0,
  "metadata": {
    "colab": {
      "provenance": [],
      "include_colab_link": true
    },
    "kernelspec": {
      "name": "python3",
      "display_name": "Python 3"
    },
    "language_info": {
      "name": "python"
    }
  },
  "cells": [
    {
      "cell_type": "markdown",
      "metadata": {
        "id": "view-in-github",
        "colab_type": "text"
      },
      "source": [
        "<a href=\"https://colab.research.google.com/github/mariasald/avd-2024-01/blob/main/Atividade_Pr%C3%A1tica_2_Gera%C3%A7%C3%A3o_de_VA_e_fila_M_M_1.ipynb\" target=\"_parent\"><img src=\"https://colab.research.google.com/assets/colab-badge.svg\" alt=\"Open In Colab\"/></a>"
      ]
    },
    {
      "cell_type": "markdown",
      "source": [
        "#Alunos\n",
        "\n",
        "* Gabriel César Tavares Ferreira - 21854868\n",
        "* Maria Luiza Saldanha - 22153140"
      ],
      "metadata": {
        "id": "DpEPIYzRiuls"
      }
    },
    {
      "cell_type": "markdown",
      "source": [
        "#Bibliotecas Utilizadas"
      ],
      "metadata": {
        "id": "YqiVw_52i58r"
      }
    },
    {
      "cell_type": "code",
      "source": [
        "import math\n",
        "import numpy as np\n",
        "import random\n",
        "import matplotlib.pyplot as plt\n",
        "import scipy.stats\n",
        "from scipy.special import factorial"
      ],
      "metadata": {
        "id": "s8Bu6ZmAi5MD"
      },
      "execution_count": 1,
      "outputs": []
    },
    {
      "cell_type": "markdown",
      "source": [
        "#BibAD (1o Trabaho)\n",
        "\n"
      ],
      "metadata": {
        "id": "wVneRypn2auG"
      }
    },
    {
      "cell_type": "code",
      "source": [
        "def mediaAritmetica(nums):\n",
        "    return round((sum(nums) / len(nums)), 3)\n",
        "\n",
        "def var_amostral(nums):\n",
        "  med = mediaAritmetica(nums)\n",
        "  quad = np.sum(np.fromiter(((x - med) * (x - med) for x in nums), dtype=float))\n",
        "  var = quad / len(nums)\n",
        "  return round(var)\n",
        "\n",
        "def desvio_padrao(nums):\n",
        "  return round(math.sqrt(var_amostral(nums)))\n",
        "\n",
        "def intervaloConfianca(nums, z):\n",
        "    nivelConfianca = z / 100\n",
        "    a = 1 - nivelConfianca\n",
        "    z_a = 1 - (a / 2)\n",
        "    distribuicao = scipy.stats.norm.ppf(z_a)\n",
        "    erroPadrao = distribuicao * desvio_padrao(nums) / math.sqrt(len(nums))\n",
        "\n",
        "    return [round((mediaAritmetica(nums) - erroPadrao), 3), round((mediaAritmetica(nums) + erroPadrao), 3)]"
      ],
      "metadata": {
        "id": "No_QLIkp2lCo"
      },
      "execution_count": 2,
      "outputs": []
    },
    {
      "cell_type": "markdown",
      "source": [
        "# 1. Implementar em Python uma VA Exponencial chamada X, com média β=1/9 utilizando o gerador de N.A. do Python.\n",
        "\n",
        "VA Exponencial com média β\n",
        " * o Gerar U ~ U[0, 1]\n",
        " * o Retornar $X = -β \\ ln (1 – U)$\n"
      ],
      "metadata": {
        "id": "cKOf5xIzi_n7"
      }
    },
    {
      "cell_type": "code",
      "execution_count": 3,
      "metadata": {
        "id": "yQqV7dx0iqFj",
        "colab": {
          "base_uri": "https://localhost:8080/"
        },
        "outputId": "6de72448-57b5-4d0b-9349-df0649f3ff57"
      },
      "outputs": [
        {
          "output_type": "stream",
          "name": "stdout",
          "text": [
            "0.011\n"
          ]
        }
      ],
      "source": [
        "def va_exponencial(media):\n",
        "  u = random.random()\n",
        "  x = -media * math.log (1 - u)\n",
        "  return round(x,3)\n",
        "\n",
        "print(va_exponencial(1/9)) #nao esquecer de ver quando receber taxa e quando receber media!!!!!"
      ]
    },
    {
      "cell_type": "markdown",
      "source": [
        "Primeiros 10 resultados para média β = 1/9 (taxa = 9):\n",
        "\n",
        "0.023,\n",
        "0.0,\n",
        "0.156,\n",
        "0.078,\n",
        "0.016,\n",
        "0.014,\n",
        "0.435,\n",
        "0.027,\n",
        "0.077,\n",
        "0.002"
      ],
      "metadata": {
        "id": "_Vrzn2Nfi0gX"
      }
    },
    {
      "cell_type": "markdown",
      "source": [
        "A distribuição exponencial é usada para modelagem do tempo de espera em filas e do tempo de vida de componentes, por exemplo.\n",
        "A função va_exponencial é usada para gerar tais valores de acordo com essa distribuição, dada uma média ou uma taxa."
      ],
      "metadata": {
        "id": "0GUfpdcQdI8e"
      }
    },
    {
      "cell_type": "markdown",
      "source": [
        "# 2. Implementar em Python uma VA Erlang chamada Y, com 4 estágios e média β=1/9 utilizando o gerador de N.A. do Python.\n",
        "\n",
        "VA Erlang com k estágios e média λ\n",
        " * o Gerar Ui ~ U[0, 1], i= 1,..., k\n",
        " * o Retornar $X=\\frac{-\\lambda}{k}ln(\\displaystyle\\prod_{i=1}^k U^i)$"
      ],
      "metadata": {
        "id": "6ttSOtFfjSiL"
      }
    },
    {
      "cell_type": "code",
      "source": [
        "def va_erlang(media, estagios):\n",
        "  Ui = [random.random() for _ in range(estagios)]\n",
        "  produto_Ui = 1.0\n",
        "  for numero in Ui:\n",
        "    produto_Ui *= numero\n",
        "\n",
        "  y = -media * estagios * math.log(produto_Ui)\n",
        "\n",
        "  return round(y,3)\n",
        "\n",
        "print(va_erlang(1/9, 4))"
      ],
      "metadata": {
        "id": "noUYQsk4jb1V",
        "colab": {
          "base_uri": "https://localhost:8080/"
        },
        "outputId": "1441f0e1-ed36-4469-f192-77d3fec037a9"
      },
      "execution_count": 4,
      "outputs": [
        {
          "output_type": "stream",
          "name": "stdout",
          "text": [
            "0.82\n"
          ]
        }
      ]
    },
    {
      "cell_type": "markdown",
      "source": [
        "Primeiros 10 resultados para média β = 1/9 (taxa = 9) e 4 estágios:\n",
        "\n",
        "1.479,\n",
        "2.23,\n",
        "1.504,\n",
        "0.824,\n",
        "1.268,\n",
        "2.888,\n",
        "3.004,\n",
        "1.032,\n",
        "3.98,\n",
        "2.034."
      ],
      "metadata": {
        "id": "vo8wQhpbo6Ft"
      }
    },
    {
      "cell_type": "markdown",
      "source": [
        "A distribuição Erlang é utilizada em situações onde eventos ocorrem em fases ou estágios como no processamento de filas.\n",
        "\n",
        "A função va_erlang gera valores aleatórios seguindo a distribuição, permitindo simulações para múltiplos eventos exponenciais precisam ser modelados em conjunto."
      ],
      "metadata": {
        "id": "r8B10Oq6Ow3V"
      }
    },
    {
      "cell_type": "markdown",
      "source": [
        "# 3. Gerar a função cumulativa de distribuição F(x) e F(y)."
      ],
      "metadata": {
        "id": "lFoWayVyjY8j"
      }
    },
    {
      "cell_type": "markdown",
      "source": [
        "É uma função que representa a probabilidade acumulada de uma variável aleatória ser menor ou igual a um determinado valor."
      ],
      "metadata": {
        "id": "kF_yM5hhTpkF"
      }
    },
    {
      "cell_type": "code",
      "source": [
        "def cumulativa_exponencial(taxa, x_min=0, x_max=5, pontos=100):\n",
        "  valores_x = np.linspace(x_min, x_max, pontos)\n",
        "  pontos_cumulativo = 1 - np.exp(-taxa * valores_x)\n",
        "  return valores_x, pontos_cumulativo"
      ],
      "metadata": {
        "id": "1L4sKmIonyqw"
      },
      "execution_count": 5,
      "outputs": []
    },
    {
      "cell_type": "markdown",
      "source": [
        "A função cumulativa_exponencial é utilizada para visualizar a distribuição acumulada de tempos entre eventos a distribuição exponencial."
      ],
      "metadata": {
        "id": "Rj5zohkiqcz7"
      }
    },
    {
      "cell_type": "code",
      "source": [
        "def cumulativa_erlang(taxa, estagios, y_min=0, y_max=10, pontos=100):\n",
        "    valores_y = np.linspace(y_min, y_max, pontos)\n",
        "    pontos_cumulativo = []\n",
        "\n",
        "    for y in valores_y:\n",
        "        soma = 0\n",
        "        for i in range(estagios):\n",
        "            soma += (taxa * y)**i / factorial(i)\n",
        "        cdf = 1 - np.exp(-taxa * y) * soma\n",
        "        pontos_cumulativo.append(cdf)\n",
        "\n",
        "    return valores_y, pontos_cumulativo"
      ],
      "metadata": {
        "id": "w28IErPwqe9w"
      },
      "execution_count": 6,
      "outputs": []
    },
    {
      "cell_type": "markdown",
      "source": [
        "A função cumulativa_erlang é utlizada para visualizar a distribuição acumulada de tempos de serviço com eventos ocorrem em múltiplos estágios."
      ],
      "metadata": {
        "id": "W3UYimKHsqUk"
      }
    },
    {
      "cell_type": "markdown",
      "source": [
        "# 4. Plotar F(x) e F(y)."
      ],
      "metadata": {
        "id": "m_DnSAM2jgGD"
      }
    },
    {
      "cell_type": "code",
      "source": [
        "valores_x, pontos_cumulativo = cumulativa_exponencial(2)\n",
        "\n",
        "plt.plot(valores_x, pontos_cumulativo, label=f'λ')\n",
        "plt.xlabel('x')\n",
        "plt.ylabel('F(x)')\n",
        "plt.title('Função cumulativa de distribuição exponencial')\n",
        "plt.legend()\n",
        "plt.grid(True)\n",
        "plt.show()"
      ],
      "metadata": {
        "id": "-7aBOH06lU9c",
        "colab": {
          "base_uri": "https://localhost:8080/",
          "height": 472
        },
        "outputId": "e2e0841d-f7a0-42e5-c2cc-1bea3fe5cfda"
      },
      "execution_count": 7,
      "outputs": [
        {
          "output_type": "display_data",
          "data": {
            "text/plain": [
              "<Figure size 640x480 with 1 Axes>"
            ],
            "image/png": "[encoded data removed]"
          },
          "metadata": {}
        }
      ]
    },
    {
      "cell_type": "code",
      "source": [
        "valores_y, pontos_cumulativo = cumulativa_erlang(1/9, 4)\n",
        "\n",
        "plt.plot(valores_y, pontos_cumulativo, label=f'Função Erlang (λ = taxa, k = estágios)')\n",
        "plt.xlabel('y')\n",
        "plt.ylabel('F(y)')\n",
        "plt.title('Função cumulativa de distribuição Erlang')\n",
        "plt.legend()\n",
        "plt.grid(True)\n",
        "plt.show()"
      ],
      "metadata": {
        "colab": {
          "base_uri": "https://localhost:8080/",
          "height": 472
        },
        "id": "6F-TOZpwxOeS",
        "outputId": "95023c19-6606-4efb-bbef-a00282daef76"
      },
      "execution_count": 8,
      "outputs": [
        {
          "output_type": "display_data",
          "data": {
            "text/plain": [
              "<Figure size 640x480 with 1 Axes>"
            ],
            "image/png": "[encoded data removed]"
          },
          "metadata": {}
        }
      ]
    },
    {
      "cell_type": "markdown",
      "source": [
        "# 5. Implementar em Python uma fila M/M/1.\n",
        "  * taxa de entrada: λ=9 clientes por segundo\n",
        "  * taxa de serviço: μ=10 clientes por segundo.\n"
      ],
      "metadata": {
        "id": "44n3BTeAjgkL"
      }
    },
    {
      "cell_type": "code",
      "source": [
        "def fila_mm1(taxa_chegada, taxa_servico, clientes_total):\n",
        "    rho = taxa_chegada / taxa_servico\n",
        "    E_X = (rho / taxa_servico) / (1 - rho)\n",
        "\n",
        "    tempos_chegada = np.cumsum([va_exponencial(1/taxa_chegada) for _ in range(clientes_total)])\n",
        "    tempos_servico = [va_exponencial(1/taxa_servico) for _ in range(clientes_total)]\n",
        "\n",
        "    tempos_espera = np.zeros(clientes_total)\n",
        "    tempo_livre = 0\n",
        "\n",
        "    for i in range(clientes_total):\n",
        "        if tempos_chegada[i] > tempo_livre:\n",
        "            tempos_espera[i] = 0\n",
        "            tempo_livre = tempos_chegada[i] + tempos_servico[i]\n",
        "        else:\n",
        "            tempos_espera[i] = tempo_livre - tempos_chegada[i]\n",
        "            tempo_livre += tempos_servico[i]\n",
        "\n",
        "    X_n = np.mean(tempos_espera)\n",
        "    confidencia = 0.95\n",
        "    z = scipy.stats.norm.ppf(1 - (1 - confidencia) / 2)\n",
        "    erro_padrao = np.std(tempos_espera, ddof=1) / np.sqrt(clientes_total)\n",
        "    intervalo_confianca = (X_n - z * erro_padrao, X_n + z * erro_padrao)\n",
        "\n",
        "    return {\n",
        "        \"tempo_medio_espera_simulado\": round(X_n, 3),\n",
        "        \"intervalo_confianca_95\": (round(intervalo_confianca[0], 3), round(intervalo_confianca[1], 3)),\n",
        "        \"tempo_medio_espera_teorico\": round(E_X, 3)\n",
        "    }\n"
      ],
      "metadata": {
        "id": "FdeGgJZ69zla"
      },
      "execution_count": 16,
      "outputs": []
    },
    {
      "cell_type": "markdown",
      "source": [
        "O tempo de espera representa o período de tempo que um cliente aguarda até ser atendido. Em uma fila M/M/1, como na função fila_mm1, o tempo de espera é determinado pela diferença entre o momento em que o cliente chega ao sistema e o momento em que o serviço é iniciado para esse cliente.\n",
        "\n",
        "A média de execução se refere ao tempo médio que um determinado atendimento leva para ser concluído. A média de execução está relacionada ao tempo médio que um cliente leva desde sua chegada até a conclusão do serviço, incluindo tanto o tempo de espera na fila quanto o tempo de serviço em si.\n",
        "\n",
        "Já o intervalo de confiança, indica que existe uma probabilidade de 95% de que a verdadeira média do tempo de espera esteja dentro do intervalo calculado."
      ],
      "metadata": {
        "id": "RiVpQMELbRfc"
      }
    },
    {
      "cell_type": "markdown",
      "source": [
        "# 6. Executar a simulação da fila M/M/1 gerando $n$ clientes:\n",
        "\n",
        "* $n=10^3,n=10^6,n=10^9,n=10^{12}$\n",
        "\n",
        "* Calcular o tempo de espera $x_{i}$ na fila para cada cliente $i$\n",
        "\n",
        "\n",
        "* Estimar o tempo médio $\\bar{X}(n)$ de espera na fila M/M/1 e um intervalo de confiança de 95%.\n",
        "\n",
        "* Comparar com o valor esperado. Da Teoria das Filas, esse valor é dado por $E[X]=\\rho \\frac{1/\\mu}{1-\\rho}$, onde $p=\\frac{\\lambda}{\\mu}$"
      ],
      "metadata": {
        "id": "5XYSb6z4jjys"
      }
    },
    {
      "cell_type": "code",
      "source": [
        "resultados = fila_mm1(9, 10, 10**3)\n",
        "print(resultados)"
      ],
      "metadata": {
        "id": "YlTfMzK3lT-7",
        "colab": {
          "base_uri": "https://localhost:8080/"
        },
        "outputId": "4cdb786c-e7d7-4f9c-e9d7-5b0089eeab9b"
      },
      "execution_count": 24,
      "outputs": [
        {
          "output_type": "stream",
          "name": "stdout",
          "text": [
            "{'tempo_medio_espera_simulado': 1.216, 'intervalo_confianca_95': (1.139, 1.292), 'tempo_medio_espera_teorico': 0.9}\n"
          ]
        }
      ]
    },
    {
      "cell_type": "markdown",
      "source": [
        "Tempo média de espera: O tempo médio de espera simulado é de aproximadamente 1.216 unidades de tempo. O valor teórico é de 0.9 unidades de tempo.\n",
        "\n",
        "O intervalo de confiança de 95% para o tempo médio de espera é de aproximadamente (1.139, 1.292) unidades de tempo."
      ],
      "metadata": {
        "id": "X5optOIvcKry"
      }
    },
    {
      "cell_type": "code",
      "source": [
        "resultados = fila_mm1(9, 10, 10**6)\n",
        "print(resultados)"
      ],
      "metadata": {
        "colab": {
          "base_uri": "https://localhost:8080/"
        },
        "id": "clniPd2TJn-q",
        "outputId": "f5535c1e-a680-4022-f188-dee76c4e79f2"
      },
      "execution_count": 29,
      "outputs": [
        {
          "output_type": "stream",
          "name": "stdout",
          "text": [
            "{'tempo_medio_espera_simulado': 0.853, 'intervalo_confianca_95': (0.852, 0.855), 'tempo_medio_espera_teorico': 0.9}\n"
          ]
        }
      ]
    },
    {
      "cell_type": "markdown",
      "source": [
        "O tempo médio de espera simulado é de aproximadamente 0.925 unidades de tempo. O valor teórico é de 0.9 unidades de tempo.\n",
        "\n",
        "O intervalo de confiança de 95% para o tempo médio de espera é de aproximadamente (0.923, 0.927) unidades de tempo."
      ],
      "metadata": {
        "id": "603MjlM2dOYP"
      }
    },
    {
      "cell_type": "code",
      "source": [
        "resultados = fila_mm1(9, 10, 10**9)\n",
        "print(resultados)"
      ],
      "metadata": {
        "id": "J4x9_3kkJsrx"
      },
      "execution_count": null,
      "outputs": []
    },
    {
      "cell_type": "code",
      "source": [
        "resultados = fila_mm1(9, 10, 10**12)\n",
        "print(resultados)"
      ],
      "metadata": {
        "id": "XtlODapslqsz"
      },
      "execution_count": null,
      "outputs": []
    },
    {
      "cell_type": "markdown",
      "source": [],
      "metadata": {
        "id": "XpxE6JQzdVC-"
      }
    }
  ]
}