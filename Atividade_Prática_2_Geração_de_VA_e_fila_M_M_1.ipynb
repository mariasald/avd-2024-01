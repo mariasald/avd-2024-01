{
  "nbformat": 4,
  "nbformat_minor": 0,
  "metadata": {
    "colab": {
      "provenance": [],
      "authorship_tag": "ABX9TyMoEG6pjnerL3uYmQMOQPsv",
      "include_colab_link": true
    },
    "kernelspec": {
      "name": "python3",
      "display_name": "Python 3"
    },
    "language_info": {
      "name": "python"
    }
  },
  "cells": [
    {
      "cell_type": "markdown",
      "metadata": {
        "id": "view-in-github",
        "colab_type": "text"
      },
      "source": [
        "<a href=\"https://colab.research.google.com/github/mariasald/avd-2024-01/blob/main/Atividade_Pr%C3%A1tica_2_Gera%C3%A7%C3%A3o_de_VA_e_fila_M_M_1.ipynb\" target=\"_parent\"><img src=\"https://colab.research.google.com/assets/colab-badge.svg\" alt=\"Open In Colab\"/></a>"
      ]
    },
    {
      "cell_type": "markdown",
      "source": [
        "#Alunos\n",
        "\n",
        "* Gabriel César Tavares Ferreira - 21854868\n",
        "* Maria Luiza Saldanha - 22153140"
      ],
      "metadata": {
        "id": "DpEPIYzRiuls"
      }
    },
    {
      "cell_type": "markdown",
      "source": [
        "#Bibliotecas Utilizadas"
      ],
      "metadata": {
        "id": "YqiVw_52i58r"
      }
    },
    {
      "cell_type": "code",
      "source": [],
      "metadata": {
        "id": "s8Bu6ZmAi5MD"
      },
      "execution_count": null,
      "outputs": []
    },
    {
      "cell_type": "markdown",
      "source": [
        "# 1. Implementar em Python uma VA Exponencial chamada X, com média β=1/9 utilizando o gerador de N.A. do Python.\n",
        "\n",
        "VA Exponencial com média β\n",
        " * o Gerar U ~ U[0, 1]\n",
        " * o Retornar $X = -β \\ ln (1 – U)$\n"
      ],
      "metadata": {
        "id": "cKOf5xIzi_n7"
      }
    },
    {
      "cell_type": "code",
      "execution_count": null,
      "metadata": {
        "id": "yQqV7dx0iqFj"
      },
      "outputs": [],
      "source": []
    },
    {
      "cell_type": "markdown",
      "source": [
        "# 2. Implementar em Python uma VA Erlang chamada Y, com 4 estágios e média β=1/9 utilizando o gerador de N.A. do Python.\n",
        "\n",
        "VA Erlang com k estágios e média λ\n",
        " * o Gerar Ui ~ U[0, 1], i= 1,..., k\n",
        " * o Retornar $X=\\frac{-\\lambda}{k}ln(\\displaystyle\\prod_{i=1}^k U^i)$"
      ],
      "metadata": {
        "id": "6ttSOtFfjSiL"
      }
    },
    {
      "cell_type": "code",
      "source": [],
      "metadata": {
        "id": "noUYQsk4jb1V"
      },
      "execution_count": null,
      "outputs": []
    },
    {
      "cell_type": "markdown",
      "source": [
        "# 3. Gerar a função cumulativa de distribuição F(x) e F(y)."
      ],
      "metadata": {
        "id": "lFoWayVyjY8j"
      }
    },
    {
      "cell_type": "code",
      "source": [],
      "metadata": {
        "id": "fGJD1Srojcnj"
      },
      "execution_count": null,
      "outputs": []
    },
    {
      "cell_type": "markdown",
      "source": [
        "# 4. Plotar F(x) e F(y)."
      ],
      "metadata": {
        "id": "m_DnSAM2jgGD"
      }
    },
    {
      "cell_type": "code",
      "source": [],
      "metadata": {
        "id": "-7aBOH06lU9c"
      },
      "execution_count": null,
      "outputs": []
    },
    {
      "cell_type": "markdown",
      "source": [
        "# 5. Implementar em Python uma fila M/M/1.\n",
        "  * taxa de entrada: λ=9 clientes por segundo\n",
        "  * taxa de serviço: μ=10 clientes por segundo.\n"
      ],
      "metadata": {
        "id": "44n3BTeAjgkL"
      }
    },
    {
      "cell_type": "code",
      "source": [],
      "metadata": {
        "id": "HT390Q6HlUij"
      },
      "execution_count": null,
      "outputs": []
    },
    {
      "cell_type": "markdown",
      "source": [
        "# 6. Executar a simulação da fila M/M/1 gerando $n$ clientes:\n",
        "\n",
        "* $n=10^3,n=10^6,n=10^9,n=10^{12}$\n"
      ],
      "metadata": {
        "id": "5XYSb6z4jjys"
      }
    },
    {
      "cell_type": "code",
      "source": [],
      "metadata": {
        "id": "YlTfMzK3lT-7"
      },
      "execution_count": null,
      "outputs": []
    },
    {
      "cell_type": "markdown",
      "source": [
        "# 7. Para cada valor de $n$\n",
        "\n",
        " * Calcular o tempo de espera $x_{i}$ na fila para cada cliente $i$\n",
        "\n",
        "\n",
        " * Estimar o tempo médio $\\bar{X}(n)$ de espera na fila M/M/1 e um intervalo de confiança de 95%.\n",
        "\n",
        " * Comparar com o valor esperado. Da Teoria das Filas, esse valor é dado por $E[X]=\\rho \\frac{1/\\mu}{1-\\rho}$, onde $p=\\frac{\\lambda}{\\mu}$"
      ],
      "metadata": {
        "id": "mjfRv0e5kREL"
      }
    },
    {
      "cell_type": "code",
      "source": [],
      "metadata": {
        "id": "XefWNAnqlTdU"
      },
      "execution_count": null,
      "outputs": []
    }
  ]
}