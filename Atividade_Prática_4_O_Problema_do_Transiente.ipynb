{
  "nbformat": 4,
  "nbformat_minor": 0,
  "metadata": {
    "colab": {
      "provenance": [],
      "authorship_tag": "ABX9TyOYE5+GkZ8B8fe3W42ig0BB",
      "include_colab_link": true
    },
    "kernelspec": {
      "name": "python3",
      "display_name": "Python 3"
    },
    "language_info": {
      "name": "python"
    }
  },
  "cells": [
    {
      "cell_type": "markdown",
      "metadata": {
        "id": "view-in-github",
        "colab_type": "text"
      },
      "source": [
        "<a href=\"https://colab.research.google.com/github/mariasald/avd-2024-01/blob/main/Atividade_Pr%C3%A1tica_4_O_Problema_do_Transiente.ipynb\" target=\"_parent\"><img src=\"https://colab.research.google.com/assets/colab-badge.svg\" alt=\"Open In Colab\"/></a>"
      ]
    },
    {
      "cell_type": "markdown",
      "source": [
        "#**Alunos**\n",
        "\n",
        "* Gabriel César Tavares Ferreira - 21854868\n",
        "* Maria Luiza Saldanha - 22153140"
      ],
      "metadata": {
        "id": "rCTxUQPZO5jA"
      }
    },
    {
      "cell_type": "markdown",
      "source": [
        "#**Bibliotecas Utilizadas**"
      ],
      "metadata": {
        "id": "mQCSksDsX8zg"
      }
    },
    {
      "cell_type": "code",
      "source": [
        "import math\n",
        "import numpy as np\n",
        "import random\n",
        "import matplotlib.pyplot as plt\n",
        "import scipy.stats\n",
        "from scipy.special import factorial\n",
        "from tabulate import tabulate"
      ],
      "metadata": {
        "id": "s8otDwV0YAzX"
      },
      "execution_count": 22,
      "outputs": []
    },
    {
      "cell_type": "markdown",
      "source": [
        "#**BibAD (1o Trabaho)**"
      ],
      "metadata": {
        "id": "Qoq8GtYfZve3"
      }
    },
    {
      "cell_type": "code",
      "source": [
        "def mediaAritmetica(nums):\n",
        "    return round((sum(nums) / len(nums)), 3)\n",
        "\n",
        "def var_amostral(nums):\n",
        "  med = mediaAritmetica(nums)\n",
        "  quad = np.sum(np.fromiter(((x - med) * (x - med) for x in nums), dtype=float))\n",
        "  var = quad / len(nums)\n",
        "  return round(var)\n",
        "\n",
        "def desvio_padrao(nums):\n",
        "  return round(math.sqrt(var_amostral(nums)))\n",
        "\n",
        "def intervaloConfianca(nums, z):\n",
        "    nivelConfianca = z / 100\n",
        "    a = 1 - nivelConfianca\n",
        "    z_a = 1 - (a / 2)\n",
        "    distribuicao = scipy.stats.norm.ppf(z_a)\n",
        "    erroPadrao = distribuicao * desvio_padrao(nums) / math.sqrt(len(nums))\n",
        "\n",
        "    return [round((mediaAritmetica(nums) - erroPadrao), 3), round((mediaAritmetica(nums) + erroPadrao), 3)]"
      ],
      "metadata": {
        "id": "Of4jPrUNZxYv"
      },
      "execution_count": 2,
      "outputs": []
    },
    {
      "cell_type": "markdown",
      "source": [
        "#**BibAD (3° Trabalho)**"
      ],
      "metadata": {
        "id": "y095cGLFaAmO"
      }
    },
    {
      "cell_type": "code",
      "source": [
        "def va_exponencial(media):\n",
        "  u = random.random()\n",
        "  x = -media * math.log (1 - u)\n",
        "  return round(x,3)\n",
        "\n",
        "def e_x(taxa_chegada, taxa_servico):\n",
        "  rho = taxa_chegada / taxa_servico\n",
        "  E_X = (rho / taxa_servico) / (1 - rho)\n",
        "  return E_X\n",
        "\n",
        "print(va_exponencial(1/9)) #nao esquecer de ver quando receber taxa e quando receber media!!!!!\n",
        "\n",
        "def fila_mm1(taxa_chegada, taxa_servico, clientes_total):\n",
        "    E_X = e_x(taxa_chegada, taxa_servico)\n",
        "\n",
        "    tempos_chegada = np.cumsum([va_exponencial(1/taxa_chegada) for _ in range(clientes_total)])\n",
        "    tempos_servico = [va_exponencial(1/taxa_servico) for _ in range(clientes_total)]\n",
        "\n",
        "    tempos_espera = np.zeros(clientes_total)\n",
        "    tempo_livre = 0\n",
        "\n",
        "    for i in range(clientes_total):\n",
        "        if tempos_chegada[i] > tempo_livre:\n",
        "            tempos_espera[i] = 0\n",
        "            tempo_livre = tempos_chegada[i] + tempos_servico[i]\n",
        "        else:\n",
        "            tempos_espera[i] = tempo_livre - tempos_chegada[i]\n",
        "            tempo_livre += tempos_servico[i]\n",
        "\n",
        "    X_n = np.mean(tempos_espera)\n",
        "    confidencia = 0.95\n",
        "    z = scipy.stats.norm.ppf(1 - (1 - confidencia) / 2)\n",
        "    erro_padrao = np.std(tempos_espera, ddof=1) / np.sqrt(clientes_total)\n",
        "    intervalo_confianca = (X_n - z * erro_padrao, X_n + z * erro_padrao)\n",
        "\n",
        "    return round(X_n, 3)\n",
        "\n"
      ],
      "metadata": {
        "colab": {
          "base_uri": "https://localhost:8080/"
        },
        "id": "Slmbgv7faBB-",
        "outputId": "27aab0c4-7ee3-48f9-e239-49a6c9802b15"
      },
      "execution_count": 17,
      "outputs": [
        {
          "output_type": "stream",
          "name": "stdout",
          "text": [
            "0.18\n"
          ]
        }
      ]
    },
    {
      "cell_type": "markdown",
      "source": [
        "#**Parte 1**\n",
        "\n",
        "$\\bar{X}(n)=\\frac{\\sum_{i=1}^n x_i}{n}$\n",
        "\n",
        "* Estimar $\\bar{X}(n)$, o tempo médio de espera em uma fila M/M/1 ($n=10^3,λ=9,μ=10$).\n",
        "* Calcular o valor teórico: $E[X]=\\rho \\frac{1/\\mu}{1-\\rho}, \\; onde \\; \\rho = \\frac{\\lambda}{\\mu}$\n",
        "* Computar o viés (bias): $B=\\bar{X}(n)−E[X]$.\n",
        "* Repetir a simulação r vezes (r=30).\n",
        "* Anotar os resultados em uma tabela.\n",
        "* Analisar os resultados."
      ],
      "metadata": {
        "id": "tDOcEwAEU7mY"
      }
    },
    {
      "cell_type": "code",
      "source": [
        "resultados = fila_mm1(9, 10, 10**3)\n",
        "print(resultados)"
      ],
      "metadata": {
        "id": "MD_9laQuV1Kw",
        "colab": {
          "base_uri": "https://localhost:8080/"
        },
        "outputId": "d9ededa7-61fc-41db-c20d-a7e4ad64a8e2"
      },
      "execution_count": 18,
      "outputs": [
        {
          "output_type": "stream",
          "name": "stdout",
          "text": [
            "0.921\n"
          ]
        }
      ]
    },
    {
      "cell_type": "code",
      "source": [
        "resultados1 = e_x(9, 10)\n",
        "print(resultados1)"
      ],
      "metadata": {
        "colab": {
          "base_uri": "https://localhost:8080/"
        },
        "id": "-TFxfAsLj_UH",
        "outputId": "662d960a-4346-4a76-e487-cce51b93fc13"
      },
      "execution_count": 19,
      "outputs": [
        {
          "output_type": "stream",
          "name": "stdout",
          "text": [
            "0.9000000000000001\n"
          ]
        }
      ]
    },
    {
      "cell_type": "code",
      "source": [
        "bias = resultados-resultados1\n",
        "print(bias)"
      ],
      "metadata": {
        "colab": {
          "base_uri": "https://localhost:8080/"
        },
        "id": "Min38ndWlato",
        "outputId": "d016549a-92d6-4577-bfce-553d08aef220"
      },
      "execution_count": 20,
      "outputs": [
        {
          "output_type": "stream",
          "name": "stdout",
          "text": [
            "0.020999999999999908\n"
          ]
        }
      ]
    },
    {
      "cell_type": "code",
      "source": [
        "result_t = [[\"X\", \"B\"]]\n",
        "for i in range(30):\n",
        "  aux = []\n",
        "  result = fila_mm1(9, 10, 10**3)\n",
        "  bias = result - e_x(9, 10)\n",
        "  aux.append(result)\n",
        "  aux.append(bias)\n",
        "  result_t.append(aux)\n",
        "\n",
        "tabela = tabulate(result_t, headers=\"firstrow\", tablefmt=\"grid\")\n",
        "print(tabela)"
      ],
      "metadata": {
        "colab": {
          "base_uri": "https://localhost:8080/"
        },
        "id": "f5oP3Ii_mBBo",
        "outputId": "764daa5a-7313-4ff4-926d-f92f8b3d1abe"
      },
      "execution_count": 36,
      "outputs": [
        {
          "output_type": "stream",
          "name": "stdout",
          "text": [
            "+-------+--------+\n",
            "|     X |      B |\n",
            "+=======+========+\n",
            "| 2.622 |  1.722 |\n",
            "+-------+--------+\n",
            "| 0.845 | -0.055 |\n",
            "+-------+--------+\n",
            "| 0.792 | -0.108 |\n",
            "+-------+--------+\n",
            "| 0.811 | -0.089 |\n",
            "+-------+--------+\n",
            "| 1.216 |  0.316 |\n",
            "+-------+--------+\n",
            "| 0.735 | -0.165 |\n",
            "+-------+--------+\n",
            "| 0.391 | -0.509 |\n",
            "+-------+--------+\n",
            "| 0.871 | -0.029 |\n",
            "+-------+--------+\n",
            "| 0.588 | -0.312 |\n",
            "+-------+--------+\n",
            "| 0.431 | -0.469 |\n",
            "+-------+--------+\n",
            "| 0.737 | -0.163 |\n",
            "+-------+--------+\n",
            "| 1.345 |  0.445 |\n",
            "+-------+--------+\n",
            "| 0.924 |  0.024 |\n",
            "+-------+--------+\n",
            "| 1.218 |  0.318 |\n",
            "+-------+--------+\n",
            "| 0.423 | -0.477 |\n",
            "+-------+--------+\n",
            "| 0.556 | -0.344 |\n",
            "+-------+--------+\n",
            "| 0.704 | -0.196 |\n",
            "+-------+--------+\n",
            "| 0.617 | -0.283 |\n",
            "+-------+--------+\n",
            "| 1.242 |  0.342 |\n",
            "+-------+--------+\n",
            "| 0.427 | -0.473 |\n",
            "+-------+--------+\n",
            "| 0.66  | -0.24  |\n",
            "+-------+--------+\n",
            "| 0.578 | -0.322 |\n",
            "+-------+--------+\n",
            "| 0.542 | -0.358 |\n",
            "+-------+--------+\n",
            "| 3.42  |  2.52  |\n",
            "+-------+--------+\n",
            "| 0.365 | -0.535 |\n",
            "+-------+--------+\n",
            "| 2.236 |  1.336 |\n",
            "+-------+--------+\n",
            "| 0.931 |  0.031 |\n",
            "+-------+--------+\n",
            "| 0.55  | -0.35  |\n",
            "+-------+--------+\n",
            "| 0.607 | -0.293 |\n",
            "+-------+--------+\n",
            "| 0.456 | -0.444 |\n",
            "+-------+--------+\n"
          ]
        }
      ]
    },
    {
      "cell_type": "markdown",
      "source": [
        "Análise"
      ],
      "metadata": {
        "id": "HPCJvC9xWYyg"
      }
    },
    {
      "cell_type": "markdown",
      "source": [
        "#**Parte 2**\n",
        "\n",
        "* Simular o tempo médio de espera em uma fila M/M/1 (λ=9,μ=10).\n",
        "* Eliminar o transiente usando as heurísticas de (a) Conway e (b) Fishman.\n",
        "* Após eliminar o transiente, coletar n valores no estado estacionário ( n=103).\n",
        "* Calcular $\\bar{X}(n)$, o tempo médio de espera na fila e o viés (B).\n",
        "* Repetir a simulação r vezes (r=30).\n",
        "* Mostrar os resultados em uma tabela.\n",
        "* Analisar os resultados."
      ],
      "metadata": {
        "id": "2JonvmF0V1io"
      }
    },
    {
      "cell_type": "code",
      "source": [
        "resultados = fila_mm1(9, 10, 10**3)\n",
        "print(resultados)"
      ],
      "metadata": {
        "id": "BIMmYX6HWeG4",
        "colab": {
          "base_uri": "https://localhost:8080/"
        },
        "outputId": "da869b17-7ca2-4c83-dc35-64cd9f095db2"
      },
      "execution_count": 37,
      "outputs": [
        {
          "output_type": "stream",
          "name": "stdout",
          "text": [
            "1.01\n"
          ]
        }
      ]
    },
    {
      "cell_type": "code",
      "source": [],
      "metadata": {
        "id": "OdX2sNbyWeNw"
      },
      "execution_count": null,
      "outputs": []
    },
    {
      "cell_type": "markdown",
      "source": [
        "#**Parte 3**\n",
        "\n",
        "* Executar uma simulação de horizonte infinito da fila M/M/1.\n",
        "* Eliminar o transiente usando a heurística MSER-5Y.\n",
        "* Estimar o tempo médio de espera na fila e o respectivo intervalo de confiança de 95%.\n",
        "* A regra de parada é a precisão relativa de 5%.\n",
        "* Cenário    I:  λ=7 clientes por segundo; μ=10 clientes por segundo.\n",
        "* Cenário   II:  λ=8 clientes por segundo; μ=10 clientes por segundo.\n",
        "* Cenário  III:  λ=9 clientes por segundo; μ=10 clientes por segundo.\n",
        "* Cenário IV:  λ=9,5 clientes por segundo; μ=10 clientes por segundo.\n",
        "* Plotar um gráfico comparativo dos quatro cenários.\n",
        "* Plotar uma linha horizontal para o valor teórico esperado em cada cenário.\n",
        "* Analisar os resultados."
      ],
      "metadata": {
        "id": "SL2lAN6EWeSv"
      }
    },
    {
      "cell_type": "code",
      "source": [],
      "metadata": {
        "id": "KA5OM1InXj-X"
      },
      "execution_count": null,
      "outputs": []
    }
  ]
}