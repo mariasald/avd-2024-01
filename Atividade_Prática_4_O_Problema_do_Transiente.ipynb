{
  "nbformat": 4,
  "nbformat_minor": 0,
  "metadata": {
    "colab": {
      "provenance": [],
      "include_colab_link": true
    },
    "kernelspec": {
      "name": "python3",
      "display_name": "Python 3"
    },
    "language_info": {
      "name": "python"
    }
  },
  "cells": [
    {
      "cell_type": "markdown",
      "metadata": {
        "id": "view-in-github",
        "colab_type": "text"
      },
      "source": [
        "<a href=\"https://colab.research.google.com/github/mariasald/avd-2024-01/blob/main/Atividade_Pr%C3%A1tica_4_O_Problema_do_Transiente.ipynb\" target=\"_parent\"><img src=\"https://colab.research.google.com/assets/colab-badge.svg\" alt=\"Open In Colab\"/></a>"
      ]
    },
    {
      "cell_type": "markdown",
      "source": [
        "#**Alunos**\n",
        "\n",
        "* Gabriel César Tavares Ferreira - 21854868\n",
        "* Maria Luiza Saldanha - 22153140"
      ],
      "metadata": {
        "id": "rCTxUQPZO5jA"
      }
    },
    {
      "cell_type": "markdown",
      "source": [
        "#**Bibliotecas Utilizadas**"
      ],
      "metadata": {
        "id": "mQCSksDsX8zg"
      }
    },
    {
      "cell_type": "code",
      "source": [
        "import math\n",
        "import numpy as np\n",
        "import random\n",
        "import matplotlib.pyplot as plt\n",
        "import scipy.stats\n",
        "from scipy.special import factorial\n",
        "from tabulate import tabulate"
      ],
      "metadata": {
        "id": "s8otDwV0YAzX"
      },
      "execution_count": 1,
      "outputs": []
    },
    {
      "cell_type": "markdown",
      "source": [
        "#**BibAD (1o Trabaho)**"
      ],
      "metadata": {
        "id": "Qoq8GtYfZve3"
      }
    },
    {
      "cell_type": "code",
      "source": [
        "def mediaAritmetica(nums):\n",
        "    return round((sum(nums) / len(nums)), 3)\n",
        "\n",
        "def var_amostral(nums):\n",
        "  med = mediaAritmetica(nums)\n",
        "  quad = np.sum(np.fromiter(((x - med) * (x - med) for x in nums), dtype=float))\n",
        "  var = quad / len(nums)\n",
        "  return round(var)\n",
        "\n",
        "def desvio_padrao(nums):\n",
        "  return round(math.sqrt(var_amostral(nums)))\n",
        "\n",
        "def intervaloConfianca(nums, z):\n",
        "    nivelConfianca = z / 100\n",
        "    a = 1 - nivelConfianca\n",
        "    z_a = 1 - (a / 2)\n",
        "    distribuicao = scipy.stats.norm.ppf(z_a)\n",
        "    erroPadrao = distribuicao * desvio_padrao(nums) / math.sqrt(len(nums))\n",
        "\n",
        "    return [round((mediaAritmetica(nums) - erroPadrao), 3), round((mediaAritmetica(nums) + erroPadrao), 3)]"
      ],
      "metadata": {
        "id": "Of4jPrUNZxYv"
      },
      "execution_count": 2,
      "outputs": []
    },
    {
      "cell_type": "markdown",
      "source": [
        "#**BibAD (3° Trabalho)**"
      ],
      "metadata": {
        "id": "y095cGLFaAmO"
      }
    },
    {
      "cell_type": "code",
      "source": [
        "def va_exponencial(media):\n",
        "  u = random.random()\n",
        "  x = -media * math.log (1 - u)\n",
        "  return round(x,3)\n",
        "\n",
        "def e_x(taxa_chegada, taxa_servico):\n",
        "  rho = taxa_chegada / taxa_servico\n",
        "  E_X = (rho / taxa_servico) / (1 - rho)\n",
        "  return E_X\n",
        "\n",
        "print(va_exponencial(1/9)) #nao esquecer de ver quando receber taxa e quando receber media!!!!!\n",
        "\n",
        "def fila_mm1(taxa_chegada, taxa_servico, clientes_total):\n",
        "    E_X = e_x(taxa_chegada, taxa_servico)\n",
        "\n",
        "    tempos_chegada = np.cumsum([va_exponencial(1/taxa_chegada) for _ in range(clientes_total)])\n",
        "    tempos_servico = [va_exponencial(1/taxa_servico) for _ in range(clientes_total)]\n",
        "\n",
        "    tempos_espera = np.zeros(clientes_total)\n",
        "    tempo_livre = 0\n",
        "\n",
        "    for i in range(clientes_total):\n",
        "        if tempos_chegada[i] > tempo_livre:\n",
        "            tempos_espera[i] = 0\n",
        "            tempo_livre = tempos_chegada[i] + tempos_servico[i]\n",
        "        else:\n",
        "            tempos_espera[i] = tempo_livre - tempos_chegada[i]\n",
        "            tempo_livre += tempos_servico[i]\n",
        "\n",
        "    X_n = np.mean(tempos_espera)\n",
        "    confidencia = 0.95\n",
        "    z = scipy.stats.norm.ppf(1 - (1 - confidencia) / 2)\n",
        "    erro_padrao = np.std(tempos_espera, ddof=1) / np.sqrt(clientes_total)\n",
        "    intervalo_confianca = (X_n - z * erro_padrao, X_n + z * erro_padrao)\n",
        "\n",
        "    return round(X_n, 3)\n",
        "\n"
      ],
      "metadata": {
        "colab": {
          "base_uri": "https://localhost:8080/"
        },
        "id": "Slmbgv7faBB-",
        "outputId": "eb2f51af-87b4-4ff9-ffef-43922b994a5d"
      },
      "execution_count": 3,
      "outputs": [
        {
          "output_type": "stream",
          "name": "stdout",
          "text": [
            "0.277\n"
          ]
        }
      ]
    },
    {
      "cell_type": "markdown",
      "source": [
        "#**Parte 1**\n",
        "\n",
        "$\\bar{X}(n)=\\frac{\\sum_{i=1}^n x_i}{n}$\n",
        "\n",
        "* Estimar $\\bar{X}(n)$, o tempo médio de espera em uma fila M/M/1 ($n=10^3,λ=9,μ=10$).\n",
        "* Calcular o valor teórico: $E[X]=\\rho \\frac{1/\\mu}{1-\\rho}, \\; onde \\; \\rho = \\frac{\\lambda}{\\mu}$\n",
        "* Computar o viés (bias): $B=\\bar{X}(n)−E[X]$.\n",
        "* Repetir a simulação r vezes (r=30).\n",
        "* Anotar os resultados em uma tabela.\n",
        "* Analisar os resultados."
      ],
      "metadata": {
        "id": "tDOcEwAEU7mY"
      }
    },
    {
      "cell_type": "code",
      "source": [
        "resultados = fila_mm1(9, 10, 10**3)\n",
        "print(resultados)"
      ],
      "metadata": {
        "id": "MD_9laQuV1Kw",
        "colab": {
          "base_uri": "https://localhost:8080/"
        },
        "outputId": "85aa1430-9ad3-4fac-d080-bde8dd48a10c"
      },
      "execution_count": 4,
      "outputs": [
        {
          "output_type": "stream",
          "name": "stdout",
          "text": [
            "0.678\n"
          ]
        }
      ]
    },
    {
      "cell_type": "code",
      "source": [
        "resultados1 = e_x(9, 10)\n",
        "print(resultados1)"
      ],
      "metadata": {
        "colab": {
          "base_uri": "https://localhost:8080/"
        },
        "id": "-TFxfAsLj_UH",
        "outputId": "7e9f3396-fc71-48df-ed3f-39db606f5cac"
      },
      "execution_count": 5,
      "outputs": [
        {
          "output_type": "stream",
          "name": "stdout",
          "text": [
            "0.9000000000000001\n"
          ]
        }
      ]
    },
    {
      "cell_type": "code",
      "source": [
        "bias = resultados-resultados1\n",
        "print(bias)"
      ],
      "metadata": {
        "colab": {
          "base_uri": "https://localhost:8080/"
        },
        "id": "Min38ndWlato",
        "outputId": "c68b952e-b5dc-40f3-bb0b-a05a2e149356"
      },
      "execution_count": 6,
      "outputs": [
        {
          "output_type": "stream",
          "name": "stdout",
          "text": [
            "-0.2220000000000001\n"
          ]
        }
      ]
    },
    {
      "cell_type": "code",
      "source": [
        "result_t = [[\"X\", \"B\"]]\n",
        "for i in range(30):\n",
        "  aux = []\n",
        "  result = fila_mm1(9, 10, 10**3)\n",
        "  bias = result - e_x(9, 10)\n",
        "  aux.append(result)\n",
        "  aux.append(bias)\n",
        "  result_t.append(aux)\n",
        "\n",
        "tabela = tabulate(result_t, headers=\"firstrow\", tablefmt=\"grid\")\n",
        "print(tabela)"
      ],
      "metadata": {
        "colab": {
          "base_uri": "https://localhost:8080/"
        },
        "id": "f5oP3Ii_mBBo",
        "outputId": "5a1089a1-795f-4691-a2d5-1a08942856ba"
      },
      "execution_count": 7,
      "outputs": [
        {
          "output_type": "stream",
          "name": "stdout",
          "text": [
            "+-------+--------+\n",
            "|     X |      B |\n",
            "+=======+========+\n",
            "| 1.068 |  0.168 |\n",
            "+-------+--------+\n",
            "| 1.047 |  0.147 |\n",
            "+-------+--------+\n",
            "| 0.868 | -0.032 |\n",
            "+-------+--------+\n",
            "| 1.167 |  0.267 |\n",
            "+-------+--------+\n",
            "| 0.506 | -0.394 |\n",
            "+-------+--------+\n",
            "| 0.76  | -0.14  |\n",
            "+-------+--------+\n",
            "| 0.71  | -0.19  |\n",
            "+-------+--------+\n",
            "| 1.16  |  0.26  |\n",
            "+-------+--------+\n",
            "| 0.981 |  0.081 |\n",
            "+-------+--------+\n",
            "| 2.311 |  1.411 |\n",
            "+-------+--------+\n",
            "| 1.353 |  0.453 |\n",
            "+-------+--------+\n",
            "| 0.839 | -0.061 |\n",
            "+-------+--------+\n",
            "| 0.571 | -0.329 |\n",
            "+-------+--------+\n",
            "| 0.54  | -0.36  |\n",
            "+-------+--------+\n",
            "| 0.444 | -0.456 |\n",
            "+-------+--------+\n",
            "| 0.64  | -0.26  |\n",
            "+-------+--------+\n",
            "| 2.761 |  1.861 |\n",
            "+-------+--------+\n",
            "| 0.615 | -0.285 |\n",
            "+-------+--------+\n",
            "| 0.96  |  0.06  |\n",
            "+-------+--------+\n",
            "| 0.311 | -0.589 |\n",
            "+-------+--------+\n",
            "| 0.687 | -0.213 |\n",
            "+-------+--------+\n",
            "| 0.797 | -0.103 |\n",
            "+-------+--------+\n",
            "| 0.882 | -0.018 |\n",
            "+-------+--------+\n",
            "| 0.937 |  0.037 |\n",
            "+-------+--------+\n",
            "| 1.003 |  0.103 |\n",
            "+-------+--------+\n",
            "| 2.167 |  1.267 |\n",
            "+-------+--------+\n",
            "| 0.952 |  0.052 |\n",
            "+-------+--------+\n",
            "| 0.426 | -0.474 |\n",
            "+-------+--------+\n",
            "| 0.628 | -0.272 |\n",
            "+-------+--------+\n",
            "| 0.898 | -0.002 |\n",
            "+-------+--------+\n"
          ]
        }
      ]
    },
    {
      "cell_type": "markdown",
      "source": [
        "Análise"
      ],
      "metadata": {
        "id": "HPCJvC9xWYyg"
      }
    },
    {
      "cell_type": "markdown",
      "source": [
        "#**Parte 2**\n",
        "\n",
        "* Simular o tempo médio de espera em uma fila M/M/1 (λ=9,μ=10).\n",
        "* Eliminar o transiente usando as heurísticas de (a) Conway e (b) Fishman.\n",
        "* Após eliminar o transiente, coletar n valores no estado estacionário ( n=103).\n",
        "* Calcular $\\bar{X}(n)$, o tempo médio de espera na fila e o viés (B).\n",
        "* Repetir a simulação r vezes (r=30).\n",
        "* Mostrar os resultados em uma tabela.\n",
        "* Analisar os resultados."
      ],
      "metadata": {
        "id": "2JonvmF0V1io"
      }
    },
    {
      "cell_type": "markdown",
      "source": [
        "##Heurística de Conway\n",
        "Conway sugere descartar os primeiros 20% dos dados para eliminar o transiente.\n",
        "\n",
        "##Heurística de Fishman\n",
        "Fishman sugere descartar dados até que o sistema atinja um estado estacionário.\n"
      ],
      "metadata": {
        "id": "GwgHe90n6Sws"
      }
    },
    {
      "cell_type": "code",
      "source": [
        "resultados = fila_mm1(9, 10, 10**3)\n",
        "print(resultados)"
      ],
      "metadata": {
        "id": "BIMmYX6HWeG4",
        "colab": {
          "base_uri": "https://localhost:8080/"
        },
        "outputId": "5aeeec70-a6ef-41e0-9050-7d8501297f48"
      },
      "execution_count": 13,
      "outputs": [
        {
          "output_type": "stream",
          "name": "stdout",
          "text": [
            "0.668\n"
          ]
        }
      ]
    },
    {
      "cell_type": "code",
      "source": [
        "resultadosTeorico = e_x(9, 10)\n",
        "print(resultadosTeorico)"
      ],
      "metadata": {
        "id": "YpM4V27m8vb0",
        "outputId": "8d995af7-cab7-46eb-f2ce-7b29d2f7468b",
        "colab": {
          "base_uri": "https://localhost:8080/"
        }
      },
      "execution_count": 14,
      "outputs": [
        {
          "output_type": "stream",
          "name": "stdout",
          "text": [
            "0.9000000000000001\n"
          ]
        }
      ]
    },
    {
      "cell_type": "code",
      "source": [
        "bias = resultados-resultadosTeorico\n",
        "print(bias)"
      ],
      "metadata": {
        "id": "PP7j3Shs85C-",
        "outputId": "314400c2-fc04-4a1d-a612-95d9f717a5f3",
        "colab": {
          "base_uri": "https://localhost:8080/"
        }
      },
      "execution_count": 15,
      "outputs": [
        {
          "output_type": "stream",
          "name": "stdout",
          "text": [
            "-0.2320000000000001\n"
          ]
        }
      ]
    },
    {
      "cell_type": "code",
      "source": [
        "def heuristica_conway(dados):\n",
        "    return dados[int(0.2 * len(dados)):]\n",
        "\n",
        "def heuristica_fishman(dados):\n",
        "    tamanho_janela = 50\n",
        "    for i in range(len(dados) - tamanho_janela):\n",
        "        janela = dados[i:i+tamanho_janela]\n",
        "        media_janela = np.mean(janela)\n",
        "        if np.all(np.abs(janela - media_janela) < 0.01 * media_janela):\n",
        "            return dados[i+tamanho_janela:]\n",
        "    return dados\n",
        "\n",
        "def fila_mm1_com_heuristicas(taxa_chegada, taxa_servico, clientes_total):\n",
        "    E_X = e_x(taxa_chegada, taxa_servico)\n",
        "    tempos_chegada = np.cumsum([va_exponencial(1/taxa_chegada) for _ in range(clientes_total)])\n",
        "    tempos_servico = [va_exponencial(1/taxa_servico) for _ in range(clientes_total)]\n",
        "\n",
        "    tempos_espera = np.zeros(clientes_total)\n",
        "    tempo_livre = 0\n",
        "\n",
        "    for i in range(clientes_total):\n",
        "        if tempos_chegada[i] > tempo_livre:\n",
        "            tempos_espera[i] = 0\n",
        "            tempo_livre = tempos_chegada[i] + tempos_servico[i]\n",
        "        else:\n",
        "            tempos_espera[i] = tempo_livre - tempos_chegada[i]\n",
        "            tempo_livre += tempos_servico[i]\n",
        "\n",
        "    tempos_espera_conway = heuristica_conway(tempos_espera)\n",
        "    tempos_espera_fishman = heuristica_fishman(tempos_espera)\n",
        "\n",
        "    X_n_conway = np.mean(tempos_espera_conway)\n",
        "    X_n_fishman = np.mean(tempos_espera_fishman)\n",
        "\n",
        "    return round(X_n_conway, 3), round(X_n_fishman, 3)\n"
      ],
      "metadata": {
        "id": "OdX2sNbyWeNw"
      },
      "execution_count": 16,
      "outputs": []
    },
    {
      "cell_type": "code",
      "source": [
        "taxa_chegada = 9\n",
        "taxa_servico = 10\n",
        "clientes_total = 10**3\n",
        "\n",
        "E_X_teorico = e_x(taxa_chegada, taxa_servico)\n",
        "\n",
        "resultados_conway = [[\"X_Conway\", \"B_Conway\"]]\n",
        "resultados_fishman = [[\"X_Fishman\", \"B_Fishman\"]]\n",
        "for i in range(30):\n",
        "    resultado_conway, resultado_fishman = fila_mm1_com_heuristicas(taxa_chegada, taxa_servico, clientes_total)\n",
        "    vies_conway = resultado_conway - E_X_teorico\n",
        "    vies_fishman = resultado_fishman - E_X_teorico\n",
        "    resultados_conway.append([resultado_conway, vies_conway])\n",
        "    resultados_fishman.append([resultado_fishman, vies_fishman])\n",
        "\n",
        "tabela_conway = tabulate(resultados_conway, headers=\"firstrow\", tablefmt=\"grid\")\n",
        "tabela_fishman = tabulate(resultados_fishman, headers=\"firstrow\", tablefmt=\"grid\")\n",
        "\n",
        "print(\"Tabela de Resultados - Conway\")\n",
        "print(tabela_conway)\n",
        "print(\"\\nTabela de Resultados - Fishman\")\n",
        "print(tabela_fishman)"
      ],
      "metadata": {
        "id": "Ktk3cU2H9H6A",
        "outputId": "e1ef0523-2ae5-42df-a72b-1630345d2ed6",
        "colab": {
          "base_uri": "https://localhost:8080/"
        }
      },
      "execution_count": 17,
      "outputs": [
        {
          "output_type": "stream",
          "name": "stdout",
          "text": [
            "Tabela de Resultados - Conway\n",
            "+------------+------------+\n",
            "|   X_Conway |   B_Conway |\n",
            "+============+============+\n",
            "|      0.808 |     -0.092 |\n",
            "+------------+------------+\n",
            "|      0.515 |     -0.385 |\n",
            "+------------+------------+\n",
            "|      0.659 |     -0.241 |\n",
            "+------------+------------+\n",
            "|      0.803 |     -0.097 |\n",
            "+------------+------------+\n",
            "|      1.174 |      0.274 |\n",
            "+------------+------------+\n",
            "|      0.564 |     -0.336 |\n",
            "+------------+------------+\n",
            "|      1.905 |      1.005 |\n",
            "+------------+------------+\n",
            "|      1.601 |      0.701 |\n",
            "+------------+------------+\n",
            "|      0.616 |     -0.284 |\n",
            "+------------+------------+\n",
            "|      0.464 |     -0.436 |\n",
            "+------------+------------+\n",
            "|      0.451 |     -0.449 |\n",
            "+------------+------------+\n",
            "|      0.807 |     -0.093 |\n",
            "+------------+------------+\n",
            "|      0.639 |     -0.261 |\n",
            "+------------+------------+\n",
            "|      1.508 |      0.608 |\n",
            "+------------+------------+\n",
            "|      3.63  |      2.73  |\n",
            "+------------+------------+\n",
            "|      0.683 |     -0.217 |\n",
            "+------------+------------+\n",
            "|      0.404 |     -0.496 |\n",
            "+------------+------------+\n",
            "|      1.687 |      0.787 |\n",
            "+------------+------------+\n",
            "|      0.587 |     -0.313 |\n",
            "+------------+------------+\n",
            "|      0.549 |     -0.351 |\n",
            "+------------+------------+\n",
            "|      0.943 |      0.043 |\n",
            "+------------+------------+\n",
            "|      0.398 |     -0.502 |\n",
            "+------------+------------+\n",
            "|      1.472 |      0.572 |\n",
            "+------------+------------+\n",
            "|      0.663 |     -0.237 |\n",
            "+------------+------------+\n",
            "|      1.888 |      0.988 |\n",
            "+------------+------------+\n",
            "|      0.871 |     -0.029 |\n",
            "+------------+------------+\n",
            "|      0.794 |     -0.106 |\n",
            "+------------+------------+\n",
            "|      0.815 |     -0.085 |\n",
            "+------------+------------+\n",
            "|      0.993 |      0.093 |\n",
            "+------------+------------+\n",
            "|      4.323 |      3.423 |\n",
            "+------------+------------+\n",
            "\n",
            "Tabela de Resultados - Fishman\n",
            "+-------------+-------------+\n",
            "|   X_Fishman |   B_Fishman |\n",
            "+=============+=============+\n",
            "|       0.722 |      -0.178 |\n",
            "+-------------+-------------+\n",
            "|       0.576 |      -0.324 |\n",
            "+-------------+-------------+\n",
            "|       0.632 |      -0.268 |\n",
            "+-------------+-------------+\n",
            "|       0.728 |      -0.172 |\n",
            "+-------------+-------------+\n",
            "|       0.985 |       0.085 |\n",
            "+-------------+-------------+\n",
            "|       0.573 |      -0.327 |\n",
            "+-------------+-------------+\n",
            "|       1.583 |       0.683 |\n",
            "+-------------+-------------+\n",
            "|       1.5   |       0.6   |\n",
            "+-------------+-------------+\n",
            "|       0.538 |      -0.362 |\n",
            "+-------------+-------------+\n",
            "|       0.425 |      -0.475 |\n",
            "+-------------+-------------+\n",
            "|       0.454 |      -0.446 |\n",
            "+-------------+-------------+\n",
            "|       0.746 |      -0.154 |\n",
            "+-------------+-------------+\n",
            "|       0.715 |      -0.185 |\n",
            "+-------------+-------------+\n",
            "|       1.284 |       0.384 |\n",
            "+-------------+-------------+\n",
            "|       3.026 |       2.126 |\n",
            "+-------------+-------------+\n",
            "|       0.823 |      -0.077 |\n",
            "+-------------+-------------+\n",
            "|       0.389 |      -0.511 |\n",
            "+-------------+-------------+\n",
            "|       1.421 |       0.521 |\n",
            "+-------------+-------------+\n",
            "|       0.563 |      -0.337 |\n",
            "+-------------+-------------+\n",
            "|       0.493 |      -0.407 |\n",
            "+-------------+-------------+\n",
            "|       0.91  |       0.01  |\n",
            "+-------------+-------------+\n",
            "|       0.396 |      -0.504 |\n",
            "+-------------+-------------+\n",
            "|       1.276 |       0.376 |\n",
            "+-------------+-------------+\n",
            "|       0.564 |      -0.336 |\n",
            "+-------------+-------------+\n",
            "|       1.565 |       0.665 |\n",
            "+-------------+-------------+\n",
            "|       0.748 |      -0.152 |\n",
            "+-------------+-------------+\n",
            "|       0.675 |      -0.225 |\n",
            "+-------------+-------------+\n",
            "|       0.787 |      -0.113 |\n",
            "+-------------+-------------+\n",
            "|       1.081 |       0.181 |\n",
            "+-------------+-------------+\n",
            "|       3.61  |       2.71  |\n",
            "+-------------+-------------+\n"
          ]
        }
      ]
    },
    {
      "cell_type": "markdown",
      "source": [
        "#**Parte 3**\n",
        "\n",
        "* Executar uma simulação de horizonte infinito da fila M/M/1.\n",
        "* Eliminar o transiente usando a heurística MSER-5Y.\n",
        "* Estimar o tempo médio de espera na fila e o respectivo intervalo de confiança de 95%.\n",
        "* A regra de parada é a precisão relativa de 5%.\n",
        "* Cenário    I:  λ=7 clientes por segundo; μ=10 clientes por segundo.\n",
        "* Cenário   II:  λ=8 clientes por segundo; μ=10 clientes por segundo.\n",
        "* Cenário  III:  λ=9 clientes por segundo; μ=10 clientes por segundo.\n",
        "* Cenário IV:  λ=9,5 clientes por segundo; μ=10 clientes por segundo.\n",
        "* Plotar um gráfico comparativo dos quatro cenários.\n",
        "* Plotar uma linha horizontal para o valor teórico esperado em cada cenário.\n",
        "* Analisar os resultados."
      ],
      "metadata": {
        "id": "SL2lAN6EWeSv"
      }
    },
    {
      "cell_type": "code",
      "source": [],
      "metadata": {
        "id": "KA5OM1InXj-X"
      },
      "execution_count": null,
      "outputs": []
    }
  ]
}