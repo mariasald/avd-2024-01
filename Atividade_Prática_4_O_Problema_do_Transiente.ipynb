{
  "nbformat": 4,
  "nbformat_minor": 0,
  "metadata": {
    "colab": {
      "provenance": [],
      "include_colab_link": true
    },
    "kernelspec": {
      "name": "python3",
      "display_name": "Python 3"
    },
    "language_info": {
      "name": "python"
    }
  },
  "cells": [
    {
      "cell_type": "markdown",
      "metadata": {
        "id": "view-in-github",
        "colab_type": "text"
      },
      "source": [
        "<a href=\"https://colab.research.google.com/github/mariasald/avd-2024-01/blob/main/Atividade_Pr%C3%A1tica_4_O_Problema_do_Transiente.ipynb\" target=\"_parent\"><img src=\"https://colab.research.google.com/assets/colab-badge.svg\" alt=\"Open In Colab\"/></a>"
      ]
    },
    {
      "cell_type": "markdown",
      "source": [
        "#**Alunos**\n",
        "\n",
        "* Gabriel César Tavares Ferreira - 21854868\n",
        "* Maria Luiza Saldanha - 22153140"
      ],
      "metadata": {
        "id": "rCTxUQPZO5jA"
      }
    },
    {
      "cell_type": "markdown",
      "source": [
        "#**Bibliotecas Utilizadas**"
      ],
      "metadata": {
        "id": "mQCSksDsX8zg"
      }
    },
    {
      "cell_type": "code",
      "source": [
        "import math\n",
        "import numpy as np\n",
        "import random\n",
        "import matplotlib.pyplot as plt\n",
        "import scipy.stats\n",
        "from scipy.special import factorial\n",
        "from tabulate import tabulate"
      ],
      "metadata": {
        "id": "s8otDwV0YAzX"
      },
      "execution_count": 50,
      "outputs": []
    },
    {
      "cell_type": "markdown",
      "source": [
        "#**BibAD (1o Trabaho)**"
      ],
      "metadata": {
        "id": "Qoq8GtYfZve3"
      }
    },
    {
      "cell_type": "code",
      "source": [
        "def mediaAritmetica(nums):\n",
        "    return round((sum(nums) / len(nums)), 3)\n",
        "\n",
        "def var_amostral(nums):\n",
        "  med = mediaAritmetica(nums)\n",
        "  quad = np.sum(np.fromiter(((x - med) * (x - med) for x in nums), dtype=float))\n",
        "  var = quad / len(nums)\n",
        "  return round(var)\n",
        "\n",
        "def desvio_padrao(nums):\n",
        "  return round(math.sqrt(var_amostral(nums)))\n",
        "\n",
        "def intervaloConfianca(nums, z):\n",
        "    nivelConfianca = z / 100\n",
        "    a = 1 - nivelConfianca\n",
        "    z_a = 1 - (a / 2)\n",
        "    distribuicao = scipy.stats.norm.ppf(z_a)\n",
        "    erroPadrao = distribuicao * desvio_padrao(nums) / math.sqrt(len(nums))\n",
        "\n",
        "    return [round((mediaAritmetica(nums) - erroPadrao), 3), round((mediaAritmetica(nums) + erroPadrao), 3)]"
      ],
      "metadata": {
        "id": "Of4jPrUNZxYv"
      },
      "execution_count": 51,
      "outputs": []
    },
    {
      "cell_type": "markdown",
      "source": [
        "#**BibAD (3° Trabalho)**"
      ],
      "metadata": {
        "id": "y095cGLFaAmO"
      }
    },
    {
      "cell_type": "code",
      "source": [
        "def va_exponencial(media):\n",
        "  u = random.random()\n",
        "  x = -media * math.log (1 - u)\n",
        "  return round(x,3)\n",
        "\n",
        "def e_x(taxa_chegada, taxa_servico):\n",
        "  rho = taxa_chegada / taxa_servico\n",
        "  E_X = (rho / taxa_servico) / (1 - rho)\n",
        "  return E_X\n",
        "\n",
        "print(va_exponencial(1/9)) #nao esquecer de ver quando receber taxa e quando receber media!!!!!\n",
        "\n",
        "def fila_mm1(taxa_chegada, taxa_servico, clientes_total):\n",
        "    E_X = e_x(taxa_chegada, taxa_servico)\n",
        "\n",
        "    tempos_chegada = np.cumsum([va_exponencial(1/taxa_chegada) for _ in range(clientes_total)])\n",
        "    tempos_servico = [va_exponencial(1/taxa_servico) for _ in range(clientes_total)]\n",
        "\n",
        "    tempos_espera = np.zeros(clientes_total)\n",
        "    tempo_livre = 0\n",
        "\n",
        "    for i in range(clientes_total):\n",
        "        if tempos_chegada[i] > tempo_livre:\n",
        "            tempos_espera[i] = 0\n",
        "            tempo_livre = tempos_chegada[i] + tempos_servico[i]\n",
        "        else:\n",
        "            tempos_espera[i] = tempo_livre - tempos_chegada[i]\n",
        "            tempo_livre += tempos_servico[i]\n",
        "\n",
        "    X_n = np.mean(tempos_espera)\n",
        "    confidencia = 0.95\n",
        "    z = scipy.stats.norm.ppf(1 - (1 - confidencia) / 2)\n",
        "    erro_padrao = np.std(tempos_espera, ddof=1) / np.sqrt(clientes_total)\n",
        "    intervalo_confianca = (X_n - z * erro_padrao, X_n + z * erro_padrao)\n",
        "\n",
        "    return round(X_n, 3)\n",
        "\n"
      ],
      "metadata": {
        "colab": {
          "base_uri": "https://localhost:8080/"
        },
        "id": "Slmbgv7faBB-",
        "outputId": "e224b4e6-5570-4895-ed7f-f115863bf124"
      },
      "execution_count": 52,
      "outputs": [
        {
          "output_type": "stream",
          "name": "stdout",
          "text": [
            "0.084\n"
          ]
        }
      ]
    },
    {
      "cell_type": "markdown",
      "source": [
        "#**Parte 1**\n",
        "\n",
        "$\\bar{X}(n)=\\frac{\\sum_{i=1}^n x_i}{n}$\n",
        "\n",
        "* Estimar $\\bar{X}(n)$, o tempo médio de espera em uma fila M/M/1 ($n=10^3,λ=9,μ=10$).\n",
        "* Calcular o valor teórico: $E[X]=\\rho \\frac{1/\\mu}{1-\\rho}, \\; onde \\; \\rho = \\frac{\\lambda}{\\mu}$\n",
        "* Computar o viés (bias): $B=\\bar{X}(n)−E[X]$.\n",
        "* Repetir a simulação r vezes (r=30).\n",
        "* Anotar os resultados em uma tabela.\n",
        "* Analisar os resultados."
      ],
      "metadata": {
        "id": "tDOcEwAEU7mY"
      }
    },
    {
      "cell_type": "code",
      "source": [
        "resultados = fila_mm1(9, 10, 10**3)\n",
        "print(resultados)"
      ],
      "metadata": {
        "id": "MD_9laQuV1Kw",
        "colab": {
          "base_uri": "https://localhost:8080/"
        },
        "outputId": "a0826c3f-3091-4ae9-9660-2407d83c4acb"
      },
      "execution_count": 53,
      "outputs": [
        {
          "output_type": "stream",
          "name": "stdout",
          "text": [
            "0.42\n"
          ]
        }
      ]
    },
    {
      "cell_type": "code",
      "source": [
        "resultados1 = e_x(9, 10)\n",
        "print(resultados1)"
      ],
      "metadata": {
        "colab": {
          "base_uri": "https://localhost:8080/"
        },
        "id": "-TFxfAsLj_UH",
        "outputId": "ad4b040f-6b30-4044-f8a8-5fb5464960b6"
      },
      "execution_count": 54,
      "outputs": [
        {
          "output_type": "stream",
          "name": "stdout",
          "text": [
            "0.9000000000000001\n"
          ]
        }
      ]
    },
    {
      "cell_type": "code",
      "source": [
        "bias = resultados-resultados1\n",
        "print(bias)"
      ],
      "metadata": {
        "colab": {
          "base_uri": "https://localhost:8080/"
        },
        "id": "Min38ndWlato",
        "outputId": "72580bf5-990d-4176-e3d2-8a2cfed74926"
      },
      "execution_count": 55,
      "outputs": [
        {
          "output_type": "stream",
          "name": "stdout",
          "text": [
            "-0.48000000000000015\n"
          ]
        }
      ]
    },
    {
      "cell_type": "code",
      "source": [
        "result_t = [[\"X\", \"B\"]]\n",
        "for i in range(30):\n",
        "  aux = []\n",
        "  result = fila_mm1(9, 10, 10**3)\n",
        "  bias = result - e_x(9, 10)\n",
        "  aux.append(result)\n",
        "  aux.append(bias)\n",
        "  result_t.append(aux)\n",
        "\n",
        "tabela = tabulate(result_t, headers=\"firstrow\", tablefmt=\"grid\")\n",
        "print(tabela)"
      ],
      "metadata": {
        "colab": {
          "base_uri": "https://localhost:8080/"
        },
        "id": "f5oP3Ii_mBBo",
        "outputId": "2038b4e2-4c09-4ed9-e01d-a0e8483d8b23"
      },
      "execution_count": 56,
      "outputs": [
        {
          "output_type": "stream",
          "name": "stdout",
          "text": [
            "+-------+--------+\n",
            "|     X |      B |\n",
            "+=======+========+\n",
            "| 0.821 | -0.079 |\n",
            "+-------+--------+\n",
            "| 0.637 | -0.263 |\n",
            "+-------+--------+\n",
            "| 0.619 | -0.281 |\n",
            "+-------+--------+\n",
            "| 1.461 |  0.561 |\n",
            "+-------+--------+\n",
            "| 0.999 |  0.099 |\n",
            "+-------+--------+\n",
            "| 0.348 | -0.552 |\n",
            "+-------+--------+\n",
            "| 1.043 |  0.143 |\n",
            "+-------+--------+\n",
            "| 3.072 |  2.172 |\n",
            "+-------+--------+\n",
            "| 0.592 | -0.308 |\n",
            "+-------+--------+\n",
            "| 1.458 |  0.558 |\n",
            "+-------+--------+\n",
            "| 0.505 | -0.395 |\n",
            "+-------+--------+\n",
            "| 0.623 | -0.277 |\n",
            "+-------+--------+\n",
            "| 0.661 | -0.239 |\n",
            "+-------+--------+\n",
            "| 1     |  0.1   |\n",
            "+-------+--------+\n",
            "| 0.604 | -0.296 |\n",
            "+-------+--------+\n",
            "| 1.008 |  0.108 |\n",
            "+-------+--------+\n",
            "| 0.678 | -0.222 |\n",
            "+-------+--------+\n",
            "| 0.674 | -0.226 |\n",
            "+-------+--------+\n",
            "| 0.469 | -0.431 |\n",
            "+-------+--------+\n",
            "| 1.079 |  0.179 |\n",
            "+-------+--------+\n",
            "| 0.47  | -0.43  |\n",
            "+-------+--------+\n",
            "| 0.403 | -0.497 |\n",
            "+-------+--------+\n",
            "| 0.431 | -0.469 |\n",
            "+-------+--------+\n",
            "| 1.922 |  1.022 |\n",
            "+-------+--------+\n",
            "| 1.245 |  0.345 |\n",
            "+-------+--------+\n",
            "| 4.282 |  3.382 |\n",
            "+-------+--------+\n",
            "| 0.552 | -0.348 |\n",
            "+-------+--------+\n",
            "| 0.813 | -0.087 |\n",
            "+-------+--------+\n",
            "| 0.426 | -0.474 |\n",
            "+-------+--------+\n",
            "| 0.518 | -0.382 |\n",
            "+-------+--------+\n"
          ]
        }
      ]
    },
    {
      "cell_type": "markdown",
      "source": [
        "## Análise\n",
        "\n",
        "- Tempo Médio de Espera (X): Os valores variam de 0.405 a 1.802.\n",
        "\n",
        "Média: ≈ 0.74\n",
        "\n",
        "Desvio padrão: ≈ 0.294\n",
        "\n",
        "- Média do Viés (B):\n",
        "\n",
        "Média: ≈ −0.06\n",
        "\n",
        "Desvio Padrão: ≈ 0.344"
      ],
      "metadata": {
        "id": "HPCJvC9xWYyg"
      }
    },
    {
      "cell_type": "markdown",
      "source": [
        "#**Parte 2**\n",
        "\n",
        "* Simular o tempo médio de espera em uma fila M/M/1 (λ=9,μ=10).\n",
        "* Eliminar o transiente usando as heurísticas de (a) Conway e (b) Fishman.\n",
        "* Após eliminar o transiente, coletar n valores no estado estacionário ( n=103).\n",
        "* Calcular $\\bar{X}(n)$, o tempo médio de espera na fila e o viés (B).\n",
        "* Repetir a simulação r vezes (r=30).\n",
        "* Mostrar os resultados em uma tabela.\n",
        "* Analisar os resultados."
      ],
      "metadata": {
        "id": "2JonvmF0V1io"
      }
    },
    {
      "cell_type": "markdown",
      "source": [
        "##Heurística de Conway\n",
        "Conway sugere descartar os primeiros 20% dos dados para eliminar o transiente.\n",
        "\n",
        "##Heurística de Fishman\n",
        "Fishman sugere descartar dados até que o sistema atinja um estado estacionário.\n"
      ],
      "metadata": {
        "id": "GwgHe90n6Sws"
      }
    },
    {
      "cell_type": "code",
      "source": [
        "resultados = fila_mm1(9, 10, 10**3)\n",
        "print(resultados)"
      ],
      "metadata": {
        "id": "BIMmYX6HWeG4",
        "colab": {
          "base_uri": "https://localhost:8080/"
        },
        "outputId": "c4d65093-fd20-4cd8-cb26-b2b374573c35"
      },
      "execution_count": 57,
      "outputs": [
        {
          "output_type": "stream",
          "name": "stdout",
          "text": [
            "0.687\n"
          ]
        }
      ]
    },
    {
      "cell_type": "code",
      "source": [
        "resultadosTeorico = e_x(9, 10)\n",
        "print(resultadosTeorico)"
      ],
      "metadata": {
        "colab": {
          "base_uri": "https://localhost:8080/"
        },
        "id": "YpM4V27m8vb0",
        "outputId": "1898bdfd-8b69-40cd-baa2-b5ec51c2f361"
      },
      "execution_count": 58,
      "outputs": [
        {
          "output_type": "stream",
          "name": "stdout",
          "text": [
            "0.9000000000000001\n"
          ]
        }
      ]
    },
    {
      "cell_type": "code",
      "source": [
        "bias = resultados-resultadosTeorico\n",
        "print(bias)"
      ],
      "metadata": {
        "colab": {
          "base_uri": "https://localhost:8080/"
        },
        "id": "PP7j3Shs85C-",
        "outputId": "3924d57b-fc09-4e51-90a7-3a4f2a04487a"
      },
      "execution_count": 59,
      "outputs": [
        {
          "output_type": "stream",
          "name": "stdout",
          "text": [
            "-0.21300000000000008\n"
          ]
        }
      ]
    },
    {
      "cell_type": "code",
      "source": [
        "def heuristica_conway(dados):\n",
        "    return dados[int(0.2 * len(dados)):]\n",
        "\n",
        "def heuristica_fishman(dados):\n",
        "    tamanho_janela = 50\n",
        "    for i in range(len(dados) - tamanho_janela):\n",
        "        janela = dados[i:i+tamanho_janela]\n",
        "        media_janela = np.mean(janela)\n",
        "        if np.all(np.abs(janela - media_janela) < 0.01 * media_janela):\n",
        "            return dados[i+tamanho_janela:]\n",
        "    return dados\n",
        "\n",
        "def fila_mm1_com_heuristicas(taxa_chegada, taxa_servico, clientes_total):\n",
        "    E_X = e_x(taxa_chegada, taxa_servico)\n",
        "    tempos_chegada = np.cumsum([va_exponencial(1/taxa_chegada) for _ in range(clientes_total)])\n",
        "    tempos_servico = [va_exponencial(1/taxa_servico) for _ in range(clientes_total)]\n",
        "\n",
        "    tempos_espera = np.zeros(clientes_total)\n",
        "    tempo_livre = 0\n",
        "\n",
        "    for i in range(clientes_total):\n",
        "        if tempos_chegada[i] > tempo_livre:\n",
        "            tempos_espera[i] = 0\n",
        "            tempo_livre = tempos_chegada[i] + tempos_servico[i]\n",
        "        else:\n",
        "            tempos_espera[i] = tempo_livre - tempos_chegada[i]\n",
        "            tempo_livre += tempos_servico[i]\n",
        "\n",
        "    tempos_espera_conway = heuristica_conway(tempos_espera)\n",
        "    tempos_espera_fishman = heuristica_fishman(tempos_espera)\n",
        "\n",
        "    X_n_conway = np.mean(tempos_espera_conway)\n",
        "    X_n_fishman = np.mean(tempos_espera_fishman)\n",
        "\n",
        "    return round(X_n_conway, 3), round(X_n_fishman, 3)\n"
      ],
      "metadata": {
        "id": "OdX2sNbyWeNw"
      },
      "execution_count": 60,
      "outputs": []
    },
    {
      "cell_type": "code",
      "source": [
        "taxa_chegada = 9\n",
        "taxa_servico = 10\n",
        "clientes_total = 10**3\n",
        "\n",
        "E_X_teorico = e_x(taxa_chegada, taxa_servico)\n",
        "\n",
        "resultados_conway = [[\"X_Conway\", \"B_Conway\"]]\n",
        "resultados_fishman = [[\"X_Fishman\", \"B_Fishman\"]]\n",
        "for i in range(30):\n",
        "    resultado_conway, resultado_fishman = fila_mm1_com_heuristicas(taxa_chegada, taxa_servico, clientes_total)\n",
        "    vies_conway = resultado_conway - E_X_teorico\n",
        "    vies_fishman = resultado_fishman - E_X_teorico\n",
        "    resultados_conway.append([resultado_conway, vies_conway])\n",
        "    resultados_fishman.append([resultado_fishman, vies_fishman])\n",
        "\n",
        "tabela_conway = tabulate(resultados_conway, headers=\"firstrow\", tablefmt=\"grid\")\n",
        "tabela_fishman = tabulate(resultados_fishman, headers=\"firstrow\", tablefmt=\"grid\")\n",
        "\n",
        "print(\"Tabela de Resultados - Conway\")\n",
        "print(tabela_conway)\n",
        "print(\"\\nTabela de Resultados - Fishman\")\n",
        "print(tabela_fishman)"
      ],
      "metadata": {
        "colab": {
          "base_uri": "https://localhost:8080/"
        },
        "id": "Ktk3cU2H9H6A",
        "outputId": "0997ea02-f358-4f2b-c64a-bcb940b90094"
      },
      "execution_count": 61,
      "outputs": [
        {
          "output_type": "stream",
          "name": "stdout",
          "text": [
            "Tabela de Resultados - Conway\n",
            "+------------+------------+\n",
            "|   X_Conway |   B_Conway |\n",
            "+============+============+\n",
            "|      1.038 |      0.138 |\n",
            "+------------+------------+\n",
            "|      0.374 |     -0.526 |\n",
            "+------------+------------+\n",
            "|      0.412 |     -0.488 |\n",
            "+------------+------------+\n",
            "|      0.401 |     -0.499 |\n",
            "+------------+------------+\n",
            "|      1.22  |      0.32  |\n",
            "+------------+------------+\n",
            "|      0.508 |     -0.392 |\n",
            "+------------+------------+\n",
            "|      2.034 |      1.134 |\n",
            "+------------+------------+\n",
            "|      0.68  |     -0.22  |\n",
            "+------------+------------+\n",
            "|      1.106 |      0.206 |\n",
            "+------------+------------+\n",
            "|      0.92  |      0.02  |\n",
            "+------------+------------+\n",
            "|      0.639 |     -0.261 |\n",
            "+------------+------------+\n",
            "|      0.561 |     -0.339 |\n",
            "+------------+------------+\n",
            "|      1.485 |      0.585 |\n",
            "+------------+------------+\n",
            "|      0.701 |     -0.199 |\n",
            "+------------+------------+\n",
            "|      1.905 |      1.005 |\n",
            "+------------+------------+\n",
            "|      1.356 |      0.456 |\n",
            "+------------+------------+\n",
            "|      1.628 |      0.728 |\n",
            "+------------+------------+\n",
            "|      0.383 |     -0.517 |\n",
            "+------------+------------+\n",
            "|      0.519 |     -0.381 |\n",
            "+------------+------------+\n",
            "|      1.143 |      0.243 |\n",
            "+------------+------------+\n",
            "|      1.179 |      0.279 |\n",
            "+------------+------------+\n",
            "|      0.728 |     -0.172 |\n",
            "+------------+------------+\n",
            "|      0.826 |     -0.074 |\n",
            "+------------+------------+\n",
            "|      0.721 |     -0.179 |\n",
            "+------------+------------+\n",
            "|      3.25  |      2.35  |\n",
            "+------------+------------+\n",
            "|      1.601 |      0.701 |\n",
            "+------------+------------+\n",
            "|      0.956 |      0.056 |\n",
            "+------------+------------+\n",
            "|      0.516 |     -0.384 |\n",
            "+------------+------------+\n",
            "|      0.614 |     -0.286 |\n",
            "+------------+------------+\n",
            "|      0.881 |     -0.019 |\n",
            "+------------+------------+\n",
            "\n",
            "Tabela de Resultados - Fishman\n",
            "+-------------+-------------+\n",
            "|   X_Fishman |   B_Fishman |\n",
            "+=============+=============+\n",
            "|       0.957 |       0.057 |\n",
            "+-------------+-------------+\n",
            "|       0.406 |      -0.494 |\n",
            "+-------------+-------------+\n",
            "|       0.393 |      -0.507 |\n",
            "+-------------+-------------+\n",
            "|       0.583 |      -0.317 |\n",
            "+-------------+-------------+\n",
            "|       1.071 |       0.171 |\n",
            "+-------------+-------------+\n",
            "|       0.499 |      -0.401 |\n",
            "+-------------+-------------+\n",
            "|       1.798 |       0.898 |\n",
            "+-------------+-------------+\n",
            "|       0.629 |      -0.271 |\n",
            "+-------------+-------------+\n",
            "|       1.052 |       0.152 |\n",
            "+-------------+-------------+\n",
            "|       0.851 |      -0.049 |\n",
            "+-------------+-------------+\n",
            "|       0.643 |      -0.257 |\n",
            "+-------------+-------------+\n",
            "|       0.484 |      -0.416 |\n",
            "+-------------+-------------+\n",
            "|       1.251 |       0.351 |\n",
            "+-------------+-------------+\n",
            "|       0.725 |      -0.175 |\n",
            "+-------------+-------------+\n",
            "|       1.7   |       0.8   |\n",
            "+-------------+-------------+\n",
            "|       1.15  |       0.25  |\n",
            "+-------------+-------------+\n",
            "|       1.387 |       0.487 |\n",
            "+-------------+-------------+\n",
            "|       0.436 |      -0.464 |\n",
            "+-------------+-------------+\n",
            "|       0.467 |      -0.433 |\n",
            "+-------------+-------------+\n",
            "|       1.102 |       0.202 |\n",
            "+-------------+-------------+\n",
            "|       1.308 |       0.408 |\n",
            "+-------------+-------------+\n",
            "|       0.624 |      -0.276 |\n",
            "+-------------+-------------+\n",
            "|       0.896 |      -0.004 |\n",
            "+-------------+-------------+\n",
            "|       0.678 |      -0.222 |\n",
            "+-------------+-------------+\n",
            "|       2.671 |       1.771 |\n",
            "+-------------+-------------+\n",
            "|       1.444 |       0.544 |\n",
            "+-------------+-------------+\n",
            "|       0.794 |      -0.106 |\n",
            "+-------------+-------------+\n",
            "|       0.479 |      -0.421 |\n",
            "+-------------+-------------+\n",
            "|       0.585 |      -0.315 |\n",
            "+-------------+-------------+\n",
            "|       0.748 |      -0.152 |\n",
            "+-------------+-------------+\n"
          ]
        }
      ]
    },
    {
      "cell_type": "markdown",
      "source": [
        "## Análise\n",
        "\n",
        "- Média do Tempo de Espera (X_Conway):\n",
        "\n",
        "Valores altos: alguns tempos de espera são significativamente altos, como 3.25.\n",
        "\n",
        "Valores baixos: otros tempos são mais baixos, como 0.374.\n",
        "\n",
        "Há uma grande variabilidade nos tempos de espera, indicando uma fila tanto com com períodos de alta quanto de baixa demanda.\n",
        "\n",
        "Já para o cálculo de viés de Conway, a distribuição mostra uma tendência subestimação, ou seja, valores de vieses negativos.\n",
        "\n",
        "- Média do Tempo de Espera (X_Fishman):\n",
        "\n",
        "Valores altos: menos valores extremos.\n",
        "\n",
        "Valores baixos: tempos de espera mais baixos quando comparados com a heurística de Conway.\n",
        "\n",
        "A variabilidade é menor que na heurística de Conway, mas ainda existem flutuações.\n",
        "\n",
        "Já no viés de Fishman, se mostra uma tendência mais equilibrada com vieses menores em magnitude."
      ],
      "metadata": {
        "id": "WGbGgtqgQmOy"
      }
    },
    {
      "cell_type": "markdown",
      "source": [
        "#**Parte 3**\n",
        "\n",
        "* Executar uma simulação de horizonte infinito da fila M/M/1.\n",
        "* Eliminar o transiente usando a heurística MSER-5Y.\n",
        "* Estimar o tempo médio de espera na fila e o respectivo intervalo de confiança de 95%.\n",
        "* A regra de parada é a precisão relativa de 5%.\n",
        "* Cenário    I:  λ=7 clientes por segundo; μ=10 clientes por segundo.\n",
        "* Cenário   II:  λ=8 clientes por segundo; μ=10 clientes por segundo.\n",
        "* Cenário  III:  λ=9 clientes por segundo; μ=10 clientes por segundo.\n",
        "* Cenário IV:  λ=9,5 clientes por segundo; μ=10 clientes por segundo.\n",
        "* Plotar um gráfico comparativo dos quatro cenários.\n",
        "* Plotar uma linha horizontal para o valor teórico esperado em cada cenário.\n",
        "* Analisar os resultados."
      ],
      "metadata": {
        "id": "SL2lAN6EWeSv"
      }
    },
    {
      "cell_type": "markdown",
      "source": [
        "## MYSER-5Y\n",
        "\n",
        "É usada para eliminar transientes em simulações de horizonte infinito. A ideia é encontrar o ponto em que a média quadrática do erro é minimizada."
      ],
      "metadata": {
        "id": "cU8O5DWV9zOO"
      }
    },
    {
      "cell_type": "code",
      "source": [
        "def fila_mm1_infinito(taxa_chegada, taxa_servico, num_clientes):\n",
        "    tempos_chegada = np.cumsum([va_exponencial(1/taxa_chegada) for _ in range(num_clientes)])\n",
        "    tempos_servico = [va_exponencial(1/taxa_servico) for _ in range(num_clientes)]\n",
        "\n",
        "    tempos_espera = np.zeros(num_clientes)\n",
        "    tempo_livre = 0\n",
        "\n",
        "    for i in range(num_clientes):\n",
        "        if tempos_chegada[i] > tempo_livre:\n",
        "            tempos_espera[i] = 0\n",
        "            tempo_livre = tempos_chegada[i] + tempos_servico[i]\n",
        "        else:\n",
        "            tempos_espera[i] = tempo_livre - tempos_chegada[i]\n",
        "            tempo_livre += tempos_servico[i]\n",
        "\n",
        "    return tempos_espera"
      ],
      "metadata": {
        "id": "KA5OM1InXj-X"
      },
      "execution_count": 62,
      "outputs": []
    },
    {
      "cell_type": "code",
      "source": [
        "def heuristica_mser_5y(tempos_espera, num_batches=5):\n",
        "    batch_size = len(tempos_espera) // num_batches\n",
        "    min_mse = float('inf')\n",
        "    min_index = 0\n",
        "\n",
        "    for i in range(batch_size, len(tempos_espera), batch_size):\n",
        "        batch_means = [np.mean(tempos_espera[j:j+batch_size]) for j in range(0, i, batch_size)]\n",
        "        mse = np.mean((batch_means - np.mean(batch_means))**2)\n",
        "        if mse < min_mse:\n",
        "            min_mse = mse\n",
        "            min_index = i\n",
        "\n",
        "    return tempos_espera[min_index:]\n"
      ],
      "metadata": {
        "id": "xJFApRaQ-Dd2"
      },
      "execution_count": 63,
      "outputs": []
    },
    {
      "cell_type": "code",
      "source": [
        "def simular_fila_mm1(taxa_chegada, taxa_servico, precisao_relativa=0.05, num_clientes_inicial=1000, incremento=1000):\n",
        "    while True:\n",
        "        tempos_espera = fila_mm1_infinito(taxa_chegada, taxa_servico, num_clientes_inicial)\n",
        "        tempos_espera = heuristica_mser_5y(tempos_espera)\n",
        "        media_espera = np.mean(tempos_espera)\n",
        "        desvio_padrao = np.std(tempos_espera, ddof=1)\n",
        "        erro_padrao = desvio_padrao / math.sqrt(len(tempos_espera))\n",
        "        intervalo_confianca = 1.96 * erro_padrao\n",
        "\n",
        "        precisao_atual = intervalo_confianca / media_espera\n",
        "        if precisao_atual <= precisao_relativa:\n",
        "            return media_espera, intervalo_confianca\n",
        "        else:\n",
        "            num_clientes_inicial += incremento\n",
        "\n",
        "cenarios = [(7, 10), (8, 10), (9, 10), (9.5, 10)]\n",
        "resultados = []\n",
        "\n",
        "for lambda_chegada, mu_servico in cenarios:\n",
        "    media_espera, intervalo_confianca = simular_fila_mm1(lambda_chegada, mu_servico)\n",
        "    e_x_teorico = e_x(lambda_chegada, mu_servico)\n",
        "    resultados.append((lambda_chegada, media_espera, intervalo_confianca, e_x_teorico))\n",
        "\n",
        "tabela_resultados = [[\"Lambda\", \"Media_Espera\", \"Intervalo_Confianca\", \"E_X_Teorico\"]]\n",
        "for resultado in resultados:\n",
        "    tabela_resultados.append(list(resultado))\n",
        "\n",
        "tabela = tabulate(tabela_resultados, headers=\"firstrow\", tablefmt=\"grid\")\n",
        "print(tabela)\n",
        "\n",
        "lambdas = [resultado[0] for resultado in resultados]\n",
        "medias_espera = [resultado[1] for resultado in resultados]\n",
        "intervalos_confianca = [resultado[2] for resultado in resultados]\n",
        "valores_teoricos = [resultado[3] for resultado in resultados]\n",
        "\n",
        "plt.figure(figsize=(10, 6))\n",
        "plt.errorbar(lambdas, medias_espera, yerr=intervalos_confianca, fmt='o', label='Simulado')\n",
        "plt.plot(lambdas, valores_teoricos, 'r-', label='Teórico')\n",
        "plt.xlabel('Lambda (Taxa de Chegada)')\n",
        "plt.ylabel('Tempo Médio de Espera')\n",
        "plt.title('Comparação dos Cenários - Tempo Médio de Espera na Fila M/M/1')\n",
        "plt.legend()\n",
        "plt.grid(True)\n",
        "plt.show()"
      ],
      "metadata": {
        "colab": {
          "base_uri": "https://localhost:8080/",
          "height": 756
        },
        "id": "kDj10w2P-HAC",
        "outputId": "4aa44f85-3745-4b80-b9de-4fa3e2898dd9"
      },
      "execution_count": 69,
      "outputs": [
        {
          "output_type": "stream",
          "name": "stdout",
          "text": [
            "+----------+----------------+-----------------------+---------------+\n",
            "|   Lambda |   Media_Espera |   Intervalo_Confianca |   E_X_Teorico |\n",
            "+==========+================+=======================+===============+\n",
            "|      7   |       0.232922 |             0.0107582 |      0.233333 |\n",
            "+----------+----------------+-----------------------+---------------+\n",
            "|      8   |       0.416239 |             0.0199764 |      0.4      |\n",
            "+----------+----------------+-----------------------+---------------+\n",
            "|      9   |       1.14099  |             0.0556693 |      0.9      |\n",
            "+----------+----------------+-----------------------+---------------+\n",
            "|      9.5 |       0.971738 |             0.0485656 |      1.9      |\n",
            "+----------+----------------+-----------------------+---------------+\n"
          ]
        },
        {
          "output_type": "display_data",
          "data": {
            "text/plain": [
              "<Figure size 1000x600 with 1 Axes>"
            ],
            "image/png": "[encoded data removed]"
          },
          "metadata": {}
        }
      ]
    },
    {
      "cell_type": "markdown",
      "source": [
        "## Análise\n",
        "\n",
        "- Cenário I (λ = 7, μ = 10):\n",
        "\n",
        "Tempo médio de espera simulado: 0.232922\n",
        "\n",
        "Intervalo de confiança: 0.0107582\n",
        "\n",
        "Valor teórico esperado: 0.233333\n",
        "\n",
        "- Cenário II (λ = 8, μ = 10):\n",
        "\n",
        "Tempo médio de espera simulado: 0.416239\n",
        "\n",
        "Intervalo de confiança: 0.0199764\n",
        "\n",
        "Valor teórico esperado: 0.4\n",
        "\n",
        "- Cenário III (λ = 9, μ = 10):\n",
        "\n",
        "Tempo médio de espera simulado: 1.14099\n",
        "\n",
        "Intervalo de confiança: 0.0556693\n",
        "\n",
        "Valor teórico esperado: 0.9\n",
        "\n",
        "Neste cenário, o tempo médio de espera simulado foi significativamente maior ao valor teórico esperado. A diferença maior pode indicar que o sistema está mais sensível a variações a medida que a taxa de chegada se aproxima da taxa de serviço. Isso sugere que os tempos de espera estão sendo superiore por conta da fila mais cheia.\n",
        "\n",
        "Além disso, apesar da aplicação da MSER-5Y, a fila está operando sob alta carga, o que aumenta a variabilidade dos tempos de espera.\n",
        "\n",
        "- Cenário IV (λ = 9.5, μ = 10):\n",
        "\n",
        "Tempo médio de espera simulado: 0.971738\n",
        "\n",
        "Intervalo de confiança: 0.0485656\n",
        "\n",
        "Valor teórico esperado: 1.9"
      ],
      "metadata": {
        "id": "7eSMd3zyQIb_"
      }
    }
  ]
}