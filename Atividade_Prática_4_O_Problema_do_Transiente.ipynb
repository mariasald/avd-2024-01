{
  "nbformat": 4,
  "nbformat_minor": 0,
  "metadata": {
    "colab": {
      "provenance": [],
      "authorship_tag": "ABX9TyNSMveIbfKwJbAT0Yp+eJZC",
      "include_colab_link": true
    },
    "kernelspec": {
      "name": "python3",
      "display_name": "Python 3"
    },
    "language_info": {
      "name": "python"
    }
  },
  "cells": [
    {
      "cell_type": "markdown",
      "metadata": {
        "id": "view-in-github",
        "colab_type": "text"
      },
      "source": [
        "<a href=\"https://colab.research.google.com/github/mariasald/avd-2024-01/blob/main/Atividade_Pr%C3%A1tica_4_O_Problema_do_Transiente.ipynb\" target=\"_parent\"><img src=\"https://colab.research.google.com/assets/colab-badge.svg\" alt=\"Open In Colab\"/></a>"
      ]
    },
    {
      "cell_type": "markdown",
      "source": [
        "#**Alunos**\n",
        "\n",
        "* Gabriel César Tavares Ferreira - 21854868\n",
        "* Maria Luiza Saldanha - 22153140"
      ],
      "metadata": {
        "id": "rCTxUQPZO5jA"
      }
    },
    {
      "cell_type": "markdown",
      "source": [
        "#**Bibliotecas Utilizadas**"
      ],
      "metadata": {
        "id": "mQCSksDsX8zg"
      }
    },
    {
      "cell_type": "code",
      "source": [],
      "metadata": {
        "id": "s8otDwV0YAzX"
      },
      "execution_count": null,
      "outputs": []
    },
    {
      "cell_type": "markdown",
      "source": [
        "#**Parte 1**\n",
        "\n",
        "* Estimar $\\bar{X}(n)$, o tempo médio de espera em uma fila M/M/1 (n=103,λ=9,μ=10).\n",
        "* Calcular o valor teórico.\n",
        "* Computar o viés (bias): B=X¯(n)−E[X].\n",
        "* Repetir a simulação r vezes (r=30).\n",
        "* Anotar os resultados em uma tabela.\n",
        "* Analisar os resultados."
      ],
      "metadata": {
        "id": "tDOcEwAEU7mY"
      }
    },
    {
      "cell_type": "code",
      "source": [],
      "metadata": {
        "id": "MD_9laQuV1Kw"
      },
      "execution_count": null,
      "outputs": []
    },
    {
      "cell_type": "markdown",
      "source": [
        "#**Parte 2**\n",
        "\n",
        "* Simular o tempo médio de espera em uma fila M/M/1 (λ=9,μ=10).\n",
        "* Eliminar o transiente usando as heurísticas de (a) Conway e (b) Fishman.\n",
        "* Após eliminar o transiente, coletar n valores no estado estacionário ( n=103).\n",
        "* Calcular X¯(n), o tempo médio de espera na fila e o viés (B).\n",
        "* Repetir a simulação r vezes (r=30).\n",
        "* Mostrar os resultados em uma tabela.\n",
        "* Analisar os resultados."
      ],
      "metadata": {
        "id": "2JonvmF0V1io"
      }
    },
    {
      "cell_type": "code",
      "source": [],
      "metadata": {
        "id": "BIMmYX6HWeG4"
      },
      "execution_count": null,
      "outputs": []
    },
    {
      "cell_type": "markdown",
      "source": [
        "#**Parte 3**\n",
        "\n",
        "* Executar uma simulação de horizonte infinito da fila M/M/1.\n",
        "* Eliminar o transiente usando a heurística MSER-5Y.\n",
        "* Estimar o tempo médio de espera na fila e o respectivo intervalo de confiança de 95%.\n",
        "* A regra de parada é a precisão relativa de 5%.\n",
        "* Cenário    I:  λ=7 clientes por segundo; μ=10 clientes por segundo.\n",
        "* Cenário   II:  λ=8 clientes por segundo; μ=10 clientes por segundo.\n",
        "* Cenário  III:  λ=9 clientes por segundo; μ=10 clientes por segundo.\n",
        "* Cenário IV:  λ=9,5 clientes por segundo; μ=10 clientes por segundo.\n",
        "* Plotar um gráfico comparativo dos quatro cenários.\n",
        "* Plotar uma linha horizontal para o valor teórico esperado em cada cenário.\n",
        "* Analisar os resultados."
      ],
      "metadata": {
        "id": "SL2lAN6EWeSv"
      }
    },
    {
      "cell_type": "code",
      "source": [],
      "metadata": {
        "id": "KA5OM1InXj-X"
      },
      "execution_count": null,
      "outputs": []
    }
  ]
}