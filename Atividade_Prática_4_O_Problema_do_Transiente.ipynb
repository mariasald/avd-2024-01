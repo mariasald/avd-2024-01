{
  "nbformat": 4,
  "nbformat_minor": 0,
  "metadata": {
    "colab": {
      "provenance": [],
      "include_colab_link": true
    },
    "kernelspec": {
      "name": "python3",
      "display_name": "Python 3"
    },
    "language_info": {
      "name": "python"
    }
  },
  "cells": [
    {
      "cell_type": "markdown",
      "metadata": {
        "id": "view-in-github",
        "colab_type": "text"
      },
      "source": [
        "<a href=\"https://colab.research.google.com/github/mariasald/avd-2024-01/blob/main/Atividade_Pr%C3%A1tica_4_O_Problema_do_Transiente.ipynb\" target=\"_parent\"><img src=\"https://colab.research.google.com/assets/colab-badge.svg\" alt=\"Open In Colab\"/></a>"
      ]
    },
    {
      "cell_type": "markdown",
      "source": [
        "#**Alunos**\n",
        "\n",
        "* Gabriel César Tavares Ferreira - 21854868\n",
        "* Maria Luiza Saldanha - 22153140"
      ],
      "metadata": {
        "id": "rCTxUQPZO5jA"
      }
    },
    {
      "cell_type": "markdown",
      "source": [
        "#**Bibliotecas Utilizadas**"
      ],
      "metadata": {
        "id": "mQCSksDsX8zg"
      }
    },
    {
      "cell_type": "code",
      "source": [
        "import math\n",
        "import numpy as np\n",
        "import random\n",
        "import matplotlib.pyplot as plt\n",
        "import scipy.stats\n",
        "from scipy.special import factorial\n",
        "from tabulate import tabulate"
      ],
      "metadata": {
        "id": "s8otDwV0YAzX"
      },
      "execution_count": 26,
      "outputs": []
    },
    {
      "cell_type": "markdown",
      "source": [
        "#**BibAD (1o Trabaho)**"
      ],
      "metadata": {
        "id": "Qoq8GtYfZve3"
      }
    },
    {
      "cell_type": "code",
      "source": [
        "def mediaAritmetica(nums):\n",
        "    return round((sum(nums) / len(nums)), 3)\n",
        "\n",
        "def var_amostral(nums):\n",
        "  med = mediaAritmetica(nums)\n",
        "  quad = np.sum(np.fromiter(((x - med) * (x - med) for x in nums), dtype=float))\n",
        "  var = quad / len(nums)\n",
        "  return round(var)\n",
        "\n",
        "def desvio_padrao(nums):\n",
        "  return round(math.sqrt(var_amostral(nums)))\n",
        "\n",
        "def intervaloConfianca(nums, z):\n",
        "    nivelConfianca = z / 100\n",
        "    a = 1 - nivelConfianca\n",
        "    z_a = 1 - (a / 2)\n",
        "    distribuicao = scipy.stats.norm.ppf(z_a)\n",
        "    erroPadrao = distribuicao * desvio_padrao(nums) / math.sqrt(len(nums))\n",
        "\n",
        "    return [round((mediaAritmetica(nums) - erroPadrao), 3), round((mediaAritmetica(nums) + erroPadrao), 3)]"
      ],
      "metadata": {
        "id": "Of4jPrUNZxYv"
      },
      "execution_count": 27,
      "outputs": []
    },
    {
      "cell_type": "markdown",
      "source": [
        "#**BibAD (3° Trabalho)**"
      ],
      "metadata": {
        "id": "y095cGLFaAmO"
      }
    },
    {
      "cell_type": "code",
      "source": [
        "def va_exponencial(media):\n",
        "  u = random.random()\n",
        "  x = -media * math.log (1 - u)\n",
        "  return round(x,3)\n",
        "\n",
        "def e_x(taxa_chegada, taxa_servico):\n",
        "  rho = taxa_chegada / taxa_servico\n",
        "  E_X = (rho / taxa_servico) / (1 - rho)\n",
        "  return E_X\n",
        "\n",
        "print(va_exponencial(1/9)) #nao esquecer de ver quando receber taxa e quando receber media!!!!!\n",
        "\n",
        "def fila_mm1(taxa_chegada, taxa_servico, clientes_total):\n",
        "    E_X = e_x(taxa_chegada, taxa_servico)\n",
        "\n",
        "    tempos_chegada = np.cumsum([va_exponencial(1/taxa_chegada) for _ in range(clientes_total)])\n",
        "    tempos_servico = [va_exponencial(1/taxa_servico) for _ in range(clientes_total)]\n",
        "\n",
        "    tempos_espera = np.zeros(clientes_total)\n",
        "    tempo_livre = 0\n",
        "\n",
        "    for i in range(clientes_total):\n",
        "        if tempos_chegada[i] > tempo_livre:\n",
        "            tempos_espera[i] = 0\n",
        "            tempo_livre = tempos_chegada[i] + tempos_servico[i]\n",
        "        else:\n",
        "            tempos_espera[i] = tempo_livre - tempos_chegada[i]\n",
        "            tempo_livre += tempos_servico[i]\n",
        "\n",
        "    X_n = np.mean(tempos_espera)\n",
        "    confidencia = 0.95\n",
        "    z = scipy.stats.norm.ppf(1 - (1 - confidencia) / 2)\n",
        "    erro_padrao = np.std(tempos_espera, ddof=1) / np.sqrt(clientes_total)\n",
        "    intervalo_confianca = (X_n - z * erro_padrao, X_n + z * erro_padrao)\n",
        "\n",
        "    return round(X_n, 3)\n",
        "\n"
      ],
      "metadata": {
        "colab": {
          "base_uri": "https://localhost:8080/"
        },
        "id": "Slmbgv7faBB-",
        "outputId": "d1df4566-9c8d-4226-8afc-4019589e1705"
      },
      "execution_count": 28,
      "outputs": [
        {
          "output_type": "stream",
          "name": "stdout",
          "text": [
            "0.297\n"
          ]
        }
      ]
    },
    {
      "cell_type": "markdown",
      "source": [
        "#**Parte 1**\n",
        "\n",
        "$\\bar{X}(n)=\\frac{\\sum_{i=1}^n x_i}{n}$\n",
        "\n",
        "* Estimar $\\bar{X}(n)$, o tempo médio de espera em uma fila M/M/1 ($n=10^3,λ=9,μ=10$).\n",
        "* Calcular o valor teórico: $E[X]=\\rho \\frac{1/\\mu}{1-\\rho}, \\; onde \\; \\rho = \\frac{\\lambda}{\\mu}$\n",
        "* Computar o viés (bias): $B=\\bar{X}(n)−E[X]$.\n",
        "* Repetir a simulação r vezes (r=30).\n",
        "* Anotar os resultados em uma tabela.\n",
        "* Analisar os resultados."
      ],
      "metadata": {
        "id": "tDOcEwAEU7mY"
      }
    },
    {
      "cell_type": "code",
      "source": [
        "resultados = fila_mm1(9, 10, 10**3)\n",
        "print(resultados)"
      ],
      "metadata": {
        "id": "MD_9laQuV1Kw",
        "colab": {
          "base_uri": "https://localhost:8080/"
        },
        "outputId": "a53557e0-3991-4b42-aed6-e735c44a5014"
      },
      "execution_count": 29,
      "outputs": [
        {
          "output_type": "stream",
          "name": "stdout",
          "text": [
            "1.611\n"
          ]
        }
      ]
    },
    {
      "cell_type": "code",
      "source": [
        "resultados1 = e_x(9, 10)\n",
        "print(resultados1)"
      ],
      "metadata": {
        "colab": {
          "base_uri": "https://localhost:8080/"
        },
        "id": "-TFxfAsLj_UH",
        "outputId": "f5650327-5ad1-4594-e664-b2f0beafd25b"
      },
      "execution_count": 30,
      "outputs": [
        {
          "output_type": "stream",
          "name": "stdout",
          "text": [
            "0.9000000000000001\n"
          ]
        }
      ]
    },
    {
      "cell_type": "code",
      "source": [
        "bias = resultados-resultados1\n",
        "print(bias)"
      ],
      "metadata": {
        "colab": {
          "base_uri": "https://localhost:8080/"
        },
        "id": "Min38ndWlato",
        "outputId": "953e2b5e-4113-4e14-f6f1-3078e447b73e"
      },
      "execution_count": 31,
      "outputs": [
        {
          "output_type": "stream",
          "name": "stdout",
          "text": [
            "0.7109999999999999\n"
          ]
        }
      ]
    },
    {
      "cell_type": "code",
      "source": [
        "result_t = [[\"X\", \"B\"]]\n",
        "for i in range(30):\n",
        "  aux = []\n",
        "  result = fila_mm1(9, 10, 10**3)\n",
        "  bias = result - e_x(9, 10)\n",
        "  aux.append(result)\n",
        "  aux.append(bias)\n",
        "  result_t.append(aux)\n",
        "\n",
        "tabela = tabulate(result_t, headers=\"firstrow\", tablefmt=\"grid\")\n",
        "print(tabela)"
      ],
      "metadata": {
        "colab": {
          "base_uri": "https://localhost:8080/"
        },
        "id": "f5oP3Ii_mBBo",
        "outputId": "fdd385c7-6c53-4fa2-c0a5-09e2e8adae04"
      },
      "execution_count": 32,
      "outputs": [
        {
          "output_type": "stream",
          "name": "stdout",
          "text": [
            "+-------+--------+\n",
            "|     X |      B |\n",
            "+=======+========+\n",
            "| 0.687 | -0.213 |\n",
            "+-------+--------+\n",
            "| 0.57  | -0.33  |\n",
            "+-------+--------+\n",
            "| 1.065 |  0.165 |\n",
            "+-------+--------+\n",
            "| 0.653 | -0.247 |\n",
            "+-------+--------+\n",
            "| 0.768 | -0.132 |\n",
            "+-------+--------+\n",
            "| 0.41  | -0.49  |\n",
            "+-------+--------+\n",
            "| 0.48  | -0.42  |\n",
            "+-------+--------+\n",
            "| 0.483 | -0.417 |\n",
            "+-------+--------+\n",
            "| 1.139 |  0.239 |\n",
            "+-------+--------+\n",
            "| 0.851 | -0.049 |\n",
            "+-------+--------+\n",
            "| 0.905 |  0.005 |\n",
            "+-------+--------+\n",
            "| 0.455 | -0.445 |\n",
            "+-------+--------+\n",
            "| 0.6   | -0.3   |\n",
            "+-------+--------+\n",
            "| 0.817 | -0.083 |\n",
            "+-------+--------+\n",
            "| 0.473 | -0.427 |\n",
            "+-------+--------+\n",
            "| 1.192 |  0.292 |\n",
            "+-------+--------+\n",
            "| 0.41  | -0.49  |\n",
            "+-------+--------+\n",
            "| 1.802 |  0.902 |\n",
            "+-------+--------+\n",
            "| 0.489 | -0.411 |\n",
            "+-------+--------+\n",
            "| 0.711 | -0.189 |\n",
            "+-------+--------+\n",
            "| 1.054 |  0.154 |\n",
            "+-------+--------+\n",
            "| 0.405 | -0.495 |\n",
            "+-------+--------+\n",
            "| 0.666 | -0.234 |\n",
            "+-------+--------+\n",
            "| 0.797 | -0.103 |\n",
            "+-------+--------+\n",
            "| 0.843 | -0.057 |\n",
            "+-------+--------+\n",
            "| 0.609 | -0.291 |\n",
            "+-------+--------+\n",
            "| 0.533 | -0.367 |\n",
            "+-------+--------+\n",
            "| 0.641 | -0.259 |\n",
            "+-------+--------+\n",
            "| 0.439 | -0.461 |\n",
            "+-------+--------+\n",
            "| 1.15  |  0.25  |\n",
            "+-------+--------+\n"
          ]
        }
      ]
    },
    {
      "cell_type": "markdown",
      "source": [
        "Análise"
      ],
      "metadata": {
        "id": "HPCJvC9xWYyg"
      }
    },
    {
      "cell_type": "markdown",
      "source": [
        "#**Parte 2**\n",
        "\n",
        "* Simular o tempo médio de espera em uma fila M/M/1 (λ=9,μ=10).\n",
        "* Eliminar o transiente usando as heurísticas de (a) Conway e (b) Fishman.\n",
        "* Após eliminar o transiente, coletar n valores no estado estacionário ( n=103).\n",
        "* Calcular $\\bar{X}(n)$, o tempo médio de espera na fila e o viés (B).\n",
        "* Repetir a simulação r vezes (r=30).\n",
        "* Mostrar os resultados em uma tabela.\n",
        "* Analisar os resultados."
      ],
      "metadata": {
        "id": "2JonvmF0V1io"
      }
    },
    {
      "cell_type": "markdown",
      "source": [
        "##Heurística de Conway\n",
        "Conway sugere descartar os primeiros 20% dos dados para eliminar o transiente.\n",
        "\n",
        "##Heurística de Fishman\n",
        "Fishman sugere descartar dados até que o sistema atinja um estado estacionário.\n"
      ],
      "metadata": {
        "id": "GwgHe90n6Sws"
      }
    },
    {
      "cell_type": "code",
      "source": [
        "resultados = fila_mm1(9, 10, 10**3)\n",
        "print(resultados)"
      ],
      "metadata": {
        "id": "BIMmYX6HWeG4",
        "colab": {
          "base_uri": "https://localhost:8080/"
        },
        "outputId": "207d3579-6c87-4bb1-a56c-22083a82c929"
      },
      "execution_count": 33,
      "outputs": [
        {
          "output_type": "stream",
          "name": "stdout",
          "text": [
            "1.937\n"
          ]
        }
      ]
    },
    {
      "cell_type": "code",
      "source": [
        "resultadosTeorico = e_x(9, 10)\n",
        "print(resultadosTeorico)"
      ],
      "metadata": {
        "colab": {
          "base_uri": "https://localhost:8080/"
        },
        "id": "YpM4V27m8vb0",
        "outputId": "90e8c334-9f08-4ce1-9192-5c3c35c791cb"
      },
      "execution_count": 34,
      "outputs": [
        {
          "output_type": "stream",
          "name": "stdout",
          "text": [
            "0.9000000000000001\n"
          ]
        }
      ]
    },
    {
      "cell_type": "code",
      "source": [
        "bias = resultados-resultadosTeorico\n",
        "print(bias)"
      ],
      "metadata": {
        "colab": {
          "base_uri": "https://localhost:8080/"
        },
        "id": "PP7j3Shs85C-",
        "outputId": "7a9c67dd-f6e1-402f-f990-32401444a991"
      },
      "execution_count": 35,
      "outputs": [
        {
          "output_type": "stream",
          "name": "stdout",
          "text": [
            "1.037\n"
          ]
        }
      ]
    },
    {
      "cell_type": "code",
      "source": [
        "def heuristica_conway(dados):\n",
        "    return dados[int(0.2 * len(dados)):]\n",
        "\n",
        "def heuristica_fishman(dados):\n",
        "    tamanho_janela = 50\n",
        "    for i in range(len(dados) - tamanho_janela):\n",
        "        janela = dados[i:i+tamanho_janela]\n",
        "        media_janela = np.mean(janela)\n",
        "        if np.all(np.abs(janela - media_janela) < 0.01 * media_janela):\n",
        "            return dados[i+tamanho_janela:]\n",
        "    return dados\n",
        "\n",
        "def fila_mm1_com_heuristicas(taxa_chegada, taxa_servico, clientes_total):\n",
        "    E_X = e_x(taxa_chegada, taxa_servico)\n",
        "    tempos_chegada = np.cumsum([va_exponencial(1/taxa_chegada) for _ in range(clientes_total)])\n",
        "    tempos_servico = [va_exponencial(1/taxa_servico) for _ in range(clientes_total)]\n",
        "\n",
        "    tempos_espera = np.zeros(clientes_total)\n",
        "    tempo_livre = 0\n",
        "\n",
        "    for i in range(clientes_total):\n",
        "        if tempos_chegada[i] > tempo_livre:\n",
        "            tempos_espera[i] = 0\n",
        "            tempo_livre = tempos_chegada[i] + tempos_servico[i]\n",
        "        else:\n",
        "            tempos_espera[i] = tempo_livre - tempos_chegada[i]\n",
        "            tempo_livre += tempos_servico[i]\n",
        "\n",
        "    tempos_espera_conway = heuristica_conway(tempos_espera)\n",
        "    tempos_espera_fishman = heuristica_fishman(tempos_espera)\n",
        "\n",
        "    X_n_conway = np.mean(tempos_espera_conway)\n",
        "    X_n_fishman = np.mean(tempos_espera_fishman)\n",
        "\n",
        "    return round(X_n_conway, 3), round(X_n_fishman, 3)\n"
      ],
      "metadata": {
        "id": "OdX2sNbyWeNw"
      },
      "execution_count": 36,
      "outputs": []
    },
    {
      "cell_type": "code",
      "source": [
        "taxa_chegada = 9\n",
        "taxa_servico = 10\n",
        "clientes_total = 10**3\n",
        "\n",
        "E_X_teorico = e_x(taxa_chegada, taxa_servico)\n",
        "\n",
        "resultados_conway = [[\"X_Conway\", \"B_Conway\"]]\n",
        "resultados_fishman = [[\"X_Fishman\", \"B_Fishman\"]]\n",
        "for i in range(30):\n",
        "    resultado_conway, resultado_fishman = fila_mm1_com_heuristicas(taxa_chegada, taxa_servico, clientes_total)\n",
        "    vies_conway = resultado_conway - E_X_teorico\n",
        "    vies_fishman = resultado_fishman - E_X_teorico\n",
        "    resultados_conway.append([resultado_conway, vies_conway])\n",
        "    resultados_fishman.append([resultado_fishman, vies_fishman])\n",
        "\n",
        "tabela_conway = tabulate(resultados_conway, headers=\"firstrow\", tablefmt=\"grid\")\n",
        "tabela_fishman = tabulate(resultados_fishman, headers=\"firstrow\", tablefmt=\"grid\")\n",
        "\n",
        "print(\"Tabela de Resultados - Conway\")\n",
        "print(tabela_conway)\n",
        "print(\"\\nTabela de Resultados - Fishman\")\n",
        "print(tabela_fishman)"
      ],
      "metadata": {
        "colab": {
          "base_uri": "https://localhost:8080/"
        },
        "id": "Ktk3cU2H9H6A",
        "outputId": "9f50860a-bc7e-41fc-bdef-d44348e3028c"
      },
      "execution_count": 37,
      "outputs": [
        {
          "output_type": "stream",
          "name": "stdout",
          "text": [
            "Tabela de Resultados - Conway\n",
            "+------------+------------+\n",
            "|   X_Conway |   B_Conway |\n",
            "+============+============+\n",
            "|      0.886 |     -0.014 |\n",
            "+------------+------------+\n",
            "|      0.46  |     -0.44  |\n",
            "+------------+------------+\n",
            "|      0.552 |     -0.348 |\n",
            "+------------+------------+\n",
            "|      0.406 |     -0.494 |\n",
            "+------------+------------+\n",
            "|      0.506 |     -0.394 |\n",
            "+------------+------------+\n",
            "|      0.594 |     -0.306 |\n",
            "+------------+------------+\n",
            "|      1.637 |      0.737 |\n",
            "+------------+------------+\n",
            "|      0.897 |     -0.003 |\n",
            "+------------+------------+\n",
            "|      0.672 |     -0.228 |\n",
            "+------------+------------+\n",
            "|      0.835 |     -0.065 |\n",
            "+------------+------------+\n",
            "|      1.107 |      0.207 |\n",
            "+------------+------------+\n",
            "|      0.512 |     -0.388 |\n",
            "+------------+------------+\n",
            "|      0.514 |     -0.386 |\n",
            "+------------+------------+\n",
            "|      0.386 |     -0.514 |\n",
            "+------------+------------+\n",
            "|      0.367 |     -0.533 |\n",
            "+------------+------------+\n",
            "|      1.924 |      1.024 |\n",
            "+------------+------------+\n",
            "|      0.376 |     -0.524 |\n",
            "+------------+------------+\n",
            "|      0.596 |     -0.304 |\n",
            "+------------+------------+\n",
            "|      1.889 |      0.989 |\n",
            "+------------+------------+\n",
            "|      0.63  |     -0.27  |\n",
            "+------------+------------+\n",
            "|      1.081 |      0.181 |\n",
            "+------------+------------+\n",
            "|      0.801 |     -0.099 |\n",
            "+------------+------------+\n",
            "|      0.52  |     -0.38  |\n",
            "+------------+------------+\n",
            "|      0.77  |     -0.13  |\n",
            "+------------+------------+\n",
            "|      0.442 |     -0.458 |\n",
            "+------------+------------+\n",
            "|      0.628 |     -0.272 |\n",
            "+------------+------------+\n",
            "|      0.699 |     -0.201 |\n",
            "+------------+------------+\n",
            "|      1.166 |      0.266 |\n",
            "+------------+------------+\n",
            "|      0.983 |      0.083 |\n",
            "+------------+------------+\n",
            "|      1.548 |      0.648 |\n",
            "+------------+------------+\n",
            "\n",
            "Tabela de Resultados - Fishman\n",
            "+-------------+-------------+\n",
            "|   X_Fishman |   B_Fishman |\n",
            "+=============+=============+\n",
            "|       0.772 |      -0.128 |\n",
            "+-------------+-------------+\n",
            "|       0.456 |      -0.444 |\n",
            "+-------------+-------------+\n",
            "|       0.67  |      -0.23  |\n",
            "+-------------+-------------+\n",
            "|       0.383 |      -0.517 |\n",
            "+-------------+-------------+\n",
            "|       0.514 |      -0.386 |\n",
            "+-------------+-------------+\n",
            "|       0.625 |      -0.275 |\n",
            "+-------------+-------------+\n",
            "|       1.673 |       0.773 |\n",
            "+-------------+-------------+\n",
            "|       0.93  |       0.03  |\n",
            "+-------------+-------------+\n",
            "|       0.607 |      -0.293 |\n",
            "+-------------+-------------+\n",
            "|       0.781 |      -0.119 |\n",
            "+-------------+-------------+\n",
            "|       0.962 |       0.062 |\n",
            "+-------------+-------------+\n",
            "|       0.479 |      -0.421 |\n",
            "+-------------+-------------+\n",
            "|       0.47  |      -0.43  |\n",
            "+-------------+-------------+\n",
            "|       0.36  |      -0.54  |\n",
            "+-------------+-------------+\n",
            "|       0.37  |      -0.53  |\n",
            "+-------------+-------------+\n",
            "|       1.606 |       0.706 |\n",
            "+-------------+-------------+\n",
            "|       0.635 |      -0.265 |\n",
            "+-------------+-------------+\n",
            "|       0.524 |      -0.376 |\n",
            "+-------------+-------------+\n",
            "|       1.682 |       0.782 |\n",
            "+-------------+-------------+\n",
            "|       0.572 |      -0.328 |\n",
            "+-------------+-------------+\n",
            "|       1.01  |       0.11  |\n",
            "+-------------+-------------+\n",
            "|       0.702 |      -0.198 |\n",
            "+-------------+-------------+\n",
            "|       0.463 |      -0.437 |\n",
            "+-------------+-------------+\n",
            "|       0.715 |      -0.185 |\n",
            "+-------------+-------------+\n",
            "|       0.664 |      -0.236 |\n",
            "+-------------+-------------+\n",
            "|       0.65  |      -0.25  |\n",
            "+-------------+-------------+\n",
            "|       0.684 |      -0.216 |\n",
            "+-------------+-------------+\n",
            "|       1.009 |       0.109 |\n",
            "+-------------+-------------+\n",
            "|       0.937 |       0.037 |\n",
            "+-------------+-------------+\n",
            "|       1.301 |       0.401 |\n",
            "+-------------+-------------+\n"
          ]
        }
      ]
    },
    {
      "cell_type": "markdown",
      "source": [
        "#**Parte 3**\n",
        "\n",
        "* Executar uma simulação de horizonte infinito da fila M/M/1.\n",
        "* Eliminar o transiente usando a heurística MSER-5Y.\n",
        "* Estimar o tempo médio de espera na fila e o respectivo intervalo de confiança de 95%.\n",
        "* A regra de parada é a precisão relativa de 5%.\n",
        "* Cenário    I:  λ=7 clientes por segundo; μ=10 clientes por segundo.\n",
        "* Cenário   II:  λ=8 clientes por segundo; μ=10 clientes por segundo.\n",
        "* Cenário  III:  λ=9 clientes por segundo; μ=10 clientes por segundo.\n",
        "* Cenário IV:  λ=9,5 clientes por segundo; μ=10 clientes por segundo.\n",
        "* Plotar um gráfico comparativo dos quatro cenários.\n",
        "* Plotar uma linha horizontal para o valor teórico esperado em cada cenário.\n",
        "* Analisar os resultados."
      ],
      "metadata": {
        "id": "SL2lAN6EWeSv"
      }
    },
    {
      "cell_type": "markdown",
      "source": [
        "## MYSER-5Y\n",
        "\n",
        "É usada para eliminar transientes em simulações de horizonte infinito. A ideia é encontrar o ponto em que a média quadrática do erro é minimizada."
      ],
      "metadata": {
        "id": "cU8O5DWV9zOO"
      }
    },
    {
      "cell_type": "code",
      "source": [
        "def fila_mm1_infinito(taxa_chegada, taxa_servico, num_clientes):\n",
        "    tempos_chegada = np.cumsum([va_exponencial(1/taxa_chegada) for _ in range(num_clientes)])\n",
        "    tempos_servico = [va_exponencial(1/taxa_servico) for _ in range(num_clientes)]\n",
        "\n",
        "    tempos_espera = np.zeros(num_clientes)\n",
        "    tempo_livre = 0\n",
        "\n",
        "    for i in range(num_clientes):\n",
        "        if tempos_chegada[i] > tempo_livre:\n",
        "            tempos_espera[i] = 0\n",
        "            tempo_livre = tempos_chegada[i] + tempos_servico[i]\n",
        "        else:\n",
        "            tempos_espera[i] = tempo_livre - tempos_chegada[i]\n",
        "            tempo_livre += tempos_servico[i]\n",
        "\n",
        "    return tempos_espera"
      ],
      "metadata": {
        "id": "KA5OM1InXj-X"
      },
      "execution_count": 38,
      "outputs": []
    },
    {
      "cell_type": "code",
      "source": [
        "def heuristica_mser_5y(tempos_espera, num_batches=5):\n",
        "    batch_size = len(tempos_espera) // num_batches\n",
        "    min_mse = float('inf')\n",
        "    min_index = 0\n",
        "\n",
        "    for i in range(batch_size, len(tempos_espera), batch_size):\n",
        "        batch_means = [np.mean(tempos_espera[j:j+batch_size]) for j in range(0, i, batch_size)]\n",
        "        mse = np.mean((batch_means - np.mean(batch_means))**2)\n",
        "        if mse < min_mse:\n",
        "            min_mse = mse\n",
        "            min_index = i\n",
        "\n",
        "    return tempos_espera[min_index:]\n"
      ],
      "metadata": {
        "id": "xJFApRaQ-Dd2"
      },
      "execution_count": 39,
      "outputs": []
    },
    {
      "cell_type": "code",
      "source": [
        "def simular_fila_mm1(taxa_chegada, taxa_servico, precisao_relativa=0.05, num_clientes_inicial=10000, incremento=5000):\n",
        "    while True:\n",
        "        tempos_espera = fila_mm1_infinito(taxa_chegada, taxa_servico, num_clientes_inicial)\n",
        "        tempos_espera = heuristica_mser_5y(tempos_espera)\n",
        "        media_espera = np.mean(tempos_espera)\n",
        "        desvio_padrao = np.std(tempos_espera, ddof=1)\n",
        "        erro_padrao = desvio_padrao / math.sqrt(len(tempos_espera))\n",
        "        intervalo_confianca = 1.96 * erro_padrao\n",
        "\n",
        "        precisao_atual = intervalo_confianca / media_espera\n",
        "        if precisao_atual <= precisao_relativa:\n",
        "            return media_espera, intervalo_confianca\n",
        "        else:\n",
        "            num_clientes_inicial += incremento\n",
        "\n",
        "cenarios = [(7, 10), (8, 10), (9, 10), (9.5, 10)]\n",
        "resultados = []\n",
        "\n",
        "for lambda_chegada, mu_servico in cenarios:\n",
        "    media_espera, intervalo_confianca = simular_fila_mm1(lambda_chegada, mu_servico)\n",
        "    e_x_teorico = e_x(lambda_chegada, mu_servico)\n",
        "    resultados.append((lambda_chegada, media_espera, intervalo_confianca, e_x_teorico))\n",
        "\n",
        "tabela_resultados = [[\"Lambda\", \"Media_Espera\", \"Intervalo_Confianca\", \"E_X_Teorico\"]]\n",
        "for resultado in resultados:\n",
        "    tabela_resultados.append(list(resultado))\n",
        "\n",
        "tabela = tabulate(tabela_resultados, headers=\"firstrow\", tablefmt=\"grid\")\n",
        "print(tabela)\n",
        "\n",
        "lambdas = [resultado[0] for resultado in resultados]\n",
        "medias_espera = [resultado[1] for resultado in resultados]\n",
        "intervalos_confianca = [resultado[2] for resultado in resultados]\n",
        "valores_teoricos = [resultado[3] for resultado in resultados]\n",
        "\n",
        "plt.figure(figsize=(10, 6))\n",
        "plt.errorbar(lambdas, medias_espera, yerr=intervalos_confianca, fmt='o', label='Simulado')\n",
        "plt.plot(lambdas, valores_teoricos, 'r-', label='Teórico')\n",
        "plt.xlabel('Lambda (Taxa de Chegada)')\n",
        "plt.ylabel('Tempo Médio de Espera')\n",
        "plt.title('Comparação dos Cenários - Tempo Médio de Espera na Fila M/M/1')\n",
        "plt.legend()\n",
        "plt.grid(True)\n",
        "plt.show()"
      ],
      "metadata": {
        "id": "kDj10w2P-HAC",
        "outputId": "81155283-015c-49eb-bba5-eb8f221d3cba",
        "colab": {
          "base_uri": "https://localhost:8080/",
          "height": 756
        }
      },
      "execution_count": 40,
      "outputs": [
        {
          "output_type": "stream",
          "name": "stdout",
          "text": [
            "+----------+----------------+-----------------------+---------------+\n",
            "|   Lambda |   Media_Espera |   Intervalo_Confianca |   E_X_Teorico |\n",
            "+==========+================+=======================+===============+\n",
            "|      7   |       0.253121 |            0.00746234 |      0.233333 |\n",
            "+----------+----------------+-----------------------+---------------+\n",
            "|      8   |       0.428192 |            0.0122585  |      0.4      |\n",
            "+----------+----------------+-----------------------+---------------+\n",
            "|      9   |       0.654754 |            0.0145232  |      0.9      |\n",
            "+----------+----------------+-----------------------+---------------+\n",
            "|      9.5 |       0.914934 |            0.0177786  |      1.9      |\n",
            "+----------+----------------+-----------------------+---------------+\n"
          ]
        },
        {
          "output_type": "display_data",
          "data": {
            "text/plain": [
              "<Figure size 1000x600 with 1 Axes>"
            ],
            "image/png": "[encoded data removed]"
          },
          "metadata": {}
        }
      ]
    }
  ]
}