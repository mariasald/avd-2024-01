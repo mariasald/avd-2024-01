{
  "nbformat": 4,
  "nbformat_minor": 0,
  "metadata": {
    "colab": {
      "provenance": [],
      "include_colab_link": true
    },
    "kernelspec": {
      "name": "python3",
      "display_name": "Python 3"
    },
    "language_info": {
      "name": "python"
    }
  },
  "cells": [
    {
      "cell_type": "markdown",
      "metadata": {
        "id": "view-in-github",
        "colab_type": "text"
      },
      "source": [
        "<a href=\"https://colab.research.google.com/github/mariasald/avd-2024-01/blob/main/Atividade_Pr%C3%A1tica_5_Continua%C3%A7%C3%A3o_O_Problema_do_Transiente.ipynb\" target=\"_parent\"><img src=\"https://colab.research.google.com/assets/colab-badge.svg\" alt=\"Open In Colab\"/></a>"
      ]
    },
    {
      "cell_type": "markdown",
      "source": [
        "#**Alunos**\n",
        "\n",
        "* Gabriel César Tavares Ferreira - 21854868\n",
        "* Maria Luiza Saldanha - 22153140"
      ],
      "metadata": {
        "id": "rCTxUQPZO5jA"
      }
    },
    {
      "cell_type": "markdown",
      "source": [
        "#**Bibliotecas Utilizadas**"
      ],
      "metadata": {
        "id": "mQCSksDsX8zg"
      }
    },
    {
      "cell_type": "code",
      "source": [
        "import math\n",
        "import numpy as np\n",
        "import random\n",
        "import matplotlib.pyplot as plt\n",
        "import scipy.stats\n",
        "from scipy.special import factorial\n",
        "from tabulate import tabulate"
      ],
      "metadata": {
        "id": "s8otDwV0YAzX"
      },
      "execution_count": null,
      "outputs": []
    },
    {
      "cell_type": "markdown",
      "source": [
        "#**BibAD (1o Trabaho)**"
      ],
      "metadata": {
        "id": "Qoq8GtYfZve3"
      }
    },
    {
      "cell_type": "code",
      "source": [
        "def mediaAritmetica(nums):\n",
        "    return round((sum(nums) / len(nums)), 3)\n",
        "\n",
        "def var_amostral(nums):\n",
        "  med = mediaAritmetica(nums)\n",
        "  quad = np.sum(np.fromiter(((x - med) * (x - med) for x in nums), dtype=float))\n",
        "  var = quad / len(nums)\n",
        "  return round(var)\n",
        "\n",
        "def desvio_padrao(nums):\n",
        "  return round(math.sqrt(var_amostral(nums)))\n",
        "\n",
        "def intervaloConfianca(nums, z):\n",
        "    nivelConfianca = z / 100\n",
        "    a = 1 - nivelConfianca\n",
        "    z_a = 1 - (a / 2)\n",
        "    distribuicao = scipy.stats.norm.ppf(z_a)\n",
        "    erroPadrao = distribuicao * desvio_padrao(nums) / math.sqrt(len(nums))\n",
        "\n",
        "    return [round((mediaAritmetica(nums) - erroPadrao), 3), round((mediaAritmetica(nums) + erroPadrao), 3)]"
      ],
      "metadata": {
        "id": "Of4jPrUNZxYv"
      },
      "execution_count": null,
      "outputs": []
    },
    {
      "cell_type": "markdown",
      "source": [
        "#**BibAD (3° Trabalho)**"
      ],
      "metadata": {
        "id": "y095cGLFaAmO"
      }
    },
    {
      "cell_type": "code",
      "source": [
        "def va_exponencial(media):\n",
        "  u = random.random()\n",
        "  x = -media * math.log (1 - u)\n",
        "  return round(x,3)\n",
        "\n",
        "def e_x(taxa_chegada, taxa_servico):\n",
        "  rho = taxa_chegada / taxa_servico\n",
        "  E_X = (rho / taxa_servico) / (1 - rho)\n",
        "  return E_X\n",
        "\n",
        "print(va_exponencial(1/9)) #nao esquecer de ver quando receber taxa e quando receber media!!!!!\n",
        "\n",
        "def fila_mm1(taxa_chegada, taxa_servico, clientes_total):\n",
        "    E_X = e_x(taxa_chegada, taxa_servico)\n",
        "\n",
        "    tempos_chegada = np.cumsum([va_exponencial(1/taxa_chegada) for _ in range(clientes_total)])\n",
        "    tempos_servico = [va_exponencial(1/taxa_servico) for _ in range(clientes_total)]\n",
        "\n",
        "    tempos_espera = np.zeros(clientes_total)\n",
        "    tempo_livre = 0\n",
        "\n",
        "    for i in range(clientes_total):\n",
        "        if tempos_chegada[i] > tempo_livre:\n",
        "            tempos_espera[i] = 0\n",
        "            tempo_livre = tempos_chegada[i] + tempos_servico[i]\n",
        "        else:\n",
        "            tempos_espera[i] = tempo_livre - tempos_chegada[i]\n",
        "            tempo_livre += tempos_servico[i]\n",
        "\n",
        "    X_n = np.mean(tempos_espera)\n",
        "    confidencia = 0.95\n",
        "    z = scipy.stats.norm.ppf(1 - (1 - confidencia) / 2)\n",
        "    erro_padrao = np.std(tempos_espera, ddof=1) / np.sqrt(clientes_total)\n",
        "    intervalo_confianca = (X_n - z * erro_padrao, X_n + z * erro_padrao)\n",
        "\n",
        "    return round(X_n, 3)\n",
        "\n"
      ],
      "metadata": {
        "colab": {
          "base_uri": "https://localhost:8080/"
        },
        "id": "Slmbgv7faBB-",
        "outputId": "ead1f0b7-4738-42cc-fa35-69fe35f49128"
      },
      "execution_count": null,
      "outputs": [
        {
          "output_type": "stream",
          "name": "stdout",
          "text": [
            "0.176\n"
          ]
        }
      ]
    },
    {
      "cell_type": "markdown",
      "source": [
        "#**Parte 1**\n",
        "\n",
        "$\\bar{X}(n)=\\frac{\\sum_{i=1}^n x_i}{n}$\n",
        "\n",
        "* Estimar $\\bar{X}(n)$, o tempo médio de espera em uma fila M/M/1 ($n=10^3,λ=9,μ=10$).\n",
        "* Calcular o valor teórico: $E[X]=\\rho \\frac{1/\\mu}{1-\\rho}, \\; onde \\; \\rho = \\frac{\\lambda}{\\mu}$\n",
        "* Computar o viés (bias): $B=\\bar{X}(n)−E[X]$.\n",
        "* Repetir a simulação r vezes (r=30).\n",
        "* Anotar os resultados em uma tabela.\n",
        "* Analisar os resultados."
      ],
      "metadata": {
        "id": "tDOcEwAEU7mY"
      }
    },
    {
      "cell_type": "code",
      "source": [
        "resultados = fila_mm1(9, 10, 10**3)\n",
        "print(resultados)"
      ],
      "metadata": {
        "id": "MD_9laQuV1Kw",
        "colab": {
          "base_uri": "https://localhost:8080/"
        },
        "outputId": "d3f15694-d808-4fad-d463-862942db5a5d"
      },
      "execution_count": null,
      "outputs": [
        {
          "output_type": "stream",
          "name": "stdout",
          "text": [
            "0.553\n"
          ]
        }
      ]
    },
    {
      "cell_type": "code",
      "source": [
        "resultados1 = e_x(9, 10)\n",
        "print(resultados1)"
      ],
      "metadata": {
        "colab": {
          "base_uri": "https://localhost:8080/"
        },
        "id": "-TFxfAsLj_UH",
        "outputId": "5ceaa99a-6f29-47cb-a8f9-7a7ddf5bb639"
      },
      "execution_count": null,
      "outputs": [
        {
          "output_type": "stream",
          "name": "stdout",
          "text": [
            "0.9000000000000001\n"
          ]
        }
      ]
    },
    {
      "cell_type": "code",
      "source": [
        "bias = resultados-resultados1\n",
        "print(bias)"
      ],
      "metadata": {
        "colab": {
          "base_uri": "https://localhost:8080/"
        },
        "id": "Min38ndWlato",
        "outputId": "677c8b4e-9980-44af-946d-d11f0eaa8518"
      },
      "execution_count": null,
      "outputs": [
        {
          "output_type": "stream",
          "name": "stdout",
          "text": [
            "-0.3470000000000001\n"
          ]
        }
      ]
    },
    {
      "cell_type": "code",
      "source": [
        "result_t = [[\"X\", \"B\"]]\n",
        "for i in range(30):\n",
        "  aux = []\n",
        "  result = fila_mm1(9, 10, 10**3)\n",
        "  bias = result - e_x(9, 10)\n",
        "  aux.append(result)\n",
        "  aux.append(bias)\n",
        "  result_t.append(aux)\n",
        "\n",
        "tabela = tabulate(result_t, headers=\"firstrow\", tablefmt=\"grid\")\n",
        "print(tabela)"
      ],
      "metadata": {
        "colab": {
          "base_uri": "https://localhost:8080/"
        },
        "id": "f5oP3Ii_mBBo",
        "outputId": "d2a6c3d9-3474-426e-e523-3c7596216061"
      },
      "execution_count": null,
      "outputs": [
        {
          "output_type": "stream",
          "name": "stdout",
          "text": [
            "+-------+--------+\n",
            "|     X |      B |\n",
            "+=======+========+\n",
            "| 0.6   | -0.3   |\n",
            "+-------+--------+\n",
            "| 0.619 | -0.281 |\n",
            "+-------+--------+\n",
            "| 0.535 | -0.365 |\n",
            "+-------+--------+\n",
            "| 0.411 | -0.489 |\n",
            "+-------+--------+\n",
            "| 0.754 | -0.146 |\n",
            "+-------+--------+\n",
            "| 0.403 | -0.497 |\n",
            "+-------+--------+\n",
            "| 1.139 |  0.239 |\n",
            "+-------+--------+\n",
            "| 0.494 | -0.406 |\n",
            "+-------+--------+\n",
            "| 0.467 | -0.433 |\n",
            "+-------+--------+\n",
            "| 0.575 | -0.325 |\n",
            "+-------+--------+\n",
            "| 1.198 |  0.298 |\n",
            "+-------+--------+\n",
            "| 0.732 | -0.168 |\n",
            "+-------+--------+\n",
            "| 0.635 | -0.265 |\n",
            "+-------+--------+\n",
            "| 0.764 | -0.136 |\n",
            "+-------+--------+\n",
            "| 0.721 | -0.179 |\n",
            "+-------+--------+\n",
            "| 0.462 | -0.438 |\n",
            "+-------+--------+\n",
            "| 3.025 |  2.125 |\n",
            "+-------+--------+\n",
            "| 0.772 | -0.128 |\n",
            "+-------+--------+\n",
            "| 0.717 | -0.183 |\n",
            "+-------+--------+\n",
            "| 1.206 |  0.306 |\n",
            "+-------+--------+\n",
            "| 0.466 | -0.434 |\n",
            "+-------+--------+\n",
            "| 0.423 | -0.477 |\n",
            "+-------+--------+\n",
            "| 0.389 | -0.511 |\n",
            "+-------+--------+\n",
            "| 0.787 | -0.113 |\n",
            "+-------+--------+\n",
            "| 0.776 | -0.124 |\n",
            "+-------+--------+\n",
            "| 0.603 | -0.297 |\n",
            "+-------+--------+\n",
            "| 0.426 | -0.474 |\n",
            "+-------+--------+\n",
            "| 0.911 |  0.011 |\n",
            "+-------+--------+\n",
            "| 0.591 | -0.309 |\n",
            "+-------+--------+\n",
            "| 1.24  |  0.34  |\n",
            "+-------+--------+\n"
          ]
        }
      ]
    },
    {
      "cell_type": "markdown",
      "source": [
        "## Análise\n",
        "\n",
        "- Tempo Médio de Espera (X): Os valores variam de 0.405 a 1.802.\n",
        "\n",
        "Média: ≈ 0.74\n",
        "\n",
        "Desvio padrão: ≈ 0.294\n",
        "\n",
        "- Média do Viés (B):\n",
        "\n",
        "Média: ≈ −0.06\n",
        "\n",
        "Desvio Padrão: ≈ 0.344"
      ],
      "metadata": {
        "id": "HPCJvC9xWYyg"
      }
    },
    {
      "cell_type": "markdown",
      "source": [
        "#**Parte 2**\n",
        "\n",
        "* Simular o tempo médio de espera em uma fila M/M/1 (λ=9,μ=10).\n",
        "* Eliminar o transiente usando as heurísticas de (a) Conway e (b) Fishman.\n",
        "* Após eliminar o transiente, coletar n valores no estado estacionário ( n=103).\n",
        "* Calcular $\\bar{X}(n)$, o tempo médio de espera na fila e o viés (B).\n",
        "* Repetir a simulação r vezes (r=30).\n",
        "* Mostrar os resultados em uma tabela.\n",
        "* Analisar os resultados."
      ],
      "metadata": {
        "id": "2JonvmF0V1io"
      }
    },
    {
      "cell_type": "markdown",
      "source": [
        "##Heurística de Conway\n",
        "Conway sugere descartar os primeiros 20% dos dados para eliminar o transiente.\n",
        "\n",
        "##Heurística de Fishman\n",
        "Fishman sugere descartar dados até que o sistema atinja um estado estacionário.\n"
      ],
      "metadata": {
        "id": "GwgHe90n6Sws"
      }
    },
    {
      "cell_type": "code",
      "source": [
        "resultados = fila_mm1(9, 10, 10**3)\n",
        "print(resultados)"
      ],
      "metadata": {
        "id": "BIMmYX6HWeG4",
        "colab": {
          "base_uri": "https://localhost:8080/"
        },
        "outputId": "7f1740d5-048b-4a5e-e8b5-ca8ebb58fb0c"
      },
      "execution_count": null,
      "outputs": [
        {
          "output_type": "stream",
          "name": "stdout",
          "text": [
            "0.377\n"
          ]
        }
      ]
    },
    {
      "cell_type": "code",
      "source": [
        "resultadosTeorico = e_x(9, 10)\n",
        "print(resultadosTeorico)"
      ],
      "metadata": {
        "colab": {
          "base_uri": "https://localhost:8080/"
        },
        "id": "YpM4V27m8vb0",
        "outputId": "852d4c05-6a16-4fd7-96a9-c7c212660a9d"
      },
      "execution_count": null,
      "outputs": [
        {
          "output_type": "stream",
          "name": "stdout",
          "text": [
            "0.9000000000000001\n"
          ]
        }
      ]
    },
    {
      "cell_type": "code",
      "source": [
        "bias = resultados-resultadosTeorico\n",
        "print(bias)"
      ],
      "metadata": {
        "colab": {
          "base_uri": "https://localhost:8080/"
        },
        "id": "PP7j3Shs85C-",
        "outputId": "f386d6c3-7189-4f41-d4d8-83f62063560f"
      },
      "execution_count": null,
      "outputs": [
        {
          "output_type": "stream",
          "name": "stdout",
          "text": [
            "-0.5230000000000001\n"
          ]
        }
      ]
    },
    {
      "cell_type": "code",
      "source": [
        "def heuristica_conway(dados):\n",
        "    return dados[int(0.2 * len(dados)):]\n",
        "\n",
        "def heuristica_fishman(dados):\n",
        "    tamanho_janela = 50\n",
        "    for i in range(len(dados) - tamanho_janela):\n",
        "        janela = dados[i:i+tamanho_janela]\n",
        "        media_janela = np.mean(janela)\n",
        "        if np.all(np.abs(janela - media_janela) < 0.01 * media_janela):\n",
        "            return dados[i+tamanho_janela:]\n",
        "    return dados\n",
        "\n",
        "def fila_mm1_com_heuristicas(taxa_chegada, taxa_servico, clientes_total):\n",
        "    E_X = e_x(taxa_chegada, taxa_servico)\n",
        "    tempos_chegada = np.cumsum([va_exponencial(1/taxa_chegada) for _ in range(clientes_total)])\n",
        "    tempos_servico = [va_exponencial(1/taxa_servico) for _ in range(clientes_total)]\n",
        "\n",
        "    tempos_espera = np.zeros(clientes_total)\n",
        "    tempo_livre = 0\n",
        "\n",
        "    for i in range(clientes_total):\n",
        "        if tempos_chegada[i] > tempo_livre:\n",
        "            tempos_espera[i] = 0\n",
        "            tempo_livre = tempos_chegada[i] + tempos_servico[i]\n",
        "        else:\n",
        "            tempos_espera[i] = tempo_livre - tempos_chegada[i]\n",
        "            tempo_livre += tempos_servico[i]\n",
        "\n",
        "    tempos_espera_conway = heuristica_conway(tempos_espera)\n",
        "    tempos_espera_fishman = heuristica_fishman(tempos_espera)\n",
        "\n",
        "    X_n_conway = np.mean(tempos_espera_conway)\n",
        "    X_n_fishman = np.mean(tempos_espera_fishman)\n",
        "\n",
        "    return round(X_n_conway, 3), round(X_n_fishman, 3)\n"
      ],
      "metadata": {
        "id": "OdX2sNbyWeNw"
      },
      "execution_count": null,
      "outputs": []
    },
    {
      "cell_type": "code",
      "source": [
        "taxa_chegada = 9\n",
        "taxa_servico = 10\n",
        "clientes_total = 10**3\n",
        "\n",
        "E_X_teorico = e_x(taxa_chegada, taxa_servico)\n",
        "\n",
        "resultados_conway = [[\"X_Conway\", \"B_Conway\"]]\n",
        "resultados_fishman = [[\"X_Fishman\", \"B_Fishman\"]]\n",
        "for i in range(30):\n",
        "    resultado_conway, resultado_fishman = fila_mm1_com_heuristicas(taxa_chegada, taxa_servico, clientes_total)\n",
        "    vies_conway = resultado_conway - E_X_teorico\n",
        "    vies_fishman = resultado_fishman - E_X_teorico\n",
        "    resultados_conway.append([resultado_conway, vies_conway])\n",
        "    resultados_fishman.append([resultado_fishman, vies_fishman])\n",
        "\n",
        "tabela_conway = tabulate(resultados_conway, headers=\"firstrow\", tablefmt=\"grid\")\n",
        "tabela_fishman = tabulate(resultados_fishman, headers=\"firstrow\", tablefmt=\"grid\")\n",
        "\n",
        "print(\"Tabela de Resultados - Conway\")\n",
        "print(tabela_conway)\n",
        "print(\"\\nTabela de Resultados - Fishman\")\n",
        "print(tabela_fishman)"
      ],
      "metadata": {
        "colab": {
          "base_uri": "https://localhost:8080/"
        },
        "id": "Ktk3cU2H9H6A",
        "outputId": "86631ffa-da71-46c7-f838-18ad0c1dcae9"
      },
      "execution_count": null,
      "outputs": [
        {
          "output_type": "stream",
          "name": "stdout",
          "text": [
            "Tabela de Resultados - Conway\n",
            "+------------+------------+\n",
            "|   X_Conway |   B_Conway |\n",
            "+============+============+\n",
            "|      0.833 |     -0.067 |\n",
            "+------------+------------+\n",
            "|      1.241 |      0.341 |\n",
            "+------------+------------+\n",
            "|      0.638 |     -0.262 |\n",
            "+------------+------------+\n",
            "|      0.806 |     -0.094 |\n",
            "+------------+------------+\n",
            "|      0.5   |     -0.4   |\n",
            "+------------+------------+\n",
            "|      2.042 |      1.142 |\n",
            "+------------+------------+\n",
            "|      1.053 |      0.153 |\n",
            "+------------+------------+\n",
            "|      0.511 |     -0.389 |\n",
            "+------------+------------+\n",
            "|      1.653 |      0.753 |\n",
            "+------------+------------+\n",
            "|      1.067 |      0.167 |\n",
            "+------------+------------+\n",
            "|      0.896 |     -0.004 |\n",
            "+------------+------------+\n",
            "|      1.501 |      0.601 |\n",
            "+------------+------------+\n",
            "|      1.588 |      0.688 |\n",
            "+------------+------------+\n",
            "|      1.179 |      0.279 |\n",
            "+------------+------------+\n",
            "|      0.553 |     -0.347 |\n",
            "+------------+------------+\n",
            "|      0.418 |     -0.482 |\n",
            "+------------+------------+\n",
            "|      1.131 |      0.231 |\n",
            "+------------+------------+\n",
            "|      0.631 |     -0.269 |\n",
            "+------------+------------+\n",
            "|      0.862 |     -0.038 |\n",
            "+------------+------------+\n",
            "|      0.653 |     -0.247 |\n",
            "+------------+------------+\n",
            "|      0.496 |     -0.404 |\n",
            "+------------+------------+\n",
            "|      1.112 |      0.212 |\n",
            "+------------+------------+\n",
            "|      0.461 |     -0.439 |\n",
            "+------------+------------+\n",
            "|      0.716 |     -0.184 |\n",
            "+------------+------------+\n",
            "|      0.451 |     -0.449 |\n",
            "+------------+------------+\n",
            "|      0.449 |     -0.451 |\n",
            "+------------+------------+\n",
            "|      0.516 |     -0.384 |\n",
            "+------------+------------+\n",
            "|      0.612 |     -0.288 |\n",
            "+------------+------------+\n",
            "|      1.175 |      0.275 |\n",
            "+------------+------------+\n",
            "|      0.586 |     -0.314 |\n",
            "+------------+------------+\n",
            "\n",
            "Tabela de Resultados - Fishman\n",
            "+-------------+-------------+\n",
            "|   X_Fishman |   B_Fishman |\n",
            "+=============+=============+\n",
            "|       0.724 |      -0.176 |\n",
            "+-------------+-------------+\n",
            "|       1.049 |       0.149 |\n",
            "+-------------+-------------+\n",
            "|       0.718 |      -0.182 |\n",
            "+-------------+-------------+\n",
            "|       0.737 |      -0.163 |\n",
            "+-------------+-------------+\n",
            "|       0.483 |      -0.417 |\n",
            "+-------------+-------------+\n",
            "|       1.854 |       0.954 |\n",
            "+-------------+-------------+\n",
            "|       0.91  |       0.01  |\n",
            "+-------------+-------------+\n",
            "|       0.457 |      -0.443 |\n",
            "+-------------+-------------+\n",
            "|       1.681 |       0.781 |\n",
            "+-------------+-------------+\n",
            "|       0.905 |       0.005 |\n",
            "+-------------+-------------+\n",
            "|       0.791 |      -0.109 |\n",
            "+-------------+-------------+\n",
            "|       1.245 |       0.345 |\n",
            "+-------------+-------------+\n",
            "|       1.521 |       0.621 |\n",
            "+-------------+-------------+\n",
            "|       1.056 |       0.156 |\n",
            "+-------------+-------------+\n",
            "|       0.526 |      -0.374 |\n",
            "+-------------+-------------+\n",
            "|       0.45  |      -0.45  |\n",
            "+-------------+-------------+\n",
            "|       1.279 |       0.379 |\n",
            "+-------------+-------------+\n",
            "|       0.558 |      -0.342 |\n",
            "+-------------+-------------+\n",
            "|       0.801 |      -0.099 |\n",
            "+-------------+-------------+\n",
            "|       0.654 |      -0.246 |\n",
            "+-------------+-------------+\n",
            "|       0.528 |      -0.372 |\n",
            "+-------------+-------------+\n",
            "|       1.113 |       0.213 |\n",
            "+-------------+-------------+\n",
            "|       0.433 |      -0.467 |\n",
            "+-------------+-------------+\n",
            "|       0.814 |      -0.086 |\n",
            "+-------------+-------------+\n",
            "|       0.429 |      -0.471 |\n",
            "+-------------+-------------+\n",
            "|       0.398 |      -0.502 |\n",
            "+-------------+-------------+\n",
            "|       0.493 |      -0.407 |\n",
            "+-------------+-------------+\n",
            "|       0.65  |      -0.25  |\n",
            "+-------------+-------------+\n",
            "|       1.038 |       0.138 |\n",
            "+-------------+-------------+\n",
            "|       0.575 |      -0.325 |\n",
            "+-------------+-------------+\n"
          ]
        }
      ]
    },
    {
      "cell_type": "markdown",
      "source": [
        "## Análise\n",
        "\n",
        "- Média do Tempo de Espera (X_Conway):\n",
        "\n",
        "Valores altos: alguns tempos de espera são significativamente altos, como 3.25.\n",
        "\n",
        "Valores baixos: otros tempos são mais baixos, como 0.374.\n",
        "\n",
        "Há uma grande variabilidade nos tempos de espera, indicando uma fila tanto com com períodos de alta quanto de baixa demanda.\n",
        "\n",
        "Já para o cálculo de viés de Conway, a distribuição mostra uma tendência subestimação, ou seja, valores de vieses negativos.\n",
        "\n",
        "- Média do Tempo de Espera (X_Fishman):\n",
        "\n",
        "Valores altos: menos valores extremos.\n",
        "\n",
        "Valores baixos: tempos de espera mais baixos quando comparados com a heurística de Conway.\n",
        "\n",
        "A variabilidade é menor que na heurística de Conway, mas ainda existem flutuações.\n",
        "\n",
        "Já no viés de Fishman, se mostra uma tendência mais equilibrada com vieses menores em magnitude."
      ],
      "metadata": {
        "id": "WGbGgtqgQmOy"
      }
    },
    {
      "cell_type": "markdown",
      "source": [
        "#**Parte 3**\n",
        "\n",
        "* Executar uma simulação de horizonte infinito da fila M/M/1.\n",
        "* Eliminar o transiente usando a heurística MSER-5Y.\n",
        "* Estimar o tempo médio de espera na fila e o respectivo intervalo de confiança de 95%.\n",
        "* A regra de parada é a precisão relativa de 5%.\n",
        "* Cenário    I:  λ=7 clientes por segundo; μ=10 clientes por segundo.\n",
        "* Cenário   II:  λ=8 clientes por segundo; μ=10 clientes por segundo.\n",
        "* Cenário  III:  λ=9 clientes por segundo; μ=10 clientes por segundo.\n",
        "* Cenário IV:  λ=9,5 clientes por segundo; μ=10 clientes por segundo.\n",
        "* Plotar um gráfico comparativo dos quatro cenários.\n",
        "* Plotar uma linha horizontal para o valor teórico esperado em cada cenário.\n",
        "* Analisar os resultados."
      ],
      "metadata": {
        "id": "SL2lAN6EWeSv"
      }
    },
    {
      "cell_type": "markdown",
      "source": [
        "## MYSER-5Y\n",
        "\n",
        "É usada para eliminar transientes em simulações de horizonte infinito. A ideia é encontrar o ponto em que a média quadrática do erro é minimizada."
      ],
      "metadata": {
        "id": "cU8O5DWV9zOO"
      }
    },
    {
      "cell_type": "code",
      "source": [
        "def fila_mm1_infinito(taxa_chegada, taxa_servico, num_clientes):\n",
        "    tempos_chegada = np.cumsum([va_exponencial(1/taxa_chegada) for _ in range(num_clientes)])\n",
        "    tempos_servico = [va_exponencial(1/taxa_servico) for _ in range(num_clientes)]\n",
        "\n",
        "    tempos_espera = np.zeros(num_clientes)\n",
        "    tempo_livre = 0\n",
        "\n",
        "    for i in range(num_clientes):\n",
        "        if tempos_chegada[i] > tempo_livre:\n",
        "            tempos_espera[i] = 0\n",
        "            tempo_livre = tempos_chegada[i] + tempos_servico[i]\n",
        "        else:\n",
        "            tempos_espera[i] = tempo_livre - tempos_chegada[i]\n",
        "            tempo_livre += tempos_servico[i]\n",
        "\n",
        "    return tempos_espera"
      ],
      "metadata": {
        "id": "KA5OM1InXj-X"
      },
      "execution_count": null,
      "outputs": []
    },
    {
      "cell_type": "code",
      "source": [
        "def heuristica_mser_5y(tempos_espera, num_batches=5):\n",
        "    batch_size = len(tempos_espera) // num_batches\n",
        "    min_mse = float('inf')\n",
        "    min_index = 0\n",
        "\n",
        "    for i in range(batch_size, len(tempos_espera), batch_size):\n",
        "        batch_means = [np.mean(tempos_espera[j:j+batch_size]) for j in range(0, i, batch_size)]\n",
        "        mse = np.mean((batch_means - np.mean(batch_means))**2)\n",
        "        if mse < min_mse:\n",
        "            min_mse = mse\n",
        "            min_index = i\n",
        "\n",
        "    return tempos_espera[min_index:]\n"
      ],
      "metadata": {
        "id": "xJFApRaQ-Dd2"
      },
      "execution_count": null,
      "outputs": []
    },
    {
      "cell_type": "code",
      "source": [
        "def simular_fila_mm1(taxa_chegada, taxa_servico, precisao_relativa=0.05, num_clientes_inicial=1000, incremento=1000):\n",
        "    while True:\n",
        "        tempos_espera = fila_mm1_infinito(taxa_chegada, taxa_servico, num_clientes_inicial)\n",
        "        tempos_espera = heuristica_mser_5y(tempos_espera)\n",
        "        media_espera = np.mean(tempos_espera)\n",
        "        desvio_padrao = np.std(tempos_espera, ddof=1)\n",
        "        erro_padrao = desvio_padrao / math.sqrt(len(tempos_espera))\n",
        "        intervalo_confianca = 1.96 * erro_padrao\n",
        "\n",
        "        precisao_atual = intervalo_confianca / media_espera\n",
        "        if precisao_atual <= precisao_relativa:\n",
        "            return media_espera, intervalo_confianca\n",
        "        else:\n",
        "            num_clientes_inicial += incremento\n",
        "\n",
        "cenarios = [(7, 10), (8, 10), (9, 10), (9.5, 10)]\n",
        "resultados = []\n",
        "\n",
        "for lambda_chegada, mu_servico in cenarios:\n",
        "    media_espera, intervalo_confianca = simular_fila_mm1(lambda_chegada, mu_servico)\n",
        "    e_x_teorico = e_x(lambda_chegada, mu_servico)\n",
        "    resultados.append((lambda_chegada, media_espera, intervalo_confianca, e_x_teorico))\n",
        "\n",
        "tabela_resultados = [[\"Lambda\", \"Media_Espera\", \"Intervalo_Confianca\", \"E_X_Teorico\"]]\n",
        "for resultado in resultados:\n",
        "    tabela_resultados.append(list(resultado))\n",
        "\n",
        "tabela = tabulate(tabela_resultados, headers=\"firstrow\", tablefmt=\"grid\")\n",
        "print(tabela)\n",
        "\n",
        "lambdas = [resultado[0] for resultado in resultados]\n",
        "medias_espera = [resultado[1] for resultado in resultados]\n",
        "intervalos_confianca = [resultado[2] for resultado in resultados]\n",
        "valores_teoricos = [resultado[3] for resultado in resultados]\n",
        "\n",
        "plt.figure(figsize=(10, 6))\n",
        "plt.errorbar(lambdas, medias_espera, yerr=intervalos_confianca, fmt='o', label='Simulado')\n",
        "plt.plot(lambdas, valores_teoricos, 'r-', label='Teórico')\n",
        "plt.xlabel('Lambda (Taxa de Chegada)')\n",
        "plt.ylabel('Tempo Médio de Espera')\n",
        "plt.title('Comparação dos Cenários - Tempo Médio de Espera na Fila M/M/1')\n",
        "plt.legend()\n",
        "plt.grid(True)\n",
        "plt.show()"
      ],
      "metadata": {
        "colab": {
          "base_uri": "https://localhost:8080/",
          "height": 756
        },
        "id": "kDj10w2P-HAC",
        "outputId": "b3d5fda2-a31d-4ad6-8a9e-ab11ed234e8d"
      },
      "execution_count": null,
      "outputs": [
        {
          "output_type": "stream",
          "name": "stdout",
          "text": [
            "+----------+----------------+-----------------------+---------------+\n",
            "|   Lambda |   Media_Espera |   Intervalo_Confianca |   E_X_Teorico |\n",
            "+==========+================+=======================+===============+\n",
            "|      7   |       0.283808 |             0.014028  |      0.233333 |\n",
            "+----------+----------------+-----------------------+---------------+\n",
            "|      8   |       0.510637 |             0.0247858 |      0.4      |\n",
            "+----------+----------------+-----------------------+---------------+\n",
            "|      9   |       1.73343  |             0.0722949 |      0.9      |\n",
            "+----------+----------------+-----------------------+---------------+\n",
            "|      9.5 |       1.92648  |             0.0443616 |      1.9      |\n",
            "+----------+----------------+-----------------------+---------------+\n"
          ]
        },
        {
          "output_type": "display_data",
          "data": {
            "text/plain": [
              "<Figure size 1000x600 with 1 Axes>"
            ],
            "image/png": "[encoded data removed]"
          },
          "metadata": {}
        }
      ]
    },
    {
      "cell_type": "markdown",
      "source": [
        "## Análise\n",
        "\n",
        "- Cenário I (λ = 7, μ = 10):\n",
        "\n",
        "Tempo médio de espera simulado: 0.232922\n",
        "\n",
        "Intervalo de confiança: 0.0107582\n",
        "\n",
        "Valor teórico esperado: 0.233333\n",
        "\n",
        "- Cenário II (λ = 8, μ = 10):\n",
        "\n",
        "Tempo médio de espera simulado: 0.416239\n",
        "\n",
        "Intervalo de confiança: 0.0199764\n",
        "\n",
        "Valor teórico esperado: 0.4\n",
        "\n",
        "- Cenário III (λ = 9, μ = 10):\n",
        "\n",
        "Tempo médio de espera simulado: 1.14099\n",
        "\n",
        "Intervalo de confiança: 0.0556693\n",
        "\n",
        "Valor teórico esperado: 0.9\n",
        "\n",
        "Neste cenário, o tempo médio de espera simulado foi significativamente maior ao valor teórico esperado. A diferença maior pode indicar que o sistema está mais sensível a variações a medida que a taxa de chegada se aproxima da taxa de serviço. Isso sugere que os tempos de espera estão sendo superiore por conta da fila mais cheia.\n",
        "\n",
        "Além disso, apesar da aplicação da MSER-5Y, a fila está operando sob alta carga, o que aumenta a variabilidade dos tempos de espera.\n",
        "\n",
        "- Cenário IV (λ = 9.5, μ = 10):\n",
        "\n",
        "Tempo médio de espera simulado: 0.971738\n",
        "\n",
        "Intervalo de confiança: 0.0485656\n",
        "\n",
        "Valor teórico esperado: 1.9"
      ],
      "metadata": {
        "id": "7eSMd3zyQIb_"
      }
    },
    {
      "cell_type": "markdown",
      "source": [
        "# Atividade 5\n",
        "\n",
        "## Parte 1   \n",
        "\n",
        "- Executar uma simulação de horizonte infinito fila M/M/1.\n",
        "\n",
        "- Eliminar o transiente usando a heurística MSER-5Y.\n",
        "\n",
        "- Usar o método NBM para estimar o tempo médio de espera na fila e o respectivo intervalo de confiança de 95%.\n",
        "\n",
        "- Experimentar o método com 3 valores de B: 5, 25 e 50.\n",
        "\n",
        "- A regra de parada é a precisão relativa de 5%.\n",
        "\n",
        "- Cenário    I:  \n",
        "\n",
        "λ=7 clientes por segundo;\n",
        "\n",
        "μ=10 clientes por segundo.\n",
        "\n",
        "- Cenário   II:  \n",
        "\n",
        "λ=8 clientes por segundo;\n",
        "\n",
        "μ=10 clientes por segundo.\n",
        "\n",
        "- Cenário  III:  \n",
        "\n",
        "λ=9 clientes por segundo;\n",
        "\n",
        "μ=10 clientes por segundo.\n",
        "\n",
        "- Cenário IV:  \n",
        "\n",
        "λ=9,5 clientes por segundo;\n",
        "\n",
        "μ=10 clientes por segundo.\n",
        "\n",
        "- Plotar um gráfico comparativo dos quatro cenários para cada heurística.\n",
        "\n",
        "- Plotar um gráfico comparativo dos quatro cenários.\n",
        "\n",
        "- Plotar uma linha horizontal para o valor teórico esperado em cada cenário."
      ],
      "metadata": {
        "id": "cLGKFGJcloUN"
      }
    },
    {
      "cell_type": "markdown",
      "source": [
        "## Parte 2\n",
        "\n",
        "- Executar uma simulação de horizonte infinito fila M/M/1.\n",
        "\n",
        "- Eliminar o transiente usando a heurística MSER-5Y.\n",
        "\n",
        "- Usar o método SBM para estimar o tempo médio de espera na fila e o respectivo intervalo de confiança de 95%.\n",
        "\n",
        "- Valor de S: 0, 1, 2, 3, 4.\n",
        "\n",
        "- A regra de parada é a precisão relativa de 5%.\n",
        "\n",
        "- Cenário I:  \n",
        "\n",
        "λ=7 clientes por segundo;\n",
        "\n",
        "μ=10 clientes por segundo.\n",
        "\n",
        "- Cenário II:  \n",
        "\n",
        "λ=8 clientes por segundo;\n",
        "\n",
        "μ=10 clientes por segundo.\n",
        "\n",
        "- Cenário III:\n",
        "\n",
        "λ=9 clientes por segundo;\n",
        "\n",
        "μ=10 clientes por segundo.\n",
        "\n",
        "- Cenário IV:  \n",
        "\n",
        "λ=9,5 clientes por segundo;\n",
        "\n",
        "μ=10 clientes por segundo.\n",
        "\n",
        "- Plotar um gráfico comparativo dos quatro cenários para cada heurística.\n",
        "\n",
        "- Plotar um gráfico comparativo dos quatro cenários.\n",
        "\n",
        "- Plotar uma linha horizontal para o valor teórico esperado em cada cenário."
      ],
      "metadata": {
        "id": "DBeYwe6Am3MO"
      }
    }
  ]
}