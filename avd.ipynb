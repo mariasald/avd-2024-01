{
  "nbformat": 4,
  "nbformat_minor": 0,
  "metadata": {
    "colab": {
      "provenance": []
    },
    "kernelspec": {
      "name": "python3",
      "display_name": "Python 3"
    },
    "language_info": {
      "name": "python"
    }
  },
  "cells": [
    {
      "cell_type": "markdown",
      "source": [
        "# **Alunos**\n"
      ],
      "metadata": {
        "id": "kv7ysOaEylC8"
      }
    },
    {
      "cell_type": "markdown",
      "source": [
        "#**Bibliotecas**\n"
      ],
      "metadata": {
        "id": "2Y8nkiPAyn_J"
      }
    },
    {
      "cell_type": "code",
      "source": [],
      "metadata": {
        "id": "yZsb9Q-Oyq5j"
      },
      "execution_count": null,
      "outputs": []
    },
    {
      "cell_type": "markdown",
      "source": [
        "# **Distribuição de Frequência**\n",
        "\n",
        "Ao estudar uma variável, o maior interesse é conhecer o comportamento dessa variável analisando a ocorrência de suas possíveis realizações."
      ],
      "metadata": {
        "id": "kFSgLUeo6DdR"
      }
    },
    {
      "cell_type": "markdown",
      "source": [
        "#**Média Aritmética**\n",
        "\n",
        "Dado um conjunto de valores numéricos **{x1, x2, ..., xn}** a média aritmética é calculada somando-se todos estes valores e dividindo-se o resultado pelo número de elementos do conjunto.\n",
        "\n",
        "\n",
        "$\\bar{x} = \\frac{x_{1} + x_{2} + ... + x_{n}}{n}$\n"
      ],
      "metadata": {
        "id": "jeLEPuD0yt6j"
      }
    },
    {
      "cell_type": "code",
      "source": [
        "def mediaAritmetica(nums):\n",
        "  return round((sum(nums)/len(nums)), 3)"
      ],
      "metadata": {
        "id": "Fn8TQFYpCNpZ"
      },
      "execution_count": null,
      "outputs": []
    },
    {
      "cell_type": "markdown",
      "source": [
        "#Exemplo\n",
        "\n",
        "Em uma amostra foram registradas a\n",
        "duração (em minutos) de 10 chamadas\n",
        "VoIP:\n",
        "\n",
        "2,5; 3,5, 2,8; 1,9; 2,4; 2,6; 3,4;2,8; 3,6; 2,5\n",
        "\n",
        "Qual a duração média de uma chamada\n",
        "VoIP?\n"
      ],
      "metadata": {
        "id": "KDZRVGf-8bLi"
      }
    },
    {
      "cell_type": "code",
      "source": [
        "print(mediaAritmetica([2.5, 3.5, 2.8, 1.9, 2.4, 2.6, 3.4, 2.8, 3.6, 2.5]))"
      ],
      "metadata": {
        "colab": {
          "base_uri": "https://localhost:8080/"
        },
        "id": "zbfSfWrIy0I6",
        "outputId": "ea3de98a-9187-4e63-d58c-cef57a74b806"
      },
      "execution_count": null,
      "outputs": [
        {
          "output_type": "stream",
          "name": "stdout",
          "text": [
            "2.8\n"
          ]
        }
      ]
    },
    {
      "cell_type": "markdown",
      "source": [
        "Explicação"
      ],
      "metadata": {
        "id": "TtZMQaBzzthD"
      }
    },
    {
      "cell_type": "markdown",
      "source": [
        "# **Média Ponderada**\n",
        "\n",
        "\n",
        "* Os valores de uma amostra nem sempre têm a mesma importância.\n",
        "* A média ponderada leva em consideração a importância relativa de\n",
        "cada valor.\n",
        "* Dado um conjunto de valores numéricos, a média ponderada é calculada multiplicando-se cada **valor** do conjunto por seu \"**peso**\" e dividindo-se o resultado pela soma dos pesos.\n",
        "\n",
        "$\\bar{x} = \\frac{p_{1}x_{1} + p_{2}x_{2} + ... + p_{n}x_{n}}{p_{1}+p_{2}+...+p_{n}}$\n"
      ],
      "metadata": {
        "id": "Bc1bcf2Gy12L"
      }
    },
    {
      "cell_type": "code",
      "source": [
        "def mediaPonderada(nums, pesos):\n",
        "  return sum(map())"
      ],
      "metadata": {
        "id": "zXoYM8dmy3Aq"
      },
      "execution_count": null,
      "outputs": []
    },
    {
      "cell_type": "markdown",
      "source": [
        "#Exemplo\n",
        "\n",
        "O coeficiente de rendimento de um curso é a **média ponderada** entre as notas de cada disciplina e os respectivos números de créditos. O conjunto a seguir descreve (notas, créditos) de um estudante. Qual o seu coeficiente de rendimento?\n",
        "\n",
        "(7 ; 4), (8 ; 2), (6 ; 2), (9 ; 2), (8 ; 4), (9; 4)"
      ],
      "metadata": {
        "id": "z3CR09QJy3q7"
      }
    },
    {
      "cell_type": "code",
      "source": [],
      "metadata": {
        "id": "UXl28Bmiy4Yi"
      },
      "execution_count": null,
      "outputs": []
    },
    {
      "cell_type": "markdown",
      "source": [
        "Explicação\n"
      ],
      "metadata": {
        "id": "iIAYTsCVz-Xz"
      }
    },
    {
      "cell_type": "markdown",
      "source": [
        "#**Média Geométrica**\n",
        "\n",
        "Seja {x1, x2, …, xn} um conjunto de n valores que uma variável X assume em um experimento. A média geométrica desse conjunto é dada por\n",
        "\n",
        "${G} = \\sqrt[n]{x.x^2. . .x^n}$"
      ],
      "metadata": {
        "id": "ZJn5wlDGy6oD"
      }
    },
    {
      "cell_type": "code",
      "source": [],
      "metadata": {
        "id": "hZrOmwiKy8Ni"
      },
      "execution_count": null,
      "outputs": []
    },
    {
      "cell_type": "markdown",
      "source": [
        "#**Exemplo**\n",
        "\n",
        "Observou-se os seguintes valores de uma variável em um experimento:\n",
        "\n",
        "{18, 13, 11, 8, 10, 58, 12}.\n",
        "\n",
        "Qual o valor médio?"
      ],
      "metadata": {
        "id": "SucexOLEy8nq"
      }
    },
    {
      "cell_type": "code",
      "source": [],
      "metadata": {
        "id": "vRW48hR7y9ja"
      },
      "execution_count": null,
      "outputs": []
    },
    {
      "cell_type": "markdown",
      "source": [
        "dsfsdf"
      ],
      "metadata": {
        "id": "By7lVt5cZVYe"
      }
    },
    {
      "cell_type": "markdown",
      "source": [
        "#**Média Harmônica**\n",
        "\n",
        "A média harmônica de k números é o recíproco da média aritmética de seus recíprocos.\n",
        "\n",
        "${H} = \\frac{k}{\\sum_{i=1}^k({1}/{x_{i}})} = \\frac{k}{\\frac{1}{x_{1}}+\\frac{1}{x_{2}}+...+\\frac{1}{x_{k}}}$"
      ],
      "metadata": {
        "id": "yBXYueWRZWxv"
      }
    },
    {
      "cell_type": "code",
      "source": [],
      "metadata": {
        "id": "b1IwIVnWspv-"
      },
      "execution_count": null,
      "outputs": []
    },
    {
      "cell_type": "markdown",
      "source": [
        "#**Exemplo**\n",
        "\n",
        "Considere o conjunto de medidas obtidas em um experimento. Qual o valor médio de MFLOPS?\n",
        "\n",
        "```markdown\n",
        "Tempo de Execução  |     MFLOPS\n",
        "-------------------|------------------\n",
        "       321         |       405\n",
        "       436         |       367\n",
        "       284         |       405\n",
        "       601         |       419\n",
        "       482         |       388\n",
        "```\n",
        "\n"
      ],
      "metadata": {
        "id": "b8_Gh6vHty51"
      }
    },
    {
      "cell_type": "code",
      "source": [],
      "metadata": {
        "id": "4RsOKbRRwQIu"
      },
      "execution_count": null,
      "outputs": []
    },
    {
      "cell_type": "markdown",
      "source": [
        "# **Média de Taxas**\n",
        "\n",
        "**Caso 1**: Se a soma dos numeradores e a soma dos denominadores possuem um significado físico, a média da taxa é a taxa das médias.\n",
        "\n",
        "$Média(\\frac{a_{1}}{b_{1}},\\frac{a_{2}}{b_{2}},...,\\frac{a_{n}}{b_{n}})=\\frac{\\bar{a}}{\\bar{b}}$"
      ],
      "metadata": {
        "id": "akcbEJ4s9DhU"
      }
    },
    {
      "cell_type": "code",
      "source": [],
      "metadata": {
        "id": "-GoC0Lcw9uCt"
      },
      "execution_count": null,
      "outputs": []
    },
    {
      "cell_type": "markdown",
      "source": [
        "# **Exemplo**\n",
        "Resultados das medições da taxa de perdas de transmissão:\n",
        "\n",
        "```markdown\n",
        "Duração da medição (s)  |     Taxa de Perda (%)\n",
        "------------------------|-----------------------\n",
        "            321         |          3,0\n",
        "            436         |          5,0\n",
        "            284         |          4,2\n",
        "            601         |          5,2\n",
        "            482         |          8,6\n",
        "```"
      ],
      "metadata": {
        "id": "j3zDkn119ugV"
      }
    },
    {
      "cell_type": "code",
      "source": [],
      "metadata": {
        "id": "dO6cQNj6-gJ-"
      },
      "execution_count": null,
      "outputs": []
    },
    {
      "cell_type": "markdown",
      "source": [
        "#**Exercício**\n",
        "\n",
        "Um homem precisava fazer um reparo e comprou 80m de arame por R$ 40,00. Um tempo depois, ele precisou comprar mais 40m e pagou R$ 45,00. Posteriormente, comprou mais 12m por R$ 50,00. Quanto ele pagou, em média, por cada metro de arame?"
      ],
      "metadata": {
        "id": "_0rG8NoM-gu9"
      }
    },
    {
      "cell_type": "code",
      "source": [],
      "metadata": {
        "id": "9r4SdyXD-sjV"
      },
      "execution_count": null,
      "outputs": []
    },
    {
      "cell_type": "markdown",
      "source": [
        "#**Média das Taxas**\n",
        "\n",
        "Caso 2: Se o denominador é uma constante e a soma do numerador tem um significado físico, a média aritmética das taxas pode ser utilizada.\n",
        "\n",
        "$Média(\\frac{a_{1}}{b_{1}},\\frac{a_{2}}{b_{2}},...,\\frac{a_{n}}{b_{n}})=\\frac{1}{nb}\\sum_{i=1}^n{a_{i}}$"
      ],
      "metadata": {
        "id": "74Lu8iNK-s0W"
      }
    },
    {
      "cell_type": "code",
      "source": [],
      "metadata": {
        "id": "lPb_M54-_Lat"
      },
      "execution_count": null,
      "outputs": []
    },
    {
      "cell_type": "markdown",
      "source": [
        "#**Exemplo**\n",
        "\n",
        "Resultados das medições da taxa de perdas de transmissão:\n",
        "\n",
        "```markdown\n",
        "Duração da medição (s)  |     Taxa de Perda (%)\n",
        "------------------------|-----------------------\n",
        "            100         |          3,0\n",
        "            100         |          5,0\n",
        "            100         |          4,2\n",
        "            100         |          5,2\n",
        "            100         |          8,6\n",
        "```"
      ],
      "metadata": {
        "id": "M5JS9vgj_M11"
      }
    },
    {
      "cell_type": "code",
      "source": [],
      "metadata": {
        "id": "3W3qSQT-_zhe"
      },
      "execution_count": null,
      "outputs": []
    },
    {
      "cell_type": "markdown",
      "source": [
        "#**Média das Taxas**\n",
        "\n",
        "**Caso 3**: Se a soma dos denominadores tem um significado físico e os numeradores são constantes, então a média harmônica deve ser usada para o cálculo da média das taxas.\n",
        "\n",
        "\n",
        "$Média(\\frac{a_{1}}{b_{1}},\\frac{a_{2}}{b_{2}},...,\\frac{a_{n}}{b_{n}})=\\frac{n}{\\frac{b_{1}}{a}+\\frac{b_{2}}{a}+...+\\frac{b_{n}}{a}}$"
      ],
      "metadata": {
        "id": "n_c2FgZd_z8H"
      }
    },
    {
      "cell_type": "code",
      "source": [],
      "metadata": {
        "id": "P6B1hd7y_9oG"
      },
      "execution_count": null,
      "outputs": []
    },
    {
      "cell_type": "markdown",
      "source": [
        "# **Mediana**\n",
        "\n",
        "* Valor do elemento central de uma amostra de tamanho n.\n",
        "    * Se n é ímpar: elemento central.\n",
        "    * Se n é par: média aritmética dos dois valores centrais.\n",
        "* Usada quando se quer evitar enganos devido a alguns valores muito\n",
        "pequenos ou muito grandes."
      ],
      "metadata": {
        "id": "TfhVGMhOAj18"
      }
    },
    {
      "cell_type": "code",
      "source": [],
      "metadata": {
        "id": "OCmk71k1BkUP"
      },
      "execution_count": null,
      "outputs": []
    },
    {
      "cell_type": "markdown",
      "source": [
        "#**Exemplo**\n",
        "\n",
        "Olhando o número de contatos no Facebook de alguns amigos encontrou-se:\n",
        "108, 103, 252, 121, 93, 57, 40, 53, 22, 116, 98."
      ],
      "metadata": {
        "id": "XTJOt6MpBkrL"
      }
    },
    {
      "cell_type": "code",
      "source": [],
      "metadata": {
        "id": "u_-WNaAKBt6s"
      },
      "execution_count": null,
      "outputs": []
    },
    {
      "cell_type": "markdown",
      "source": [
        "#**Moda**\n",
        "\n",
        "* Valor que ocorre com mais frequência, mais de uma vez na amostra.\n",
        "  * Não exige cálculo algum, apenas uma contagem.\n",
        "  * Pode ser determinada tanto para dados numéricos como para dados categóricos.\n",
        "  * Não é afetada por valores extremos.\n",
        "* Porém, pode mudar drasticamente de uma amostra para outra e pode aparecer mais de um valor."
      ],
      "metadata": {
        "id": "InfHvhk0Cy_U"
      }
    },
    {
      "cell_type": "code",
      "source": [],
      "metadata": {
        "id": "JxDrEoAIC9kM"
      },
      "execution_count": null,
      "outputs": []
    },
    {
      "cell_type": "markdown",
      "source": [
        "#**Exemplo**\n",
        "\n",
        "Em um experimento de medição, observou-se os seguintes valores de uma variável de interesse. Qual o valor modal?\n",
        "\n",
        "                    3 4 4 5 5 6 7 8 9 9 9 10 11 12 12 13\n"
      ],
      "metadata": {
        "id": "C8qZ2CvKC_bs"
      }
    },
    {
      "cell_type": "code",
      "source": [],
      "metadata": {
        "id": "Ovd9mC25DE8O"
      },
      "execution_count": null,
      "outputs": []
    },
    {
      "cell_type": "markdown",
      "source": [
        "#**Amplitude**\n",
        "\n",
        "Representa a diferença entre o maior e o menor valor observado em um conjunto de dados. É uma medida simples e intuitiva de variabilidade. Quanto maior a amplitude, maior a variabilidade.\n",
        "\n"
      ],
      "metadata": {
        "id": "pqGNitLfBnkw"
      }
    },
    {
      "cell_type": "code",
      "source": [],
      "metadata": {
        "id": "hZqeeLbhBzJI"
      },
      "execution_count": null,
      "outputs": []
    },
    {
      "cell_type": "markdown",
      "source": [
        "#**Exercício**\n",
        "\n",
        "Calcular a amplitude das amostras dos grupos Y, Z, W e V.\n",
        "\n",
        "Grupo X: 3, 4, 5, 6, 7\n",
        "\n",
        "Grupo Y: 1, 3, 5, 7, 9\n",
        "\n",
        "Grupo Z: 5, 5, 5, 5, 5\n",
        "\n",
        "Grupo W: 3, 5, 5, 5, 7\n",
        "\n",
        "Grupo V: 3, 5, 5, 6, 6"
      ],
      "metadata": {
        "id": "h96qWSueCWdP"
      }
    },
    {
      "cell_type": "code",
      "source": [],
      "metadata": {
        "id": "GbXyULszCeJH"
      },
      "execution_count": null,
      "outputs": []
    },
    {
      "cell_type": "markdown",
      "source": [
        "#**Exercício**\n",
        "\n",
        "Um aplicativo foi desenvolvido para registrar o tempo T que o celular de um usuário está próximo do celular de outro usuário. Valores da duração de alguns desses contatos (em segundos):\n",
        "\n",
        "                            23,17,18,32,19,27,22,16,24,29\n",
        "\n",
        "Calcule a amplitude dessa amostra."
      ],
      "metadata": {
        "id": "xDZrQevrPtUC"
      }
    },
    {
      "cell_type": "markdown",
      "source": [
        "# **Desvio-Padrão**\n",
        "\n",
        "* Seja $\\{x_{1}, x_{2},...,x_{n}\\}$ uma amostra de observações obtidas em um experimento de medição.\n",
        "* Média Amostral: $\\bar{x} = \\frac{1}{n} \\sum_{i=1}^n x_{i}$\n",
        "\n",
        "* Variância amostral: ${s^2} = \\frac{1}{n-1} \\sum_{i=1}^n (x_{i}-\\bar{x})^2$\n",
        "\n",
        "* Desvio padrão: $s = \\sqrt[n]{\\frac{1}{n-1}\\sum_{i=1}^n(x_{i} - \\bar{x})^2}$"
      ],
      "metadata": {
        "id": "yL0Kk4h0DrCd"
      }
    },
    {
      "cell_type": "code",
      "source": [],
      "metadata": {
        "id": "PuMNOCnQD96e"
      },
      "execution_count": null,
      "outputs": []
    },
    {
      "cell_type": "markdown",
      "source": [
        "#**Coeficiente de Variação**\n",
        "\n",
        "$CV = \\frac{s}{x}*100, (0 \\leq CV \\leq \\sqrt[]{n-1})$\n",
        "\n",
        "* Compara o grau de variação de duas ou mais amostras, mesmo que as médias sejam bastante diferentes.\n",
        "* Usado para conhecer a consistência dos dados, isto é, a uniformidade nos valores. Uma amostra com menor CV é considerada mais consistente do que outra.\n",
        "* Na prática, considera-se que CV > 50% indica alto grau de dispersão e, por consequência, baixa representatividade da média. Por outro lado, quanto menor CV, mais representativa é a média."
      ],
      "metadata": {
        "id": "-PU2Hyw1zCQx"
      }
    },
    {
      "cell_type": "code",
      "source": [],
      "metadata": {
        "id": "YLkqzKeZ5zrM"
      },
      "execution_count": null,
      "outputs": []
    }
  ]
}