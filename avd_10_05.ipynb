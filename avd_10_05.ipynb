{
  "nbformat": 4,
  "nbformat_minor": 0,
  "metadata": {
    "colab": {
      "provenance": [],
      "include_colab_link": true
    },
    "kernelspec": {
      "name": "python3",
      "display_name": "Python 3"
    },
    "language_info": {
      "name": "python"
    }
  },
  "cells": [
    {
      "cell_type": "markdown",
      "metadata": {
        "id": "view-in-github",
        "colab_type": "text"
      },
      "source": [
        "<a href=\"https://colab.research.google.com/github/mariasald/avd-2024-01/blob/main/avd_10_05.ipynb\" target=\"_parent\"><img src=\"https://colab.research.google.com/assets/colab-badge.svg\" alt=\"Open In Colab\"/></a>"
      ]
    },
    {
      "cell_type": "markdown",
      "source": [
        "# **Alunos**\n",
        "\n",
        "* Gabriel César Tavare Ferreira - 21854868\n",
        "* Maria Luiza"
      ],
      "metadata": {
        "id": "kv7ysOaEylC8"
      }
    },
    {
      "cell_type": "markdown",
      "source": [
        "#**Bibliotecas Utilizadas**\n"
      ],
      "metadata": {
        "id": "2Y8nkiPAyn_J"
      }
    },
    {
      "cell_type": "code",
      "source": [
        "import math"
      ],
      "metadata": {
        "id": "yZsb9Q-Oyq5j"
      },
      "execution_count": null,
      "outputs": []
    },
    {
      "cell_type": "markdown",
      "source": [
        "# **Distribuição de Frequência**\n",
        "\n",
        "Ao estudar uma variável, o maior interesse é conhecer o comportamento dessa variável analisando a ocorrência de suas possíveis realizações."
      ],
      "metadata": {
        "id": "kFSgLUeo6DdR"
      }
    },
    {
      "cell_type": "markdown",
      "source": [
        "#**Média Aritmética**\n",
        "\n",
        "Dado um conjunto de valores numéricos **{x1, x2, ..., xn}** a média aritmética é calculada somando-se todos estes valores e dividindo-se o resultado pelo número de elementos do conjunto.\n",
        "\n",
        "\n",
        "$\\bar{x} = \\frac{x_{1} + x_{2} + ... + x_{n}}{n}$\n"
      ],
      "metadata": {
        "id": "jeLEPuD0yt6j"
      }
    },
    {
      "cell_type": "code",
      "source": [
        "def mediaAritmetica(nums):\n",
        "  return (sum(nums)/len(nums))"
      ],
      "metadata": {
        "id": "Fn8TQFYpCNpZ"
      },
      "execution_count": null,
      "outputs": []
    },
    {
      "cell_type": "markdown",
      "source": [
        "#Exemplo\n",
        "\n",
        "Em uma amostra foram registradas a\n",
        "duração (em minutos) de 10 chamadas\n",
        "VoIP:\n",
        "\n",
        "2,5; 3,5, 2,8; 1,9; 2,4; 2,6; 3,4;2,8; 3,6; 2,5\n",
        "\n",
        "Qual a duração média de uma chamada\n",
        "VoIP?\n"
      ],
      "metadata": {
        "id": "KDZRVGf-8bLi"
      }
    },
    {
      "cell_type": "code",
      "source": [
        "print(mediaAritmetica([2.5, 3.5, 2.8, 1.9, 2.4, 2.6, 3.4, 2.8, 3.6, 2.5]))"
      ],
      "metadata": {
        "colab": {
          "base_uri": "https://localhost:8080/"
        },
        "id": "zbfSfWrIy0I6",
        "outputId": "73a5aab2-07ea-4afa-c30d-74bba0060974"
      },
      "execution_count": null,
      "outputs": [
        {
          "output_type": "stream",
          "name": "stdout",
          "text": [
            "2.8\n"
          ]
        }
      ]
    },
    {
      "cell_type": "markdown",
      "source": [
        "#**Explicação**"
      ],
      "metadata": {
        "id": "TtZMQaBzzthD"
      }
    },
    {
      "cell_type": "markdown",
      "source": [
        "# **Média Ponderada**\n",
        "\n",
        "\n",
        "* Os valores de uma amostra nem sempre têm a mesma importância.\n",
        "* A média ponderada leva em consideração a importância relativa de\n",
        "cada valor.\n",
        "* Dado um conjunto de valores numéricos, a média ponderada é calculada multiplicando-se cada **valor** do conjunto por seu \"**peso**\" e dividindo-se o resultado pela soma dos pesos.\n",
        "\n",
        "$\\bar{x} = \\frac{p_{1}x_{1} + p_{2}x_{2} + ... + p_{n}x_{n}}{p_{1}+p_{2}+...+p_{n}}$\n"
      ],
      "metadata": {
        "id": "Bc1bcf2Gy12L"
      }
    },
    {
      "cell_type": "code",
      "source": [
        "#def mediaPonderada(nums, pesos):\n",
        "  #return sum(map())\n",
        "\n",
        "def mediaPonderada(nums):\n",
        "  media = sum(x * y for x, y in nums) / sum(y for _, y in nums)\n",
        "  return round(media, 3)"
      ],
      "metadata": {
        "id": "zXoYM8dmy3Aq"
      },
      "execution_count": null,
      "outputs": []
    },
    {
      "cell_type": "markdown",
      "source": [
        "#Exemplo\n",
        "\n",
        "O coeficiente de rendimento de um curso é a **média ponderada** entre as notas de cada disciplina e os respectivos números de créditos. O conjunto a seguir descreve (notas, créditos) de um estudante. Qual o seu coeficiente de rendimento?\n",
        "\n",
        "(7 ; 4), (8 ; 2), (6 ; 2), (9 ; 2), (8 ; 4), (9; 4)"
      ],
      "metadata": {
        "id": "z3CR09QJy3q7"
      }
    },
    {
      "cell_type": "code",
      "source": [
        "print(mediaPonderada([(7, 4), (8, 2), (6, 2), (9, 2), (8, 4), (9, 4)]))"
      ],
      "metadata": {
        "id": "UXl28Bmiy4Yi",
        "colab": {
          "base_uri": "https://localhost:8080/"
        },
        "outputId": "19ddb536-35ab-4dce-8534-40e561148b5f"
      },
      "execution_count": null,
      "outputs": [
        {
          "output_type": "stream",
          "name": "stdout",
          "text": [
            "7.889\n"
          ]
        }
      ]
    },
    {
      "cell_type": "markdown",
      "source": [
        "#**Explicação**\n"
      ],
      "metadata": {
        "id": "iIAYTsCVz-Xz"
      }
    },
    {
      "cell_type": "markdown",
      "source": [
        "#**Média Geométrica**\n",
        "\n",
        "Seja {x1, x2, …, xn} um conjunto de n valores que uma variável X assume em um experimento. A média geométrica desse conjunto é dada por\n",
        "\n",
        "${G} = \\sqrt[n]{x.x^2. . .x^n}$"
      ],
      "metadata": {
        "id": "ZJn5wlDGy6oD"
      }
    },
    {
      "cell_type": "code",
      "source": [
        "def mediaGeometrica(nums):\n",
        "    produto = math.prod(nums)\n",
        "    return round(produto ** (1 / len(nums)), 1)"
      ],
      "metadata": {
        "id": "hZrOmwiKy8Ni"
      },
      "execution_count": null,
      "outputs": []
    },
    {
      "cell_type": "markdown",
      "source": [
        "#**Exemplo**\n",
        "\n",
        "Observou-se os seguintes valores de uma variável em um experimento:\n",
        "\n",
        "{18, 13, 11, 8, 10, 58, 12}.\n",
        "\n",
        "Qual o valor médio?"
      ],
      "metadata": {
        "id": "SucexOLEy8nq"
      }
    },
    {
      "cell_type": "code",
      "source": [
        "print(mediaGeometrica([18, 13, 11, 8, 10, 58, 12]))"
      ],
      "metadata": {
        "id": "vRW48hR7y9ja",
        "colab": {
          "base_uri": "https://localhost:8080/"
        },
        "outputId": "aeb4b2fa-e86d-4b66-bddd-0b64c6c14d94"
      },
      "execution_count": null,
      "outputs": [
        {
          "output_type": "stream",
          "name": "stdout",
          "text": [
            "14.6\n"
          ]
        }
      ]
    },
    {
      "cell_type": "markdown",
      "source": [
        "#**Explicação**"
      ],
      "metadata": {
        "id": "By7lVt5cZVYe"
      }
    },
    {
      "cell_type": "markdown",
      "source": [
        "#**Média Harmônica**\n",
        "\n",
        "A média harmônica de k números é o recíproco da média aritmética de seus recíprocos.\n",
        "\n",
        "${H} = \\frac{k}{\\sum_{i=1}^k({1}/{x_{i}})} = \\frac{k}{\\frac{1}{x_{1}}+\\frac{1}{x_{2}}+...+\\frac{1}{x_{k}}}$"
      ],
      "metadata": {
        "id": "yBXYueWRZWxv"
      }
    },
    {
      "cell_type": "code",
      "source": [
        "def mediaHarmonica(nums):\n",
        "    sum_inversos = sum(1 / x for x in nums)\n",
        "    return round(len(nums) / sum_inversos, 1)"
      ],
      "metadata": {
        "id": "b1IwIVnWspv-"
      },
      "execution_count": null,
      "outputs": []
    },
    {
      "cell_type": "markdown",
      "source": [
        "#**Exemplo**\n",
        "\n",
        "Considere o conjunto de medidas obtidas em um experimento. Qual o valor médio de MFLOPS?\n",
        "\n",
        "```markdown\n",
        "Tempo de Execução  |     MFLOPS\n",
        "-------------------|------------------\n",
        "       321         |       405\n",
        "       436         |       367\n",
        "       284         |       405\n",
        "       601         |       419\n",
        "       482         |       388\n",
        "```\n",
        "\n"
      ],
      "metadata": {
        "id": "b8_Gh6vHty51"
      }
    },
    {
      "cell_type": "code",
      "source": [
        "print(mediaHarmonica([405, 367, 405, 419, 388]))"
      ],
      "metadata": {
        "id": "4RsOKbRRwQIu",
        "colab": {
          "base_uri": "https://localhost:8080/"
        },
        "outputId": "f4ff2e90-aeeb-4fdd-dc05-eb303ff84fe0"
      },
      "execution_count": null,
      "outputs": [
        {
          "output_type": "stream",
          "name": "stdout",
          "text": [
            "396.0\n"
          ]
        }
      ]
    },
    {
      "cell_type": "markdown",
      "source": [
        "Qual o valor médio do Tempo de Execução?"
      ],
      "metadata": {
        "id": "kIIjz1cC2L76"
      }
    },
    {
      "cell_type": "code",
      "source": [
        "print(mediaHarmonica([321, 436, 284, 601, 482]))"
      ],
      "metadata": {
        "colab": {
          "base_uri": "https://localhost:8080/"
        },
        "id": "czvZEILv2SbB",
        "outputId": "31e168ba-c2d3-4411-d8d5-a818cd7f5613"
      },
      "execution_count": null,
      "outputs": [
        {
          "output_type": "stream",
          "name": "stdout",
          "text": [
            "394.7\n"
          ]
        }
      ]
    },
    {
      "cell_type": "markdown",
      "source": [
        "#**Explicação**"
      ],
      "metadata": {
        "id": "3OK7zAsRgwk1"
      }
    },
    {
      "cell_type": "markdown",
      "source": [
        "# **Média de Taxas**\n",
        "\n",
        "**Caso 1**: Se a soma dos numeradores e a soma dos denominadores possuem um significado físico, a média da taxa é a taxa das médias.\n",
        "\n",
        "$Média(\\frac{a_{1}}{b_{1}},\\frac{a_{2}}{b_{2}},...,\\frac{a_{n}}{b_{n}})=\\frac{\\bar{a}}{\\bar{b}}$"
      ],
      "metadata": {
        "id": "akcbEJ4s9DhU"
      }
    },
    {
      "cell_type": "code",
      "source": [
        "def mediaTaxas(nums1, nums2):\n",
        "  media = mediaAritmetica(nums1) / mediaAritmetica(nums2)\n",
        "  return round(media, 3)"
      ],
      "metadata": {
        "id": "-GoC0Lcw9uCt"
      },
      "execution_count": null,
      "outputs": []
    },
    {
      "cell_type": "markdown",
      "source": [
        "# **Exemplo**\n",
        "Resultados das medições da taxa de perdas de transmissão:\n",
        "\n",
        "```markdown\n",
        "Duração da medição (s)  |     Taxa de Perda (%)\n",
        "------------------------|-----------------------\n",
        "            100         |          3,0\n",
        "            100         |          5,0\n",
        "            100         |          4,2\n",
        "            100         |          5,2\n",
        "            200         |          8,6\n",
        "```\n",
        "\n",
        "duracao_medicao = [100, 100, 100, 100, 200]\n",
        "\n",
        "taxa_perda = [3.0, 5.0, 4.2, 5.2, 8.6]"
      ],
      "metadata": {
        "id": "j3zDkn119ugV"
      }
    },
    {
      "cell_type": "code",
      "source": [
        "print(mediaTaxas([3.0, 5.0, 4.2, 5.2, 8.6], [100, 100, 100, 100, 200]))"
      ],
      "metadata": {
        "id": "dO6cQNj6-gJ-",
        "colab": {
          "base_uri": "https://localhost:8080/"
        },
        "outputId": "9608978c-037d-4dbf-d376-a8736affc11d"
      },
      "execution_count": null,
      "outputs": [
        {
          "output_type": "stream",
          "name": "stdout",
          "text": [
            "0.043\n"
          ]
        }
      ]
    },
    {
      "cell_type": "markdown",
      "source": [
        "#**Exercício**\n",
        "\n",
        "Um homem precisava fazer um reparo e comprou 80m de arame por RS 40,00. Um tempo depois, ele precisou comprar mais 40m e pagou RS 45,00. Posteriormente, comprou mais 12m por RS 50,00. Quanto ele pagou, em média, por cada metro de arame?"
      ],
      "metadata": {
        "id": "_0rG8NoM-gu9"
      }
    },
    {
      "cell_type": "code",
      "source": [
        "print(mediaTaxas([80, 40, 12], [40, 45, 50]))"
      ],
      "metadata": {
        "id": "9r4SdyXD-sjV",
        "colab": {
          "base_uri": "https://localhost:8080/"
        },
        "outputId": "58a223f8-1fdb-4f90-cfa3-59806e460d18"
      },
      "execution_count": null,
      "outputs": [
        {
          "output_type": "stream",
          "name": "stdout",
          "text": [
            "0.978\n"
          ]
        }
      ]
    },
    {
      "cell_type": "markdown",
      "source": [
        "#**Explicação**"
      ],
      "metadata": {
        "id": "QE16c3Rig0eV"
      }
    },
    {
      "cell_type": "markdown",
      "source": [
        "#**Média das Taxas**\n",
        "\n",
        "Caso 2: Se o denominador é uma constante e a soma do numerador tem um significado físico, a média aritmética das taxas pode ser utilizada.\n",
        "\n",
        "$Média(\\frac{a_{1}}{b_{1}},\\frac{a_{2}}{b_{2}},...,\\frac{a_{n}}{b_{n}})=\\frac{1}{nb}\\sum_{i=1}^n{a_{i}}$"
      ],
      "metadata": {
        "id": "74Lu8iNK-s0W"
      }
    },
    {
      "cell_type": "code",
      "source": [
        "def mediaTaxasDenominadorConst(nums1, nums2):\n",
        "  return sum(nums1) / (len(nums2) * nums2[0])"
      ],
      "metadata": {
        "id": "lPb_M54-_Lat"
      },
      "execution_count": null,
      "outputs": []
    },
    {
      "cell_type": "markdown",
      "source": [
        "#**Exemplo**\n",
        "\n",
        "Resultados das medições da taxa de perdas de transmissão:\n",
        "\n",
        "```markdown\n",
        "Duração da medição (s)  |     Taxa de Perda (%)\n",
        "------------------------|-----------------------\n",
        "            100         |          3,0\n",
        "            100         |          5,0\n",
        "            100         |          4,2\n",
        "            100         |          5,2\n",
        "            100         |          8,6\n",
        "```\n",
        "\n",
        "duracao_medicao = [100, 100, 100, 100, 100]\n",
        "\n",
        "taxa_perda = [3.0, 5.0, 4.2, 5.2, 8.6]"
      ],
      "metadata": {
        "id": "M5JS9vgj_M11"
      }
    },
    {
      "cell_type": "code",
      "source": [
        "print(mediaTaxasDenominadorConst([3.0, 5.0, 4.2, 5.2, 8.6], [100, 100, 100, 100, 100]))"
      ],
      "metadata": {
        "id": "3W3qSQT-_zhe",
        "colab": {
          "base_uri": "https://localhost:8080/"
        },
        "outputId": "6607d432-f2e8-4581-d78b-b1fdd1704010"
      },
      "execution_count": null,
      "outputs": [
        {
          "output_type": "stream",
          "name": "stdout",
          "text": [
            "0.052\n"
          ]
        }
      ]
    },
    {
      "cell_type": "markdown",
      "source": [
        "#**Explicação**"
      ],
      "metadata": {
        "id": "AEIIWlrig3s9"
      }
    },
    {
      "cell_type": "markdown",
      "source": [
        "#**Média das Taxas**\n",
        "\n",
        "**Caso 3**: Se a soma dos denominadores tem um significado físico e os numeradores são constantes, então a média harmônica deve ser usada para o cálculo da média das taxas.\n",
        "\n",
        "\n",
        "$Média(\\frac{a_{1}}{b_{1}},\\frac{a_{2}}{b_{2}},...,\\frac{a_{n}}{b_{n}})=\\frac{n}{\\frac{b_{1}}{a}+\\frac{b_{2}}{a}+...+\\frac{b_{n}}{a}}$"
      ],
      "metadata": {
        "id": "n_c2FgZd_z8H"
      }
    },
    {
      "cell_type": "code",
      "source": [
        "def mediaTaxasNumeradorConst(nums1, nums2):\n",
        "  return len(nums2)/(sum(x for x in nums2/ nums1[0]))"
      ],
      "metadata": {
        "id": "P6B1hd7y_9oG"
      },
      "execution_count": null,
      "outputs": []
    },
    {
      "cell_type": "code",
      "source": [
        "def mediaTaxas(nums1, nums2):\n",
        "  if (all(num == nums2[0] for num in nums2)): #denomidador const\n",
        "    return sum(nums1) / (len(nums2) * nums2[0])\n",
        "\n",
        "  elif all(num == nums1[0] for num in nums1): #numerador const\n",
        "    return len(nums2) / sum(x / nums1[0] for x in nums2)\n",
        "\n",
        "  else: #diferentes\n",
        "    media = mediaAritmetica(nums1) / mediaAritmetica(nums2)\n",
        "    return round(media, 3)"
      ],
      "metadata": {
        "id": "cBRcRBQBOOgW"
      },
      "execution_count": null,
      "outputs": []
    },
    {
      "cell_type": "code",
      "source": [
        "#Exemplo:\n",
        "\n",
        "print(mediaTaxas([3.0, 5.0, 4.2, 5.2, 8.6], [100, 100, 100, 100, 200]))\n",
        "\n",
        "print(mediaTaxas([3.0, 5.0, 4.2, 5.2, 8.6], [100, 100, 100, 100, 100]))\n",
        "\n",
        "print(mediaTaxas([3.0, 3.0, 3.0, 3.0, 3.0], [125, 200, 100, 50, 80]))"
      ],
      "metadata": {
        "colab": {
          "base_uri": "https://localhost:8080/"
        },
        "id": "oSWMwr_0RHrO",
        "outputId": "afd77404-5800-4f9f-c3cc-b034a22ac7e5"
      },
      "execution_count": null,
      "outputs": [
        {
          "output_type": "stream",
          "name": "stdout",
          "text": [
            "0.043\n",
            "0.052\n",
            "0.02702702702702703\n"
          ]
        }
      ]
    },
    {
      "cell_type": "markdown",
      "source": [
        "#**Explicação**"
      ],
      "metadata": {
        "id": "1XeL0uPDg7U-"
      }
    },
    {
      "cell_type": "markdown",
      "source": [
        "# **Mediana**\n",
        "\n",
        "* Valor do elemento central de uma amostra de tamanho n.\n",
        "    * Se n é ímpar: elemento central.\n",
        "    * Se n é par: média aritmética dos dois valores centrais.\n",
        "* Usada quando se quer evitar enganos devido a alguns valores muito\n",
        "pequenos ou muito grandes."
      ],
      "metadata": {
        "id": "TfhVGMhOAj18"
      }
    },
    {
      "cell_type": "code",
      "source": [
        "def mediana(nums):\n",
        "  nums_ordenado = sorted(nums)\n",
        "  x = len(nums)\n",
        "  if (len(nums_ordenado) % 2 == 0):\n",
        "    return (nums_ordenado[x//2 - 1] + nums_ordenado[x //2]) / 2\n",
        "  else:\n",
        "    return nums_ordenado[x//2]"
      ],
      "metadata": {
        "id": "OCmk71k1BkUP"
      },
      "execution_count": null,
      "outputs": []
    },
    {
      "cell_type": "markdown",
      "source": [
        "#**Exemplo**\n",
        "\n",
        "Olhando o número de contatos no Facebook de alguns amigos encontrou-se:\n",
        "108, 103, 252, 121, 93, 57, 40, 53, 22, 116, 98."
      ],
      "metadata": {
        "id": "XTJOt6MpBkrL"
      }
    },
    {
      "cell_type": "code",
      "source": [
        "print(mediana([108, 103, 252, 121, 93, 57, 40, 53, 22, 116, 98]))"
      ],
      "metadata": {
        "id": "u_-WNaAKBt6s",
        "colab": {
          "base_uri": "https://localhost:8080/"
        },
        "outputId": "b76fa062-76f6-4745-f0d3-f1e7674abf07"
      },
      "execution_count": null,
      "outputs": [
        {
          "output_type": "stream",
          "name": "stdout",
          "text": [
            "98\n"
          ]
        }
      ]
    },
    {
      "cell_type": "markdown",
      "source": [
        "#**Explicação**"
      ],
      "metadata": {
        "id": "QF78IvuOg-5V"
      }
    },
    {
      "cell_type": "markdown",
      "source": [
        "#**Moda**\n",
        "\n",
        "* Valor que ocorre com mais frequência, mais de uma vez na amostra.\n",
        "  * Não exige cálculo algum, apenas uma contagem.\n",
        "  * Pode ser determinada tanto para dados numéricos como para dados categóricos.\n",
        "  * Não é afetada por valores extremos.\n",
        "* Porém, pode mudar drasticamente de uma amostra para outra e pode aparecer mais de um valor."
      ],
      "metadata": {
        "id": "InfHvhk0Cy_U"
      }
    },
    {
      "cell_type": "code",
      "source": [
        "def moda(nums):\n"
      ],
      "metadata": {
        "id": "JxDrEoAIC9kM",
        "colab": {
          "base_uri": "https://localhost:8080/",
          "height": 106
        },
        "outputId": "341acc33-09b8-4966-efd3-ac75bc3572f8"
      },
      "execution_count": null,
      "outputs": [
        {
          "output_type": "error",
          "ename": "SyntaxError",
          "evalue": "incomplete input (<ipython-input-31-ad492126c151>, line 1)",
          "traceback": [
            "\u001b[0;36m  File \u001b[0;32m\"<ipython-input-31-ad492126c151>\"\u001b[0;36m, line \u001b[0;32m1\u001b[0m\n\u001b[0;31m    def moda(nums):\u001b[0m\n\u001b[0m                   ^\u001b[0m\n\u001b[0;31mSyntaxError\u001b[0m\u001b[0;31m:\u001b[0m incomplete input\n"
          ]
        }
      ]
    },
    {
      "cell_type": "markdown",
      "source": [
        "#**Exemplo**\n",
        "\n",
        "Em um experimento de medição, observou-se os seguintes valores de uma variável de interesse. Qual o valor modal?\n",
        "\n",
        "                    3 4 4 5 5 6 7 8 9 9 9 10 11 12 12 13\n"
      ],
      "metadata": {
        "id": "C8qZ2CvKC_bs"
      }
    },
    {
      "cell_type": "code",
      "source": [],
      "metadata": {
        "id": "Ovd9mC25DE8O"
      },
      "execution_count": null,
      "outputs": []
    },
    {
      "cell_type": "markdown",
      "source": [
        "#**Explicação**"
      ],
      "metadata": {
        "id": "LM_DaOf3hCs-"
      }
    },
    {
      "cell_type": "markdown",
      "source": [
        "#**Amplitude**\n",
        "\n",
        "Representa a diferença entre o maior e o menor valor observado em um conjunto de dados. É uma medida simples e intuitiva de variabilidade. Quanto maior a amplitude, maior a variabilidade.\n",
        "\n"
      ],
      "metadata": {
        "id": "pqGNitLfBnkw"
      }
    },
    {
      "cell_type": "code",
      "source": [
        " def amplitude(nums):\n",
        "  nums_ordenado=sorted(nums)\n",
        "  return nums_ordenado[len(nums)-1] - nums_ordenado[0]"
      ],
      "metadata": {
        "id": "hZqeeLbhBzJI"
      },
      "execution_count": null,
      "outputs": []
    },
    {
      "cell_type": "markdown",
      "source": [
        "#**Exercício**\n",
        "\n",
        "Calcular a amplitude das amostras dos grupos Y, Z, W e V.\n",
        "\n",
        "Grupo X: 3, 4, 5, 6, 7\n",
        "\n",
        "Grupo Y: 1, 3, 5, 7, 9\n",
        "\n",
        "Grupo Z: 5, 5, 5, 5, 5\n",
        "\n",
        "Grupo W: 3, 5, 5, 5, 7\n",
        "\n",
        "Grupo V: 3, 5, 5, 6, 6"
      ],
      "metadata": {
        "id": "h96qWSueCWdP"
      }
    },
    {
      "cell_type": "code",
      "source": [
        "print(amplitude([2, 2, 3, 5, 5, 7, 8]))\n",
        "print(amplitude([3, 4, 5, 6, 7]))\n",
        "print(amplitude([1, 3, 5, 7, 9]))\n",
        "print(amplitude([5, 5, 5, 5, 5]))\n",
        "print(amplitude([3, 5, 5, 5, 7]))\n",
        "print(amplitude([3, 5, 5, 6, 6]))"
      ],
      "metadata": {
        "id": "GbXyULszCeJH",
        "colab": {
          "base_uri": "https://localhost:8080/"
        },
        "outputId": "e6495168-20cd-41b8-94b0-05cf0fe92209"
      },
      "execution_count": null,
      "outputs": [
        {
          "output_type": "stream",
          "name": "stdout",
          "text": [
            "6\n",
            "4\n",
            "8\n",
            "0\n",
            "4\n",
            "3\n"
          ]
        }
      ]
    },
    {
      "cell_type": "markdown",
      "source": [
        "#**Exercício**\n",
        "\n",
        "Um aplicativo foi desenvolvido para registrar o tempo T que o celular de um usuário está próximo do celular de outro usuário. Valores da duração de alguns desses contatos (em segundos):\n",
        "\n",
        "                            23,17,18,32,19,27,22,16,24,29\n",
        "\n",
        "Calcule a amplitude dessa amostra."
      ],
      "metadata": {
        "id": "xDZrQevrPtUC"
      }
    },
    {
      "cell_type": "code",
      "source": [
        "print(amplitude([23,17,18,32,19,27,22,16,24,29]))"
      ],
      "metadata": {
        "colab": {
          "base_uri": "https://localhost:8080/"
        },
        "id": "xX8-GTw7Z58Z",
        "outputId": "a6a8f372-38ce-4afc-ce23-8436e9df45bd"
      },
      "execution_count": null,
      "outputs": [
        {
          "output_type": "stream",
          "name": "stdout",
          "text": [
            "16\n"
          ]
        }
      ]
    },
    {
      "cell_type": "markdown",
      "source": [
        "#**Exercício**\n",
        "\n",
        "Suponha que dois usuários não se viam há muito tempo e o aplicativo registrou 1200 segundos de duração do contato. A amostra ficou assim:\n",
        "\n",
        "                23,17, 18, 32, 19, 27, 22, 16, 24, 1200\n",
        "\n",
        "\n",
        "Calcule a amplitude dessa amostra.\n",
        "\n",
        "O que podemos dizer sobre essa segunda amostra?\n",
        "\n"
      ],
      "metadata": {
        "id": "W4M7Wh1Oa9p7"
      }
    },
    {
      "cell_type": "code",
      "source": [
        "print(amplitude([23,17, 18, 32, 19, 27, 22, 16, 24, 1200]))"
      ],
      "metadata": {
        "id": "MKRYhTWJbMUx",
        "colab": {
          "base_uri": "https://localhost:8080/"
        },
        "outputId": "ea27c763-784f-4130-cacd-933955856e76"
      },
      "execution_count": null,
      "outputs": [
        {
          "output_type": "stream",
          "name": "stdout",
          "text": [
            "1184\n"
          ]
        }
      ]
    },
    {
      "cell_type": "markdown",
      "source": [
        "#**Explicação**"
      ],
      "metadata": {
        "id": "v_LcqBN9hGw9"
      }
    },
    {
      "cell_type": "markdown",
      "source": [
        "# **Desvio-Padrão**\n",
        "\n",
        "* Seja $\\{x_{1}, x_{2},...,x_{n}\\}$ uma amostra de observações obtidas em um experimento de medição.\n",
        "* Média Amostral: $\\bar{x} = \\frac{1}{n} \\sum_{i=1}^n x_{i}$\n",
        "\n",
        "* Variância amostral: ${s^2} = \\frac{1}{n-1} \\sum_{i=1}^n (x_{i}-\\bar{x})^2$\n",
        "\n",
        "* Desvio padrão: $s = \\sqrt[n]{\\frac{1}{n-1}\\sum_{i=1}^n(x_{i} - \\bar{x})^2}$"
      ],
      "metadata": {
        "id": "yL0Kk4h0DrCd"
      }
    },
    {
      "cell_type": "code",
      "source": [
        "def varianciaAmostral(nums):\n",
        "  media = mediaAritmetica(nums)\n",
        "  variancia = sum((x - media) ** 2 for x in nums) / (len(nums)-1)\n",
        "  return variancia\n",
        "\n",
        "def desvioPadrao(nums):\n",
        "  return math.sqrt(varianciaAmostral(nums))"
      ],
      "metadata": {
        "id": "PuMNOCnQD96e"
      },
      "execution_count": null,
      "outputs": []
    },
    {
      "cell_type": "markdown",
      "source": [
        "#**Exercício**\n",
        "\n",
        "O analista de redes de uma empresa coletou uma amostra do tempo (em segundos) de acesso a uma página web que alguns usuários observaram em dois dias consecutivos. As observações do primeiro dia foram {45, 74, 56, 98, 32, 97} e as do segundo dia foram {48, 81, 33, 40, 84}. Ache a variância amostral e o desvio-padrão de cada amostra. Faça uma análise comparativa."
      ],
      "metadata": {
        "id": "ZFoSs9IDbRCh"
      }
    },
    {
      "cell_type": "code",
      "source": [
        "nums1 = [45, 74, 56, 98, 32, 97]\n",
        "nums2 = [48, 81, 33, 40, 84]\n",
        "\n",
        "print(varianciaAmostral(nums1))\n",
        "print(desvioPadrao(nums1))\n",
        "\n",
        "print(varianciaAmostral(nums2))\n",
        "print(desvioPadrao(nums2))"
      ],
      "metadata": {
        "id": "kT_9EOLlbej5",
        "colab": {
          "base_uri": "https://localhost:8080/"
        },
        "outputId": "50b1e818-0f25-4e1b-c5c1-6f1ba439c30c"
      },
      "execution_count": null,
      "outputs": [
        {
          "output_type": "stream",
          "name": "stdout",
          "text": [
            "748.0\n",
            "27.349588662354687\n",
            "562.7\n",
            "23.721298446754556\n"
          ]
        }
      ]
    },
    {
      "cell_type": "markdown",
      "source": [
        "#**Explicação**"
      ],
      "metadata": {
        "id": "jfpA7Tg_hJ2m"
      }
    },
    {
      "cell_type": "markdown",
      "source": [
        "#**Coeficiente de Variação**\n",
        "\n",
        "$CV = \\frac{s}{x}*100, (0 \\leq CV \\leq \\sqrt[]{n-1})$\n",
        "\n",
        "* Compara o grau de variação de duas ou mais amostras, mesmo que as médias sejam bastante diferentes.\n",
        "* Usado para conhecer a consistência dos dados, isto é, a uniformidade nos valores. Uma amostra com menor CV é considerada mais consistente do que outra.\n",
        "* Na prática, considera-se que CV > 50% indica alto grau de dispersão e, por consequência, baixa representatividade da média. Por outro lado, quanto menor CV, mais representativa é a média."
      ],
      "metadata": {
        "id": "-PU2Hyw1zCQx"
      }
    },
    {
      "cell_type": "code",
      "source": [
        "def coeficienteVariacao(nums):\n",
        "  return (desvioPadrao(nums) / mediaAritmetica(nums)) * 100"
      ],
      "metadata": {
        "id": "YLkqzKeZ5zrM"
      },
      "execution_count": null,
      "outputs": []
    },
    {
      "cell_type": "markdown",
      "source": [
        "#**Exercício**\n",
        "\n",
        "Um psicultor mediu o tamanho de alguns peixes a fim de monitorar a condição ideal para o consumo. A amostra apresentou os seguintes valores em cm: 76,102, 12,39,55,93,98,53,102. Verifique se o tamanho médio é representativo."
      ],
      "metadata": {
        "id": "I4_mdxRzbgfp"
      }
    },
    {
      "cell_type": "code",
      "source": [
        "print(coeficienteVariacao([76,102,12,39,55,93,98,53,102]))"
      ],
      "metadata": {
        "id": "D7YD2rN2bnFL",
        "colab": {
          "base_uri": "https://localhost:8080/"
        },
        "outputId": "177a5e35-c252-456d-bf1f-b963b526884d"
      },
      "execution_count": null,
      "outputs": [
        {
          "output_type": "stream",
          "name": "stdout",
          "text": [
            "45.836889163241274\n"
          ]
        }
      ]
    },
    {
      "cell_type": "markdown",
      "source": [
        "#**Explicação**"
      ],
      "metadata": {
        "id": "3rXU4QT-hM7W"
      }
    },
    {
      "cell_type": "markdown",
      "source": [
        "#**Quartis**\n",
        "\n",
        "* Em alguns casos, tanto a média como o desvio padrão podem não ser adequados para representar um conjunto de dados.\n",
        "  * São afetados por valores atípicos.\n",
        "* Apenas com estes dois valores não temos ideia da (as)simetria da distribuição dos dados.\n",
        "* Quartis são valores que dividem uma amostra de dados em quatro partes iguais.\n",
        "* Com eles você pode rapidamente avaliar a dispersão e a tendência central de um conjunto de dados."
      ],
      "metadata": {
        "id": "7lYAHx7abo4q"
      }
    },
    {
      "cell_type": "code",
      "source": [],
      "metadata": {
        "id": "zfY8zzzWh7g-"
      },
      "execution_count": null,
      "outputs": []
    },
    {
      "cell_type": "markdown",
      "source": [
        "#**Amplitude Interquartil**\n",
        "\n",
        "* A amplitude tem a grande desvantagem de ser muito sensível à existência, na amostra, de uma observação muito grande ou muito pequena.\n",
        "* A amplitude interquartil é uma medida de dispersão resistente a valores atípicos.\n",
        "* Definição: $AIQ = Q3 – Q1$."
      ],
      "metadata": {
        "id": "6D0QFF-hhbjJ"
      }
    },
    {
      "cell_type": "code",
      "source": [],
      "metadata": {
        "id": "YK58x6rPhq_h"
      },
      "execution_count": null,
      "outputs": []
    },
    {
      "cell_type": "markdown",
      "source": [
        "#**Exemplo**\n",
        "\n",
        "        16 46 88 11 44 91 53 71 25"
      ],
      "metadata": {
        "id": "GZsxJwTshrlY"
      }
    },
    {
      "cell_type": "code",
      "source": [],
      "metadata": {
        "id": "JDf1Dxpthz0w"
      },
      "execution_count": null,
      "outputs": []
    },
    {
      "cell_type": "markdown",
      "source": [
        "#**Exercício**\n",
        "\n",
        "O seguinte dataset contém dados sobre os Vingadores da Marvel\n",
        "\n",
        "https://github.com/fivethirtyeight/data/tree/master/avengers\n",
        "\n",
        "Selecione os dados da coluna sobre as aparições e encontre as estatísticas estudadas até aqui."
      ],
      "metadata": {
        "id": "r6xIHtHPcD2y"
      }
    },
    {
      "cell_type": "code",
      "source": [],
      "metadata": {
        "id": "6FlawLt8ccGr"
      },
      "execution_count": null,
      "outputs": []
    },
    {
      "cell_type": "markdown",
      "source": [
        "#**Explicação**"
      ],
      "metadata": {
        "id": "pByDlU7xhP8t"
      }
    },
    {
      "cell_type": "markdown",
      "source": [
        "#**Intervalo de Confiança**"
      ],
      "metadata": {
        "id": "ZdlSjRPAcckh"
      }
    },
    {
      "cell_type": "markdown",
      "source": [
        "#**Probabilidade**\n",
        "\n",
        "![image.png](data:image/png;base64,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)\n"
      ],
      "metadata": {
        "id": "CiVGz2x2nAtK"
      }
    },
    {
      "cell_type": "markdown",
      "source": [
        "#**Intervalo de Confiança 100(1-$\\alpha$)% (n>30)**\n",
        "\n",
        "$(\\bar{x}-\\frac{SZ_{1-\\alpha/2}}{\\sqrt{n}}; \\bar{x}+\\frac{SZ_{1-\\alpha/2}}{\\sqrt{n}})$, onde $\\frac{S}{\\sqrt{n}}$ é chamado erro padrão.\n",
        "\n",
        "\n",
        "```markdown\n",
        "$\\alpha$ | ${1}-\\alpha$ | $Z_{1-\\alpha/2}$\n",
        "---------|--------------|------------------\n",
        "    0,1  |     0,90     |       1,645\n",
        "```\n"
      ],
      "metadata": {
        "id": "1Jc-VpI9iFbH"
      }
    },
    {
      "cell_type": "code",
      "source": [],
      "metadata": {
        "id": "n4kw7q79pq4M"
      },
      "execution_count": null,
      "outputs": []
    },
    {
      "cell_type": "markdown",
      "source": [
        "#**Exercício**\n",
        "\n",
        "Construir um IC com níveis de confiança de 90%, 95% e 99%,\n",
        "para os seguintes dados coletados em um experimento:\n",
        "\n",
        "        177 122 128 191 180 142 197 196 67 160\n",
        "        167 138 107 188 102 116 138 114 188 176\n",
        "        148 175 169 203 135 142 168 181 168 150\n",
        "        132 196 88 177 164 118 178 102 156 114"
      ],
      "metadata": {
        "id": "cOs6FBf_iL3B"
      }
    },
    {
      "cell_type": "code",
      "source": [],
      "metadata": {
        "id": "ITpzMaGepzeV"
      },
      "execution_count": null,
      "outputs": []
    },
    {
      "cell_type": "markdown",
      "source": [
        "#**Exercício**\n",
        "\n",
        "Construir um IC com nível de confiança de 95%, para a seguinte amostra coletada em um experimento:\n",
        "\n",
        "        -0.04, -0.19, 0.14, -0.09, -0.14, 0.19, 0.04, 0.09"
      ],
      "metadata": {
        "id": "rKZvgaWpiWxG"
      }
    },
    {
      "cell_type": "code",
      "source": [],
      "metadata": {
        "id": "vUcRsSQsieHd"
      },
      "execution_count": null,
      "outputs": []
    },
    {
      "cell_type": "markdown",
      "source": [
        "#**Teste Média Zero**\n",
        "\n",
        "Um IC pode ser usado para determinar se um valor medido é significativamente diferente de zero, para um certo nível de confiança.\n",
        "\n",
        "![image.png](data:image/png;base64,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)\n"
      ],
      "metadata": {
        "id": "quU7mja4igu9"
      }
    },
    {
      "cell_type": "code",
      "source": [],
      "metadata": {
        "id": "MmC-t6JXiwkE"
      },
      "execution_count": null,
      "outputs": []
    },
    {
      "cell_type": "markdown",
      "source": [
        "#**Exercício**\n",
        "\n",
        "Dois sistemas (A e B) foram submetidos a seis cargas similares. As observações da métrica de interesse para os dois sistemas aparecem na tabela abaixo. Um dos sistemas é melhor que o outro? Argumente com base em um nível de confiança de 90%, 95% e 99%.\n",
        "\n",
        "```markdown\n",
        "Sistemas | Carga 1 | Carga 2 | Carga 3 | Carga 4 | Carga 5 | Carga 6\n",
        "---------|---------|---------|---------|---------|---------|--------\n",
        "     A   |   5,4   |   16,6  |    0,6  |   1,4   |    0,6  |   7,3   \n",
        "     B   |  19,1   |    3,5  |    3,4  |   2,5   |    3,6  |   1,7     \n",
        "      \n",
        "```"
      ],
      "metadata": {
        "id": "MtvHBZpEi1-g"
      }
    },
    {
      "cell_type": "code",
      "source": [],
      "metadata": {
        "id": "EW6p9uzmi2T0"
      },
      "execution_count": null,
      "outputs": []
    },
    {
      "cell_type": "markdown",
      "source": [
        "#**Exercício**\n",
        "\n",
        "A diferença de tempo de execução de duas implementações do mesmo algoritmo foi medida em sete cargas de trabalho semelhantes. As diferenças obtidas foram: {1,5; 2,6; -1,8; 1,3; -0,5; 1,7; 2,4}. Podemos dizer com 99% de confiança que uma implementação é superior à outra?"
      ],
      "metadata": {
        "id": "ochunH17kSTm"
      }
    },
    {
      "cell_type": "code",
      "source": [],
      "metadata": {
        "id": "MZbv-yNAkYMk"
      },
      "execution_count": null,
      "outputs": []
    },
    {
      "cell_type": "markdown",
      "source": [
        "Quando as amostras não são pareadas, a análise é um pouco diferente. Suponha duas amostras de tamanho na e nb:\n",
        "\n",
        "* 1) Computar as médias amostrais: $\\bar{x_{a}}$ e $\\bar{x_{b}}$\n",
        "* 2) Computar a diferença das médias: $\\bar{x_{a}} - \\bar{x_{b}}$\n",
        "* 3) Computar os desvios padrões das amostras:${s_{a}}$ e ${s_{b}}$\n",
        "* 4) Computar o desvio padrão da diferença das médias: $s=\\sqrt{\\frac{s_{a}^2}{n_{a}}+\\frac{s_{b}^2}{n_{b}}}$\n",
        "* 5) Computar o número efetivo de graus de liberdade: $v = \\frac{(\\frac{s_{a}^2}{n_{a}}+\\frac{s_{b}^2}{n_{b}})^2}{\\frac{1}{n_{a}+1}(\\frac{s_{a}^2}{n_{a}})^2+\\frac{1}{n_{b}+1}(\\frac{s_{b}^2}{n_{b}})^2}-2$\n",
        "* 6) Computar o IC para a diferença entre as médias: $(\\bar{x_{a}}- \\bar{x_{b}})\\bar{+}st_{[v;1-\\alpha/2]}$\n",
        "* 7) Se o IC inclui o zero, a diferença não é significativa no nível de confiança analisado.\n",
        "\n",
        "\n"
      ],
      "metadata": {
        "id": "bXfcmBNbkmBF"
      }
    },
    {
      "cell_type": "markdown",
      "source": [
        "#**Exercício**\n",
        "O tempo de processador consumido na execução de uma determinada aplicação foi medido em dois sistemas. Os tempos nos sistema A e B estão registrados na tabela a seguir. Podemos afirmar que os dois sistemas são significativamente\n",
        "diferentes? Utilizem 90%, 95% e 99% como nível de confiança.\n",
        "\n",
        "      -----------------------------------------------------------\n",
        "        A     5,3   16   0,6   1,4   0,6   7,7   3,6   2,4   12\n",
        "               6    57    2     1     4     6     4     8    1\n",
        "      -----------------------------------------------------------\n",
        "        B      19   3,5  3,3   2,5   3,6   1,7\n",
        "               12    2    8     1     1     4\n",
        "      -----------------------------------------------------------"
      ],
      "metadata": {
        "id": "Tx9XW61Xm_xH"
      }
    },
    {
      "cell_type": "code",
      "source": [],
      "metadata": {
        "id": "AJ4y0jmqoELH"
      },
      "execution_count": null,
      "outputs": []
    },
    {
      "cell_type": "markdown",
      "source": [
        "#**Tamanho de uma Amostra**\n",
        "\n",
        "Seja {X1, X2, ..., Xn} observações de um experimento. Se n>30,podemos construir um intervalo de confiança\n",
        "\n",
        "$(\\bar{x}-\\frac{\\sigma  Z_{1-\\alpha/2}}{\\sqrt{n}};\\bar{x}+\\frac{\\sigma Z_{1-\\alpha/2}}{\\sqrt{n}})$\n",
        "\n",
        "Seja H é a largura do intervalo de confiança. Então,\n",
        "\n",
        "$H=\\frac{2 \\sigma Z_{1-\\alpha/2}}{\\sqrt{n}}$\n",
        "\n",
        "Podemos encontrar n, o tamanho da amostra\n",
        "\n",
        "$n \\geq \\frac{4(\\sigma Z_{1-\\alpha/2})^2}{H^2}$\n",
        "\n",
        "Se a variância não é conhecida\n",
        "\n",
        "$(\\bar{x}-\\frac{s t_{[n-1,1-\\alpha /2]}}{\\sqrt{n}};\\bar{x}+\\frac{s t_{[n-1,1-\\alpha /2]}}{\\sqrt{n}})$\n",
        "\n",
        "Seja H a largura do intervalo de confiança. Então,\n",
        "\n",
        "$H=\\frac{2 s t_{[n-1,1-\\alpha /2]}}{\\sqrt{n}}$\n",
        "\n",
        "e o tamanho da amostra\n",
        "\n",
        "$n \\geq \\frac{4(st_{[n-1,1-\\alpha /2]})^2}{H^2}$"
      ],
      "metadata": {
        "id": "2bTM5C6OoViJ"
      }
    },
    {
      "cell_type": "code",
      "source": [],
      "metadata": {
        "id": "DsjgY8KVrx_8"
      },
      "execution_count": null,
      "outputs": []
    },
    {
      "cell_type": "markdown",
      "source": [
        "#**Exercício**\n",
        "Estamos projetando um experimento e gostaríamos de saber quantos estudantes do IComp utilizam um app. Em anos anteriores, o desvio padrão dessa informação era 6. Se queremos um nível de confiança de 95%, com largura não maior que 3, quantos estudantes devem participar da amostra?"
      ],
      "metadata": {
        "id": "WU5R4jFLryi8"
      }
    },
    {
      "cell_type": "code",
      "source": [],
      "metadata": {
        "id": "o0nsUreUr4wj"
      },
      "execution_count": null,
      "outputs": []
    },
    {
      "cell_type": "markdown",
      "source": [
        "Se não conhecemos previamente o tamanho do IC, podemos especificar o seu tamanho relativo ao valor sendo estimado.\n",
        "\n",
        "$\\bar{x} \\pm \\frac{sz}{\\sqrt{n}}$\n",
        "\n",
        "Se queremos uma estimativa com r% de precisão, o IC deve ser\n",
        "\n",
        "$(\\bar{x}(1-r/100);\\bar{x}(1+r/100))$\n",
        "\n",
        "Logo,\n",
        "\n",
        "$\\bar{x} \\pm \\frac{sz}{\\sqrt{n}} = \\bar{x}(1 \\pm \\frac{r}{100}) \\to \\frac{sz}{\\sqrt{n}} = \\bar{x}\\frac{r}{100} \\to n=(\\frac{100 sz}{r \\bar{x}})^2$"
      ],
      "metadata": {
        "id": "FkoE7Oq3r9iM"
      }
    },
    {
      "cell_type": "code",
      "source": [],
      "metadata": {
        "id": "A9jOrP3It9Rr"
      },
      "execution_count": null,
      "outputs": []
    },
    {
      "cell_type": "markdown",
      "source": [
        "#**Exercício**\n",
        "Baseado em um teste preliminar, a média amostral do tempo de resposta de um sistema é igual 20 segundos, e a desvio padrão é igual a 5 segundos. Quantas repetições são necessárias para obter um tempo de resposta com precisão não maior que 1 segundo no nível de confiança de 95%?\n",
        "\n"
      ],
      "metadata": {
        "id": "Ykb-CbczuCly"
      }
    },
    {
      "cell_type": "code",
      "source": [],
      "metadata": {
        "id": "h1tdKATxuIgr"
      },
      "execution_count": null,
      "outputs": []
    },
    {
      "cell_type": "markdown",
      "source": [
        "#**Variável Aleatória Bernoulli**\n",
        "\n",
        "O valor esperado de uma V.A. Bernoulli com parâmetro **p**:\n",
        "\n",
        "Variância: $Var[X]=p(1-p)$\n",
        "\n",
        "Coeficiente de Varaiação: $CV[X]=\\frac{\\sqrt{p(1-p)}}{p}$"
      ],
      "metadata": {
        "id": "nHXRs9-9Imgr"
      }
    },
    {
      "cell_type": "code",
      "source": [],
      "metadata": {
        "id": "7ppBBqepKGgz"
      },
      "execution_count": null,
      "outputs": []
    },
    {
      "cell_type": "markdown",
      "source": [
        "#**Variável Aleatória Binomial**\n",
        "\n",
        "$𝐸[𝑋] = 𝑛p$\n",
        "\n",
        "Variância: $Var[X]=np(1-p)$\n",
        "\n",
        "Coeficiente de Variação: $CV[X]=\\frac{\\sqrt{np(1-p)}}{np}$"
      ],
      "metadata": {
        "id": "DrEhzc3JKUdi"
      }
    },
    {
      "cell_type": "code",
      "source": [],
      "metadata": {
        "id": "7s9_ywD8Lu-Z"
      },
      "execution_count": null,
      "outputs": []
    },
    {
      "cell_type": "markdown",
      "source": [
        "#**Exemplo**\n",
        "\n",
        "Cerca de 75% de estudantes do IComp acompanham as aulas síncronas através de um notebook, enquanto que 25% acessam via celular. Suponha que em uma aula síncrona, o professor seleciona aleatoriamente 10 estudantes. Qual a probabilidade de que exatamente 6 estudantes estejam usando notebook.\n",
        "\n",
        "$p(k)=\\binom{n}{k}p^k(1-p)^{n-k}$\n",
        "\n",
        "$p(6)=\\binom{10}{6}(0,75)^6(1-0,75)^{10-6} = 0,1460$"
      ],
      "metadata": {
        "id": "hps7WPYnRe-p"
      }
    },
    {
      "cell_type": "code",
      "source": [],
      "metadata": {
        "id": "FfWBNtFiSbdo"
      },
      "execution_count": null,
      "outputs": []
    },
    {
      "cell_type": "markdown",
      "source": [
        "#**Variável Aleatória Geométrica**\n",
        "\n",
        "O valor esperado de uma V.A. Geométrica com parâmetro **p**:\n",
        "\n",
        "$E[X]=\\frac{1}{p}$\n",
        "\n",
        "Variância: $Var(X)=\\frac{1-p}{p^2}$\n",
        "\n",
        "Coeficiente de Variação: $CV(X)=\\frac{\\sqrt{\\frac{1-p}{p^2}}}{1/p}$\n"
      ],
      "metadata": {
        "id": "AvkpKrPdScEA"
      }
    },
    {
      "cell_type": "code",
      "source": [],
      "metadata": {
        "id": "fNSySFQxTM5q"
      },
      "execution_count": null,
      "outputs": []
    },
    {
      "cell_type": "markdown",
      "source": [
        "#**Exemplo**\n",
        "\n",
        "Suponha que a probabilidade de perda em um link seja 10% e que perdas de pacotes sejam independentes, embora isso aconteça raramente na prática. Quando um pacote é perdido, isso é detectado e o pacote retransmitido até que seja recebido corretamente. Qual é a probabilidade de um pacote ser retransmitido exatamente em 1, 2 e 3 vezes?\n",
        "\n",
        "$p(i)=P\\{X=i\\}=p(1-p)^{i-1}, onde p=0,9$\n",
        "\n",
        "  $P\\{X=1\\}=(0,9).(1-0,90)^{1-1}=0,9$\n",
        "\n",
        "  $P\\{X=2\\}=(0,9).(1-0,90)^{2-1}=0,09$\n",
        "\n",
        "  $P\\{X=3\\}=(0,9).(1-0,90)^{3-1}=0,009$"
      ],
      "metadata": {
        "id": "DiSRBASFTQM_"
      }
    },
    {
      "cell_type": "code",
      "source": [],
      "metadata": {
        "id": "lcfaCzo0Y0eI"
      },
      "execution_count": null,
      "outputs": []
    },
    {
      "cell_type": "markdown",
      "source": [
        "#**Variável Aleatória Poisson**\n",
        "\n",
        "O valor esperado de uma V.A. Poisson com parâmetro $\\lambda$\n",
        "\n",
        "$E[X]=\\lambda$\n",
        "\n",
        "Variância: $Var(X)=\\lambda$\n",
        "\n",
        "Coeficiente de Variação: $CV(X)=\\frac{\\sqrt{\\lambda}}{\\lambda}$"
      ],
      "metadata": {
        "id": "qjd5BCHQZbvg"
      }
    },
    {
      "cell_type": "code",
      "source": [],
      "metadata": {
        "id": "qnnldN8lgLDo"
      },
      "execution_count": null,
      "outputs": []
    },
    {
      "cell_type": "markdown",
      "source": [
        "#**Exemplo**\n",
        "\n",
        "Considere um sistema computacional com um fluxo de chegadas de 2 jobs por minuto. Modelando esse sistema como Poisson, determine a probabilidade de chegarem, no máximo, três jobs durante um intervalo de 1 minuto.\n",
        "\n",
        "$p(i)=P\\{X=i\\}=e^{-\\lambda}\\frac{\\lambda^i}{i!}$    \n",
        "\n",
        "$p(0)=P\\{X=0\\}=e^{-2}\\frac{2^0}{0!}=0,1353$\n",
        "\n",
        "$p(1)=P\\{X=1\\}=e^{-2}\\frac{2^1}{1!}=0,2706$\n",
        "\n",
        "$p(2)=P\\{X=2\\}=e^{-2}\\frac{2^2}{2!}=0,2706$\n",
        "\n",
        "$p(3)=P\\{X=3\\}=e^{-2}\\frac{2^3}{3!}=0,1804$"
      ],
      "metadata": {
        "id": "3sQsk8ZFgLQQ"
      }
    }
  ]
}