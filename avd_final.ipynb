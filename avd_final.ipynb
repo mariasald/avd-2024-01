{
  "nbformat": 4,
  "nbformat_minor": 0,
  "metadata": {
    "colab": {
      "provenance": [],
      "include_colab_link": true
    },
    "kernelspec": {
      "name": "python3",
      "display_name": "Python 3"
    },
    "language_info": {
      "name": "python"
    }
  },
  "cells": [
    {
      "cell_type": "markdown",
      "metadata": {
        "id": "view-in-github",
        "colab_type": "text"
      },
      "source": [
        "<a href=\"https://colab.research.google.com/github/mariasald/avd-2024-01/blob/main/avd_final.ipynb\" target=\"_parent\"><img src=\"https://colab.research.google.com/assets/colab-badge.svg\" alt=\"Open In Colab\"/></a>"
      ]
    },
    {
      "cell_type": "markdown",
      "source": [
        "# **Alunos**\n",
        "\n",
        "* Gabriel César Tavares Ferreira - 21854868\n",
        "* Maria Luiza Saldanha - 22153140"
      ],
      "metadata": {
        "id": "kv7ysOaEylC8"
      }
    },
    {
      "cell_type": "markdown",
      "source": [
        "--------------------------------------------------------------------------------"
      ],
      "metadata": {
        "id": "xzdR_EjJyavZ"
      }
    },
    {
      "cell_type": "markdown",
      "source": [
        "#**Bibliotecas Utilizadas**\n"
      ],
      "metadata": {
        "id": "2Y8nkiPAyn_J"
      }
    },
    {
      "cell_type": "code",
      "source": [
        "import math\n",
        "import numpy as np\n",
        "from collections import Counter\n",
        "import pandas as pd\n",
        "import scipy.stats\n",
        "import matplotlib.pyplot as plt"
      ],
      "metadata": {
        "id": "yZsb9Q-Oyq5j"
      },
      "execution_count": 141,
      "outputs": []
    },
    {
      "cell_type": "markdown",
      "source": [
        "--------------------------------------------------------------------------------"
      ],
      "metadata": {
        "id": "V1v9bzvxysJx"
      }
    },
    {
      "cell_type": "markdown",
      "source": [
        "#**Distribuição de Frequência**\n",
        "\n",
        "Ao estudar uma variável, o maior interesse é conhecer o comportamento dessa variável analisando a ocorrência de suas possíveis realizações."
      ],
      "metadata": {
        "id": "kFSgLUeo6DdR"
      }
    },
    {
      "cell_type": "code",
      "source": [
        "def distribuicaoFrequencia(nums):\n",
        "  frequencia = {}\n",
        "  for n in nums:\n",
        "    if n in frequencia:\n",
        "      frequencia[n] += 1\n",
        "    else:\n",
        "      frequencia[n] = 1\n",
        "  return frequencia"
      ],
      "metadata": {
        "id": "wUfeaComVdL0"
      },
      "execution_count": 142,
      "outputs": []
    },
    {
      "cell_type": "markdown",
      "source": [
        "##**Exemplo**\n",
        "\n",
        "          59 61 74 84 86 75 96 92 53 66\n",
        "          58 49 71 72 73 66 91 68 79 79\n",
        "          64 84 86 79 88 59 98 82 69 75\n",
        "          84 61 92 84 82 62 61 88 74 58\n",
        "          60 62 75 86 88 72 90 96 51 64"
      ],
      "metadata": {
        "id": "tRpH6iL6ViCC"
      }
    },
    {
      "cell_type": "code",
      "source": [
        "amostra = [59, 61, 74, 84, 86, 75, 96, 92, 53, 66,\n",
        "           58, 49, 71, 72, 73, 66, 91, 68, 79, 79,\n",
        "           64, 84, 86, 79, 88, 59, 98, 82, 69, 75,\n",
        "           84, 61, 92, 84, 82, 62, 61, 88, 74, 58,\n",
        "           60, 62, 75, 86, 88, 72, 90, 96, 51, 64]\n",
        "\n",
        "print(distribuicaoFrequencia(amostra))\n",
        "\n",
        "plt.hist(amostra, 100, color='c')\n",
        "plt.xlabel('Estudantes')\n",
        "plt.ylabel('Frequência')\n",
        "plt.title('Histograma')\n",
        "plt.show()"
      ],
      "metadata": {
        "id": "J-aB12YrV_Lk",
        "outputId": "8fc9a9e9-e59c-4ae1-aafe-163149260819",
        "colab": {
          "base_uri": "https://localhost:8080/",
          "height": 509
        }
      },
      "execution_count": 143,
      "outputs": [
        {
          "output_type": "stream",
          "name": "stdout",
          "text": [
            "{59: 2, 61: 3, 74: 2, 84: 4, 86: 3, 75: 3, 96: 2, 92: 2, 53: 1, 66: 2, 58: 2, 49: 1, 71: 1, 72: 2, 73: 1, 91: 1, 68: 1, 79: 3, 64: 2, 88: 3, 98: 1, 82: 2, 69: 1, 62: 2, 60: 1, 90: 1, 51: 1}\n"
          ]
        },
        {
          "output_type": "display_data",
          "data": {
            "text/plain": [
              "<Figure size 640x480 with 1 Axes>"
            ],
            "image/png": "[encoded data removed]"
          },
          "metadata": {}
        }
      ]
    },
    {
      "cell_type": "markdown",
      "source": [
        "##**Explicação**\n",
        "\n",
        "A distribuição de frequência se refere aos valores que estão presentes em uma amostra e quantas vezes eles aparecem nesse determinado conjunto. Esse valor pode ser posteriormente utilizado para calcular medidas estatíticas como a **moda**, a qual é o valor que mais se repete em um conjunto.\n",
        "\n",
        "No exemplo acima é possível analisar quantas vezes cada elemento presente no conjunto se repete, independente de sua posição. O elemento 79 aparece 3 vezes e posteriormente, estaremos verificando a moda dessa amostragem."
      ],
      "metadata": {
        "id": "x1_On71DXqzc"
      }
    },
    {
      "cell_type": "markdown",
      "source": [
        "--------------------------------------------------------------------------------"
      ],
      "metadata": {
        "id": "4k6yv0_jyu7R"
      }
    },
    {
      "cell_type": "markdown",
      "source": [
        "#**Medidas de Tendência Central**"
      ],
      "metadata": {
        "id": "eSWIVPMMCjKV"
      }
    },
    {
      "cell_type": "markdown",
      "source": [
        "##**Média Aritmética**\n",
        "\n",
        "Dado um conjunto de valores numéricos **{x1, x2, ..., xn}** a média aritmética é calculada somando-se todos estes valores e dividindo-se o resultado pelo número de elementos do conjunto.\n",
        "\n",
        "\n",
        "$\\bar{x} = \\frac{x_{1} + x_{2} + ... + x_{n}}{n}$\n"
      ],
      "metadata": {
        "id": "jeLEPuD0yt6j"
      }
    },
    {
      "cell_type": "code",
      "source": [
        "def mediaAritmetica(nums):\n",
        "  return round((sum(nums)/len(nums)),3)"
      ],
      "metadata": {
        "id": "Fn8TQFYpCNpZ"
      },
      "execution_count": 144,
      "outputs": []
    },
    {
      "cell_type": "markdown",
      "source": [
        "###**Exemplo**\n",
        "\n",
        "Em uma amostra foram registradas a\n",
        "duração (em minutos) de 10 chamadas\n",
        "VoIP:\n",
        "\n",
        "2,5; 3,5, 2,8; 1,9; 2,4; 2,6; 3,4;2,8; 3,6; 2,5\n",
        "\n",
        "Qual a duração média de uma chamada\n",
        "VoIP?\n"
      ],
      "metadata": {
        "id": "KDZRVGf-8bLi"
      }
    },
    {
      "cell_type": "code",
      "source": [
        "print(mediaAritmetica([2.5, 3.5, 2.8, 1.9, 2.4, 2.6, 3.4, 2.8, 3.6, 2.5]))"
      ],
      "metadata": {
        "colab": {
          "base_uri": "https://localhost:8080/"
        },
        "id": "zbfSfWrIy0I6",
        "outputId": "e63f8b12-9c3a-4330-e74e-cb7fa9716486"
      },
      "execution_count": 145,
      "outputs": [
        {
          "output_type": "stream",
          "name": "stdout",
          "text": [
            "2.8\n"
          ]
        }
      ]
    },
    {
      "cell_type": "markdown",
      "source": [
        "###**Explicação**\n",
        "\n",
        "A média aritmética está responsável por verificar que valor é uma valor central para uma determinada amostragem. Não necessariamente um valor médio presente na amostragem (nesse caso, isso é a **mediana**), e sim um valor regular que \"representa\" centralmente o conjunto.\n",
        "\n",
        "No exemplo acima, após somar todos os valores presentes na amostragem e dividirmos pela quantidade de elementos presentes, temos que a média é de aproximadamente **2.8**.\n",
        "\n",
        "É importante notar que valores extremos podem impactar na média de um conjunto."
      ],
      "metadata": {
        "id": "TtZMQaBzzthD"
      }
    },
    {
      "cell_type": "markdown",
      "source": [
        "##**Média Ponderada**\n",
        "\n",
        "\n",
        "* Os valores de uma amostra nem sempre têm a mesma importância.\n",
        "* A média ponderada leva em consideração a importância relativa de\n",
        "cada valor.\n",
        "* Dado um conjunto de valores numéricos, a média ponderada é calculada multiplicando-se cada **valor** do conjunto por seu \"**peso**\" e dividindo-se o resultado pela soma dos pesos.\n",
        "\n",
        "$\\bar{x} = \\frac{p_{1}x_{1} + p_{2}x_{2} + ... + p_{n}x_{n}}{p_{1}+p_{2}+...+p_{n}}$\n"
      ],
      "metadata": {
        "id": "Bc1bcf2Gy12L"
      }
    },
    {
      "cell_type": "code",
      "source": [
        "def mediaPonderada(nums):\n",
        "  media = sum(x * y for x, y in nums) / sum(y for _, y in nums)\n",
        "  return round(media,1)"
      ],
      "metadata": {
        "id": "zXoYM8dmy3Aq"
      },
      "execution_count": 146,
      "outputs": []
    },
    {
      "cell_type": "markdown",
      "source": [
        "###**Exemplo**\n",
        "\n",
        "O coeficiente de rendimento de um curso é a **média ponderada** entre as notas de cada disciplina e os respectivos números de créditos. O conjunto a seguir descreve (notas, créditos) de um estudante. Qual o seu coeficiente de rendimento?\n",
        "\n",
        "(7 ; 4), (8 ; 2), (6 ; 2), (9 ; 2), (8 ; 4), (9; 4)"
      ],
      "metadata": {
        "id": "z3CR09QJy3q7"
      }
    },
    {
      "cell_type": "code",
      "source": [
        "print(mediaPonderada([(7, 4), (8, 2), (6, 2), (9, 2), (8, 4), (9, 4)]))"
      ],
      "metadata": {
        "id": "UXl28Bmiy4Yi",
        "colab": {
          "base_uri": "https://localhost:8080/"
        },
        "outputId": "add35d5f-c1d9-494e-9ebc-570e22566f12"
      },
      "execution_count": 147,
      "outputs": [
        {
          "output_type": "stream",
          "name": "stdout",
          "text": [
            "7.9\n"
          ]
        }
      ]
    },
    {
      "cell_type": "markdown",
      "source": [
        "###**Explicação**\n",
        "\n",
        "A média ponderada possui um funcionamento diferente da média aritmética. Para cada elemento é atribuido um peso. Se todos os elementos possuem um peso de valor 1, a média ponderada terá o mesmo valor da média aritmética. Caso haja pesos distintos, o valor terá \"maior importância\" no cálculo de média.\n",
        "\n",
        "Exemplo: anteriormente em Avaliação de Desempenho, a medida que novos trabalhos eram inseridos, seus pesos eram acrescentados em 1. O primeiro trabalho teria peso 1, o segundo teria peso 2 e assim sucessivamente até o trabalho 7, com peso 7.\n"
      ],
      "metadata": {
        "id": "iIAYTsCVz-Xz"
      }
    },
    {
      "cell_type": "markdown",
      "source": [
        "##**Média Geométrica**\n",
        "\n",
        "Seja {x1, x2, …, xn} um conjunto de n valores que uma variável X assume em um experimento. A média geométrica desse conjunto é dada por\n",
        "\n",
        "${G} = \\sqrt[n]{x.x^2. . .x^n}$"
      ],
      "metadata": {
        "id": "ZJn5wlDGy6oD"
      }
    },
    {
      "cell_type": "code",
      "source": [
        "def mediaGeometrica(nums):\n",
        "    produto = math.prod(nums)\n",
        "    return round((produto ** (1 / len(nums))),1)"
      ],
      "metadata": {
        "id": "hZrOmwiKy8Ni"
      },
      "execution_count": 148,
      "outputs": []
    },
    {
      "cell_type": "markdown",
      "source": [
        "###**Exemplo**\n",
        "\n",
        "Observou-se os seguintes valores de uma variável em um experimento:\n",
        "\n",
        "{18, 13, 11, 8, 10, 58, 12}.\n",
        "\n",
        "Qual o valor médio?"
      ],
      "metadata": {
        "id": "SucexOLEy8nq"
      }
    },
    {
      "cell_type": "code",
      "source": [
        "print(mediaGeometrica([18, 13, 11, 8, 10, 58, 12]))"
      ],
      "metadata": {
        "id": "vRW48hR7y9ja",
        "colab": {
          "base_uri": "https://localhost:8080/"
        },
        "outputId": "1fc2ecbb-e9b5-4309-f3e0-b8d8acddef55"
      },
      "execution_count": 149,
      "outputs": [
        {
          "output_type": "stream",
          "name": "stdout",
          "text": [
            "14.6\n"
          ]
        }
      ]
    },
    {
      "cell_type": "markdown",
      "source": [
        "###**Explicação**\n",
        "A média geométrica é um tipo de média utilizada referente a conjuntos de números positivos que são produtos ou que têm taxas de crescimento. Ao contrário da média aritmética e da média ponderada, a média geométrica multiplica todos os valores em um conjunto e calcula a raiz enésima do produto, onde n é o número de valores do conjunto."
      ],
      "metadata": {
        "id": "By7lVt5cZVYe"
      }
    },
    {
      "cell_type": "markdown",
      "source": [
        "##**Média Harmônica**\n",
        "\n",
        "A média harmônica de k números é o recíproco da média aritmética de seus recíprocos.\n",
        "\n",
        "${H} = \\frac{k}{\\sum_{i=1}^k({1}/{x_{i}})} = \\frac{k}{\\frac{1}{x_{1}}+\\frac{1}{x_{2}}+...+\\frac{1}{x_{k}}}$"
      ],
      "metadata": {
        "id": "yBXYueWRZWxv"
      }
    },
    {
      "cell_type": "code",
      "source": [
        "def mediaHarmonica(nums):\n",
        "    sum_inversos = sum(1 / x for x in nums)\n",
        "    return round((len(nums) / sum_inversos),1)"
      ],
      "metadata": {
        "id": "b1IwIVnWspv-"
      },
      "execution_count": 150,
      "outputs": []
    },
    {
      "cell_type": "markdown",
      "source": [
        "###**Exemplo**\n",
        "\n",
        "Se alguém dirige 10km numa estrada a 60km/h e retorna a 30km/h, não terá feito uma média de\n",
        "\n",
        "$\\bar{x}=\\frac{60+30}{2}=45km/h$\n",
        "\n",
        "O Correto é $\\quad H=\\frac{1}{\\frac{\\frac{1}{60}+\\frac{1}{30}}{2}}= \\frac{2}{\\frac{1}{60}+\\frac{1}{30}} = 40km/h$"
      ],
      "metadata": {
        "id": "hUH44H7DDryl"
      }
    },
    {
      "cell_type": "code",
      "source": [
        "print(mediaHarmonica([60, 30]))"
      ],
      "metadata": {
        "colab": {
          "base_uri": "https://localhost:8080/"
        },
        "id": "7yda1e8mFPNF",
        "outputId": "f573338a-765b-4fa2-d43d-2df6990828a2"
      },
      "execution_count": 151,
      "outputs": [
        {
          "output_type": "stream",
          "name": "stdout",
          "text": [
            "40.0\n"
          ]
        }
      ]
    },
    {
      "cell_type": "markdown",
      "source": [
        "###**Exemplo**\n",
        "\n",
        "Considere o conjunto de medidas obtidas em um experimento. Qual o valor médio de MFLOPS?\n",
        "\n",
        "```markdown\n",
        "Tempo de Execução  |     MFLOPS\n",
        "-------------------|------------------\n",
        "       321         |       405\n",
        "       436         |       367\n",
        "       284         |       405\n",
        "       601         |       419\n",
        "       482         |       388\n",
        "```\n",
        "\n"
      ],
      "metadata": {
        "id": "b8_Gh6vHty51"
      }
    },
    {
      "cell_type": "code",
      "source": [
        "print(mediaHarmonica([405, 367, 405, 419, 388]))"
      ],
      "metadata": {
        "id": "4RsOKbRRwQIu",
        "colab": {
          "base_uri": "https://localhost:8080/"
        },
        "outputId": "a8bcab80-a96a-4d84-b7b6-43d99bd4dfd5"
      },
      "execution_count": 152,
      "outputs": [
        {
          "output_type": "stream",
          "name": "stdout",
          "text": [
            "396.0\n"
          ]
        }
      ]
    },
    {
      "cell_type": "markdown",
      "source": [
        "###**Explicação**\n",
        "\n",
        "A média harmônica é utilizada para conjuntos de dados onde os valores são taxas ou razões. Ela definida como a quantidade de elementos do conjunto dividido pela soma dos inversos dos elementos do conjunto.\n",
        "\n",
        "A média harmônica é utlizada referente a situações onde o objetivo é dar maior peso aos valores menores. Ao dar pesos maiores a valores menores, a média harmônica deve ter seu valor menor ou igual à média aritmetica."
      ],
      "metadata": {
        "id": "3OK7zAsRgwk1"
      }
    },
    {
      "cell_type": "markdown",
      "source": [
        "##**Média das Taxas**"
      ],
      "metadata": {
        "id": "qmBlGnkPFhn8"
      }
    },
    {
      "cell_type": "markdown",
      "source": [
        "###**Caso 1**\n",
        "\n",
        "**Caso 1**: Se a soma dos numeradores e a soma dos denominadores possuem um significado físico, a média da taxa é a taxa das médias.\n",
        "\n",
        "$Média(\\frac{a_{1}}{b_{1}},\\frac{a_{2}}{b_{2}},...,\\frac{a_{n}}{b_{n}})=\\frac{\\bar{a}}{\\bar{b}}$"
      ],
      "metadata": {
        "id": "akcbEJ4s9DhU"
      }
    },
    {
      "cell_type": "code",
      "source": [
        "def mediaTaxas(nums1, nums2):\n",
        "  media = mediaAritmetica(nums1) / mediaAritmetica(nums2)\n",
        "  return round(((media)*100),1)"
      ],
      "metadata": {
        "id": "-GoC0Lcw9uCt"
      },
      "execution_count": 153,
      "outputs": []
    },
    {
      "cell_type": "markdown",
      "source": [
        "####**Exemplo**\n",
        "\n",
        "Resultados das medições da taxa de perdas de transmissão:\n",
        "\n",
        "```markdown\n",
        "Duração da medição (s)  |     Taxa de Perda (%)\n",
        "------------------------|-----------------------\n",
        "            100         |          3,0\n",
        "            100         |          5,0\n",
        "            100         |          4,2\n",
        "            100         |          5,2\n",
        "            200         |          8,6\n",
        "```\n",
        "\n",
        "duracao_medicao = [100, 100, 100, 100, 200]\n",
        "\n",
        "taxa_perda = [3.0, 5.0, 4.2, 5.2, 8.6]"
      ],
      "metadata": {
        "id": "j3zDkn119ugV"
      }
    },
    {
      "cell_type": "code",
      "source": [
        "print(mediaTaxas([3.0, 5.0, 4.2, 5.2, 8.6], [100, 100, 100, 100, 200]))"
      ],
      "metadata": {
        "id": "dO6cQNj6-gJ-",
        "colab": {
          "base_uri": "https://localhost:8080/"
        },
        "outputId": "aa5d59e9-23a7-484f-ca46-9a61792e79a4"
      },
      "execution_count": 154,
      "outputs": [
        {
          "output_type": "stream",
          "name": "stdout",
          "text": [
            "4.3\n"
          ]
        }
      ]
    },
    {
      "cell_type": "markdown",
      "source": [
        "####**Exercício**\n",
        "\n",
        "Um homem precisava fazer um reparo e comprou 80m de arame por RS 40,00. Um tempo depois, ele precisou comprar mais 40m e pagou RS 45,00. Posteriormente, comprou mais 12m por RS 50,00. Quanto ele pagou, em média, por cada metro de arame?"
      ],
      "metadata": {
        "id": "_0rG8NoM-gu9"
      }
    },
    {
      "cell_type": "code",
      "source": [
        "print(mediaTaxas([80, 40, 12], [40, 45, 50]))"
      ],
      "metadata": {
        "id": "9r4SdyXD-sjV",
        "colab": {
          "base_uri": "https://localhost:8080/"
        },
        "outputId": "0b19818b-e354-4acb-a8c0-9c115ee1687f"
      },
      "execution_count": 155,
      "outputs": [
        {
          "output_type": "stream",
          "name": "stdout",
          "text": [
            "97.8\n"
          ]
        }
      ]
    },
    {
      "cell_type": "markdown",
      "source": [
        "###**Caso 2**\n",
        "\n",
        "Caso 2: Se o denominador é uma constante e a soma do numerador tem um significado físico, a média aritmética das taxas pode ser utilizada.\n",
        "\n",
        "$Média(\\frac{a_{1}}{b_{1}},\\frac{a_{2}}{b_{2}},...,\\frac{a_{n}}{b_{n}})=\\frac{1}{nb}\\sum_{i=1}^n{a_{i}}$"
      ],
      "metadata": {
        "id": "74Lu8iNK-s0W"
      }
    },
    {
      "cell_type": "code",
      "source": [
        "def mediaTaxasDenominadorConst(nums1, nums2):\n",
        "  return ((sum(nums1) / (len(nums2) * nums2[0]))*100)"
      ],
      "metadata": {
        "id": "lPb_M54-_Lat"
      },
      "execution_count": 156,
      "outputs": []
    },
    {
      "cell_type": "markdown",
      "source": [
        "####**Exemplo**\n",
        "\n",
        "Resultados das medições da taxa de perdas de transmissão:\n",
        "\n",
        "```markdown\n",
        "Duração da medição (s)  |     Taxa de Perda (%)\n",
        "------------------------|-----------------------\n",
        "            100         |          3,0\n",
        "            100         |          5,0\n",
        "            100         |          4,2\n",
        "            100         |          5,2\n",
        "            100         |          8,6\n",
        "```\n",
        "\n",
        "duracao_medicao = [100, 100, 100, 100, 100]\n",
        "\n",
        "taxa_perda = [3.0, 5.0, 4.2, 5.2, 8.6]"
      ],
      "metadata": {
        "id": "M5JS9vgj_M11"
      }
    },
    {
      "cell_type": "code",
      "source": [
        "print(mediaTaxasDenominadorConst([3.0, 5.0, 4.2, 5.2, 8.6], [100, 100, 100, 100, 100]))"
      ],
      "metadata": {
        "id": "3W3qSQT-_zhe",
        "colab": {
          "base_uri": "https://localhost:8080/"
        },
        "outputId": "90766548-763a-45c8-ca7e-9675238ed3ad"
      },
      "execution_count": 157,
      "outputs": [
        {
          "output_type": "stream",
          "name": "stdout",
          "text": [
            "5.2\n"
          ]
        }
      ]
    },
    {
      "cell_type": "markdown",
      "source": [
        "###**Caso 3**\n",
        "\n",
        "**Caso 3**: Se a soma dos denominadores tem um significado físico e os numeradores são constantes, então a média harmônica deve ser usada para o cálculo da média das taxas.\n",
        "\n",
        "\n",
        "$Média(\\frac{a_{1}}{b_{1}},\\frac{a_{2}}{b_{2}},...,\\frac{a_{n}}{b_{n}})=\\frac{n}{\\frac{b_{1}}{a}+\\frac{b_{2}}{a}+...+\\frac{b_{n}}{a}}$"
      ],
      "metadata": {
        "id": "n_c2FgZd_z8H"
      }
    },
    {
      "cell_type": "code",
      "source": [
        "def mediaTaxasNumeradorConst(nums1, nums2):\n",
        "  return len(nums2)/(sum(x for x in nums2/ nums1[0]))"
      ],
      "metadata": {
        "id": "P6B1hd7y_9oG"
      },
      "execution_count": 158,
      "outputs": []
    },
    {
      "cell_type": "code",
      "source": [
        "def mediaTaxas(nums1, nums2):\n",
        "  if (all(num == nums2[0] for num in nums2)): #denomidador const\n",
        "    return sum(nums1) / (len(nums2) * nums2[0])\n",
        "\n",
        "  elif all(num == nums1[0] for num in nums1): #numerador const\n",
        "    return len(nums2) / sum(x / nums1[0] for x in nums2)\n",
        "\n",
        "  else: #diferentes\n",
        "    media = mediaAritmetica(nums1) / mediaAritmetica(nums2)\n",
        "    return (media)"
      ],
      "metadata": {
        "id": "cBRcRBQBOOgW"
      },
      "execution_count": 159,
      "outputs": []
    },
    {
      "cell_type": "code",
      "source": [
        "print(mediaTaxas([3.0, 5.0, 4.2, 5.2, 8.6], [100, 100, 100, 100, 200]))\n",
        "\n",
        "print(mediaTaxas([3.0, 5.0, 4.2, 5.2, 8.6], [100, 100, 100, 100, 100]))\n",
        "\n",
        "print(mediaTaxas([3.0, 3.0, 3.0, 3.0, 3.0], [125, 200, 100, 50, 80]))"
      ],
      "metadata": {
        "colab": {
          "base_uri": "https://localhost:8080/"
        },
        "id": "oSWMwr_0RHrO",
        "outputId": "6dbbfa99-01c6-4874-fe59-a3b1c97c261c"
      },
      "execution_count": 160,
      "outputs": [
        {
          "output_type": "stream",
          "name": "stdout",
          "text": [
            "0.043333333333333335\n",
            "0.052\n",
            "0.02702702702702703\n"
          ]
        }
      ]
    },
    {
      "cell_type": "markdown",
      "source": [
        "##**Explicação**\n",
        "\n",
        "A média de taxas pode ser calculada de 3 maneiras:\n",
        "\n",
        "1. Denominador constante:\n",
        "Quando todos os valores dos denominadores são iguais, a média das taxas pode ser calculada somando os numeradores e dividindo pelo produto do número de vezes que o denominador se repeter e o valor constante do denominador.\n",
        "\n",
        "2. Numerador constante:\n",
        "Quando todos os valores dos numeradores são iguais, a média das taxas é calculada dividindo o número de denominadores pela soma dos denominadores divididos pelo valor constante do numerador.\n",
        "\n",
        "3. Numeradores e denominadores distintos:\n",
        "Quando os dois valores são distintos, a média das taxas é a razão entre a média aritmética dos numeradores e a média aritmética dos denominadores."
      ],
      "metadata": {
        "id": "1XeL0uPDg7U-"
      }
    },
    {
      "cell_type": "markdown",
      "source": [
        "##**Mediana**\n",
        "\n",
        "* Valor do elemento central de uma amostra de tamanho n.\n",
        "    * Se n é ímpar: elemento central.\n",
        "    * Se n é par: média aritmética dos dois valores centrais.\n",
        "* Usada quando se quer evitar enganos devido a alguns valores muito\n",
        "pequenos ou muito grandes."
      ],
      "metadata": {
        "id": "TfhVGMhOAj18"
      }
    },
    {
      "cell_type": "code",
      "source": [
        "def mediana(nums):\n",
        "  nums_ordenado = sorted(nums)\n",
        "  x = len(nums)\n",
        "  if (len(nums_ordenado) % 2 == 0):\n",
        "    return (nums_ordenado[x//2 - 1] + nums_ordenado[x //2]) / 2\n",
        "  else:\n",
        "    return nums_ordenado[x//2]"
      ],
      "metadata": {
        "id": "OCmk71k1BkUP"
      },
      "execution_count": 161,
      "outputs": []
    },
    {
      "cell_type": "markdown",
      "source": [
        "###**Exemplo**\n",
        "\n",
        "Olhando o número de contatos no Facebook de alguns amigos encontrou-se:\n",
        "108, 103, 252, 121, 93, 57, 40, 53, 22, 116, 98."
      ],
      "metadata": {
        "id": "XTJOt6MpBkrL"
      }
    },
    {
      "cell_type": "code",
      "source": [
        "print(mediana([108, 103, 252, 121, 93, 57, 40, 53, 22, 116, 98]))"
      ],
      "metadata": {
        "id": "u_-WNaAKBt6s",
        "colab": {
          "base_uri": "https://localhost:8080/"
        },
        "outputId": "f73135ef-79e7-453e-ce14-cc90fd90ba8c"
      },
      "execution_count": 162,
      "outputs": [
        {
          "output_type": "stream",
          "name": "stdout",
          "text": [
            "98\n"
          ]
        }
      ]
    },
    {
      "cell_type": "markdown",
      "source": [
        "##**Explicação**\n",
        "A mediana é útil em conjuntos de dados com outliers já que não é tão afetada por valores extremos que possam influenciar seu resultado como a média.\n",
        "\n"
      ],
      "metadata": {
        "id": "QF78IvuOg-5V"
      }
    },
    {
      "cell_type": "markdown",
      "source": [
        "##**Moda**\n",
        "\n",
        "* Valor que ocorre com mais frequência, mais de uma vez na amostra.\n",
        "  * Não exige cálculo algum, apenas uma contagem.\n",
        "  * Pode ser determinada tanto para dados numéricos como para dados categóricos.\n",
        "  * Não é afetada por valores extremos.\n",
        "* Porém, pode mudar drasticamente de uma amostra para outra e pode aparecer mais de um valor."
      ],
      "metadata": {
        "id": "InfHvhk0Cy_U"
      }
    },
    {
      "cell_type": "code",
      "source": [
        "def moda(nums):\n",
        "    if isinstance(nums, pd.Series):\n",
        "        nums = nums.tolist()\n",
        "    return max(set(nums), key=nums.count)"
      ],
      "metadata": {
        "id": "JxDrEoAIC9kM"
      },
      "execution_count": 163,
      "outputs": []
    },
    {
      "cell_type": "markdown",
      "source": [
        "###**Exemplo**\n",
        "\n",
        "Em um experimento de medição, observou-se os seguintes valores de uma variável de interesse. Qual o valor modal?\n",
        "\n",
        "                    3 4 4 5 5 6 7 8 9 9 9 10 11 12 12 13\n"
      ],
      "metadata": {
        "id": "C8qZ2CvKC_bs"
      }
    },
    {
      "cell_type": "code",
      "source": [
        "print(moda([3,4,4,5,5,6,8,9,9,9,10,11,12,12,13]))"
      ],
      "metadata": {
        "id": "Ovd9mC25DE8O",
        "outputId": "2f3cef87-5eef-4168-c028-2ed807835a6c",
        "colab": {
          "base_uri": "https://localhost:8080/"
        }
      },
      "execution_count": 164,
      "outputs": [
        {
          "output_type": "stream",
          "name": "stdout",
          "text": [
            "9\n"
          ]
        }
      ]
    },
    {
      "cell_type": "markdown",
      "source": [
        "###**Explicação**\n",
        "\n",
        "Identifica o valor mais frequentes em um conjunto de dados. Um conjunto pode ter nenhuma moda, ser unimodal, bimodal ou multimodal.\n",
        "\n",
        "No exemplo acima, o conjunto é unimodal com valor 9."
      ],
      "metadata": {
        "id": "LM_DaOf3hCs-"
      }
    },
    {
      "cell_type": "markdown",
      "source": [
        "--------------------------------------------------------------------------------"
      ],
      "metadata": {
        "id": "oEY0UzSZ0Pix"
      }
    },
    {
      "cell_type": "markdown",
      "source": [
        "#**Medidas de Dispersão**"
      ],
      "metadata": {
        "id": "6yvSt1L1GYtn"
      }
    },
    {
      "cell_type": "markdown",
      "source": [
        "##**Amplitude**\n",
        "\n",
        "Representa a diferença entre o maior e o menor valor observado em um conjunto de dados. É uma medida simples e intuitiva de variabilidade. Quanto maior a amplitude, maior a variabilidade.\n",
        "\n"
      ],
      "metadata": {
        "id": "pqGNitLfBnkw"
      }
    },
    {
      "cell_type": "code",
      "source": [
        "def amplitude(nums):\n",
        " nums_ordenado=sorted(nums)\n",
        " return nums_ordenado[len(nums)-1] - nums_ordenado[0]"
      ],
      "metadata": {
        "id": "hZqeeLbhBzJI"
      },
      "execution_count": 165,
      "outputs": []
    },
    {
      "cell_type": "markdown",
      "source": [
        "###**Exemplo**\n",
        "\n",
        "    2, 2, 3, 5, 5, 7, 8"
      ],
      "metadata": {
        "id": "xux1Aq4xLfT9"
      }
    },
    {
      "cell_type": "code",
      "source": [
        "print(amplitude([2, 2, 3, 5, 5, 7 ,8]))"
      ],
      "metadata": {
        "colab": {
          "base_uri": "https://localhost:8080/"
        },
        "id": "8VRtoDoRLv7c",
        "outputId": "e59722b3-318f-43b4-f5d9-b47a3a435ab0"
      },
      "execution_count": 166,
      "outputs": [
        {
          "output_type": "stream",
          "name": "stdout",
          "text": [
            "6\n"
          ]
        }
      ]
    },
    {
      "cell_type": "markdown",
      "source": [
        "###**Exercício**\n",
        "\n",
        "Calcular a amplitude das amostras dos grupos Y, Z, W e V.\n",
        "\n",
        "Grupo X: 3, 4, 5, 6, 7\n",
        "\n",
        "Grupo Y: 1, 3, 5, 7, 9\n",
        "\n",
        "Grupo Z: 5, 5, 5, 5, 5\n",
        "\n",
        "Grupo W: 3, 5, 5, 5, 7\n",
        "\n",
        "Grupo V: 3, 5, 5, 6, 6"
      ],
      "metadata": {
        "id": "h96qWSueCWdP"
      }
    },
    {
      "cell_type": "code",
      "source": [
        "print(amplitude([2, 2, 3, 5, 5, 7, 8]))\n",
        "print(amplitude([3, 4, 5, 6, 7]))\n",
        "print(amplitude([1, 3, 5, 7, 9]))\n",
        "print(amplitude([5, 5, 5, 5, 5]))\n",
        "print(amplitude([3, 5, 5, 5, 7]))\n",
        "print(amplitude([3, 5, 5, 6, 6]))"
      ],
      "metadata": {
        "id": "GbXyULszCeJH",
        "colab": {
          "base_uri": "https://localhost:8080/"
        },
        "outputId": "bfa57b36-757a-42b7-f40f-0244d9cb690f"
      },
      "execution_count": 167,
      "outputs": [
        {
          "output_type": "stream",
          "name": "stdout",
          "text": [
            "6\n",
            "4\n",
            "8\n",
            "0\n",
            "4\n",
            "3\n"
          ]
        }
      ]
    },
    {
      "cell_type": "markdown",
      "source": [
        "###**Exercício**\n",
        "\n",
        "Um aplicativo foi desenvolvido para registrar o tempo T que o celular de um usuário está próximo do celular de outro usuário. Valores da duração de alguns desses contatos (em segundos):\n",
        "\n",
        "                            23,17,18,32,19,27,22,16,24,29\n",
        "\n",
        "Calcule a amplitude dessa amostra."
      ],
      "metadata": {
        "id": "xDZrQevrPtUC"
      }
    },
    {
      "cell_type": "code",
      "source": [
        "print(amplitude([23,17,18,32,19,27,22,16,24,29]))"
      ],
      "metadata": {
        "colab": {
          "base_uri": "https://localhost:8080/"
        },
        "id": "xX8-GTw7Z58Z",
        "outputId": "baefc968-0f98-40a7-b094-897eb891e75d"
      },
      "execution_count": 168,
      "outputs": [
        {
          "output_type": "stream",
          "name": "stdout",
          "text": [
            "16\n"
          ]
        }
      ]
    },
    {
      "cell_type": "markdown",
      "source": [
        "###**Exercício**\n",
        "\n",
        "Suponha que dois usuários não se viam há muito tempo e o aplicativo registrou 1200 segundos de duração do contato. A amostra ficou assim:\n",
        "\n",
        "                23,17, 18, 32, 19, 27, 22, 16, 24, 1200\n",
        "\n",
        "\n",
        "Calcule a amplitude dessa amostra.\n",
        "\n",
        "O que podemos dizer sobre essa segunda amostra?\n",
        "\n"
      ],
      "metadata": {
        "id": "W4M7Wh1Oa9p7"
      }
    },
    {
      "cell_type": "code",
      "source": [
        "print(amplitude([23,17, 18, 32, 19, 27, 22, 16, 24, 1200]))"
      ],
      "metadata": {
        "id": "MKRYhTWJbMUx",
        "colab": {
          "base_uri": "https://localhost:8080/"
        },
        "outputId": "4fcf7212-abfa-4701-d12e-4340c9118850"
      },
      "execution_count": 169,
      "outputs": [
        {
          "output_type": "stream",
          "name": "stdout",
          "text": [
            "1184\n"
          ]
        }
      ]
    },
    {
      "cell_type": "markdown",
      "source": [
        "##**Explicação**\n",
        "Por ter um valor extremo, a amplitude foi muito mais afetada em relação aos outros conjuntos de dados.\n",
        "\n",
        "Dessa forma, podemos confirmar que quanto maior a amplitude maior a variabilidade de um conjunto de dados."
      ],
      "metadata": {
        "id": "KHda_f-ZywYi"
      }
    },
    {
      "cell_type": "markdown",
      "source": [
        "##**Explicação**\n",
        "\n",
        "A amplitude é uma medida que calcula a diferença entre o maior e o menor valor em um conjunto. É simples e permite calcular a extensão do intervalo em que os dados estão distribuídos."
      ],
      "metadata": {
        "id": "v_LcqBN9hGw9"
      }
    },
    {
      "cell_type": "markdown",
      "source": [
        "##**Desvio-Padrão**\n",
        "\n",
        "* Seja $\\{x_{1}, x_{2},...,x_{n}\\}$ uma amostra de observações obtidas em um experimento de medição.\n",
        "* Média Amostral: $\\bar{x} = \\frac{1}{n} \\sum_{i=1}^n x_{i}$\n",
        "\n",
        "* Variância amostral: ${s^2} = \\frac{1}{n-1} \\sum_{i=1}^n (x_{i}-\\bar{x})^2$\n",
        "\n",
        "* Desvio padrão: $s = \\sqrt[n]{\\frac{1}{n-1}\\sum_{i=1}^n(x_{i} - \\bar{x})^2}$"
      ],
      "metadata": {
        "id": "yL0Kk4h0DrCd"
      }
    },
    {
      "cell_type": "code",
      "source": [
        "def mediaAmostral(nums):\n",
        "  return mediaAritmetica(nums)\n",
        "\n",
        "def var_amostral(nums):\n",
        "  med = mediaAritmetica(nums)\n",
        "  quad = np.sum(np.fromiter(((x - med) * (x - med) for x in nums), dtype=float))\n",
        "  var = quad / len(nums)\n",
        "  return round(var)\n",
        "\n",
        "def desvio_padrao(nums):\n",
        "  return round(math.sqrt(var_amostral(nums)))"
      ],
      "metadata": {
        "id": "PuMNOCnQD96e"
      },
      "execution_count": 170,
      "outputs": []
    },
    {
      "cell_type": "markdown",
      "source": [
        "###**Exercício**\n",
        "\n",
        "O analista de redes de uma empresa coletou uma amostra do tempo (em segundos) de acesso a uma página web que alguns usuários observaram em dois dias consecutivos. As observações do primeiro dia foram {45, 74, 56, 98, 32, 97} e as do segundo dia foram {48, 81, 33, 40, 84}. Ache a variância amostral e o desvio-padrão de cada amostra. Faça uma análise comparativa."
      ],
      "metadata": {
        "id": "ZFoSs9IDbRCh"
      }
    },
    {
      "cell_type": "code",
      "source": [
        "nums1 = [45, 74, 56, 98, 32, 97]\n",
        "nums2 = [48, 81, 33, 40, 84]\n",
        "\n",
        "print(var_amostral(nums1))\n",
        "print(desvio_padrao(nums1))\n",
        "\n",
        "print(var_amostral(nums2))\n",
        "print(desvio_padrao(nums2))"
      ],
      "metadata": {
        "id": "kT_9EOLlbej5",
        "colab": {
          "base_uri": "https://localhost:8080/"
        },
        "outputId": "c5919580-9de2-4e58-f9f7-948048d3f4f7"
      },
      "execution_count": 171,
      "outputs": [
        {
          "output_type": "stream",
          "name": "stdout",
          "text": [
            "623\n",
            "25\n",
            "450\n",
            "21\n"
          ]
        }
      ]
    },
    {
      "cell_type": "markdown",
      "source": [
        "##**Explicação**\n",
        "\n",
        "O desvio padrão mostra quanto os valores se afastam da média. Quanto maior o desvio padrão, maior a dispersão dos dados de um conjuntos.\n",
        "\n",
        "No exemplo acima podemos observar que a amostra 1 tem um desvio padrão maior (25) do que a amostra 2 (21). Isso mostra que os valores da amostra 1 estão mais dispersos em relação a média do que os valores da amostra 2."
      ],
      "metadata": {
        "id": "jfpA7Tg_hJ2m"
      }
    },
    {
      "cell_type": "markdown",
      "source": [
        "##**Coeficiente de Variação**\n",
        "\n",
        "$CV = \\frac{s}{x}*100, (0 \\leq CV \\leq \\sqrt[]{n-1})$\n",
        "\n",
        "* Compara o grau de variação de duas ou mais amostras, mesmo que as médias sejam bastante diferentes.\n",
        "* Usado para conhecer a consistência dos dados, isto é, a uniformidade nos valores. Uma amostra com menor CV é considerada mais consistente do que outra.\n",
        "* Na prática, considera-se que CV > 50% indica alto grau de dispersão e, por consequência, baixa representatividade da média. Por outro lado, quanto menor CV, mais representativa é a média."
      ],
      "metadata": {
        "id": "-PU2Hyw1zCQx"
      }
    },
    {
      "cell_type": "code",
      "source": [
        "def coeficienteVariacao(nums):\n",
        "  return round(((desvio_padrao(nums) / mediaAritmetica(nums)) * 100),3)"
      ],
      "metadata": {
        "id": "YLkqzKeZ5zrM"
      },
      "execution_count": 172,
      "outputs": []
    },
    {
      "cell_type": "markdown",
      "source": [
        "###**Exercício**\n",
        "\n",
        "Um psicultor mediu o tamanho de alguns peixes a fim de monitorar a condição ideal para o consumo. A amostra apresentou os seguintes valores em cm: 76,102, 12,39,55,93,98,53,102. Verifique se o tamanho médio é representativo."
      ],
      "metadata": {
        "id": "I4_mdxRzbgfp"
      }
    },
    {
      "cell_type": "code",
      "source": [
        "print(coeficienteVariacao([76,102,12,39,55,93,98,53,102]))"
      ],
      "metadata": {
        "id": "D7YD2rN2bnFL",
        "colab": {
          "base_uri": "https://localhost:8080/"
        },
        "outputId": "77db9103-9b41-4fea-c41f-b01f58a460ba"
      },
      "execution_count": 173,
      "outputs": [
        {
          "output_type": "stream",
          "name": "stdout",
          "text": [
            "42.857\n"
          ]
        }
      ]
    },
    {
      "cell_type": "markdown",
      "source": [
        "###**Explicação**\n",
        "\n",
        " Quanto menor o coeficiente de variação mais homogêneos são os valores em relação a média. Já um valor maior indica mais dispersão em relação a media.\n",
        "\n",
        " No exemplo acima, o coeficiente de variação de 42.857% sugere que o tamanho médio pode não ser muito representativo já que os dados variam consideravelmente em relação a média."
      ],
      "metadata": {
        "id": "3rXU4QT-hM7W"
      }
    },
    {
      "cell_type": "markdown",
      "source": [
        "##**Quartis**\n",
        "\n",
        "* Em alguns casos, tanto a média como o desvio padrão podem não ser adequados para representar um conjunto de dados.\n",
        "  * São afetados por valores atípicos.\n",
        "* Apenas com estes dois valores não temos ideia da (as)simetria da distribuição dos dados.\n",
        "* Quartis são valores que dividem uma amostra de dados em quatro partes iguais.\n",
        "* Com eles você pode rapidamente avaliar a dispersão e a tendência central de um conjunto de dados."
      ],
      "metadata": {
        "id": "7lYAHx7abo4q"
      }
    },
    {
      "cell_type": "code",
      "source": [
        "def quartis(nums):\n",
        "    ords = sorted(nums)\n",
        "\n",
        "    q1a = int(len(nums)* 0.25)\n",
        "    q2a = int(len(nums) * 0.5)\n",
        "    q3a = int(len(nums)* 0.75)\n",
        "\n",
        "    q1 = ords[q1a]\n",
        "    q2 = ords[q2a]\n",
        "    q3 = ords[q3a]\n",
        "\n",
        "    return q1, q2, q3"
      ],
      "metadata": {
        "id": "zfY8zzzWh7g-"
      },
      "execution_count": 174,
      "outputs": []
    },
    {
      "cell_type": "markdown",
      "source": [
        "###**Exemplo**\n",
        "\n",
        "      16 46 88 11 44 91 53 71 25"
      ],
      "metadata": {
        "id": "TjtjXrjSXlDC"
      }
    },
    {
      "cell_type": "code",
      "source": [
        "print(quartis([16,46,88,11,44,91,53,71,25]))"
      ],
      "metadata": {
        "id": "K89sr6aWXlYr",
        "outputId": "5acaa795-22e1-433d-e5f5-80272a4413f1",
        "colab": {
          "base_uri": "https://localhost:8080/"
        }
      },
      "execution_count": 175,
      "outputs": [
        {
          "output_type": "stream",
          "name": "stdout",
          "text": [
            "(25, 46, 71)\n"
          ]
        }
      ]
    },
    {
      "cell_type": "markdown",
      "source": [
        "###**Explicação**\n",
        "\n",
        "Os quartis fornecem a distribuição dos dados generalizada, permitindo identificar onde estão concentradas as maiores proporções dos valores. Permitem analisar a variabilidade em conjuntos de dados grandes ou com valores extremos."
      ],
      "metadata": {
        "id": "yhQ-2yxLHDbc"
      }
    },
    {
      "cell_type": "markdown",
      "source": [
        "##**Amplitude Interquartil**\n",
        "\n",
        "* A amplitude tem a grande desvantagem de ser muito sensível à existência, na amostra, de uma observação muito grande ou muito pequena.\n",
        "* A amplitude interquartil é uma medida de dispersão resistente a valores atípicos.\n",
        "* Definição: $AIQ = Q3 – Q1$."
      ],
      "metadata": {
        "id": "6D0QFF-hhbjJ"
      }
    },
    {
      "cell_type": "code",
      "source": [
        "def amplitude_interquatil(nums):\n",
        "  q1,q2,q3 = quartis(nums)\n",
        "\n",
        "  return q3-q1"
      ],
      "metadata": {
        "id": "YK58x6rPhq_h"
      },
      "execution_count": 176,
      "outputs": []
    },
    {
      "cell_type": "markdown",
      "source": [
        "###**Exemplo**\n",
        "\n",
        "        16 46 88 11 44 91 53 71 25"
      ],
      "metadata": {
        "id": "GZsxJwTshrlY"
      }
    },
    {
      "cell_type": "code",
      "source": [
        "print(amplitude_interquatil([16,46,88,11,44,91,53,71,25]))"
      ],
      "metadata": {
        "id": "JDf1Dxpthz0w",
        "outputId": "7fd01a3c-3008-41bd-89c8-973197623b91",
        "colab": {
          "base_uri": "https://localhost:8080/"
        }
      },
      "execution_count": 177,
      "outputs": [
        {
          "output_type": "stream",
          "name": "stdout",
          "text": [
            "46\n"
          ]
        }
      ]
    },
    {
      "cell_type": "markdown",
      "source": [
        "##**Explicação**\n",
        "\n",
        "A amplitude interquartil é a aplicação da amplitude entre o terceiro quartil Q3 e o primeiro quartil Q1 de um conjunto de dados ordenados."
      ],
      "metadata": {
        "id": "6ZjfsDsQHQ-k"
      }
    },
    {
      "cell_type": "markdown",
      "source": [
        "##**Diagrama em Caixa**\n",
        "\n",
        "Resumo gráfico, compacto que transmite informação sobre tendência\n",
        "central, simetria, assimetria, variabilidade e valores atípicos (outliers)\n",
        "\n",
        "![image.png](data:image/png;base64,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)"
      ],
      "metadata": {
        "id": "grUMTw08Ha09"
      }
    },
    {
      "cell_type": "markdown",
      "source": [
        "###**Exemplo**"
      ],
      "metadata": {
        "id": "F9wy4o0gHgJE"
      }
    },
    {
      "cell_type": "code",
      "source": [
        "nums = [16,46,88,11,44,91,53,71,25]\n",
        "\n",
        "plt.boxplot(nums)\n",
        "plt.title(\"BoxPlot\")\n",
        "plt.ylabel(\"y\")\n",
        "plt.xlabel(\"x\")\n",
        "plt.show()"
      ],
      "metadata": {
        "colab": {
          "base_uri": "https://localhost:8080/",
          "height": 472
        },
        "id": "PSK9FNSFHi-7",
        "outputId": "ad84b396-c404-47c0-bbb9-484c56b366e9"
      },
      "execution_count": 178,
      "outputs": [
        {
          "output_type": "display_data",
          "data": {
            "text/plain": [
              "<Figure size 640x480 with 1 Axes>"
            ],
            "image/png": "[encoded data removed]"
          },
          "metadata": {}
        }
      ]
    },
    {
      "cell_type": "markdown",
      "source": [
        "###**Explicação**\n",
        "\n",
        "- A linha no centro da caixa representa a mediana\n",
        "- A caixa se estende do primeiro quartil Q1 em aproximadamente 25 até o terceiro quartil Q3 de 71.\n",
        "- Não há valores extremos representados no conjunto."
      ],
      "metadata": {
        "id": "AzTNvQELHjpb"
      }
    },
    {
      "cell_type": "markdown",
      "source": [
        "#**Exercício**\n",
        "\n",
        "O seguinte dataset contém dados sobre os Vingadores da Marvel\n",
        "\n",
        "https://github.com/fivethirtyeight/data/tree/master/avengers\n",
        "\n",
        "Selecione os dados da coluna sobre as aparições e encontre as estatísticas estudadas até aqui."
      ],
      "metadata": {
        "id": "r6xIHtHPcD2y"
      }
    },
    {
      "cell_type": "code",
      "source": [
        "df = pd.read_csv(\"/content/avengers.csv\", encoding=\"latin1\")\n",
        "df_aparicoes = df[['Name/Alias', 'Appearances']]\n",
        "df_aparicoes"
      ],
      "metadata": {
        "id": "6FlawLt8ccGr",
        "colab": {
          "base_uri": "https://localhost:8080/",
          "height": 424
        },
        "outputId": "6e4f8229-a878-4c85-9dc1-762ed32eebed"
      },
      "execution_count": 179,
      "outputs": [
        {
          "output_type": "execute_result",
          "data": {
            "text/plain": [
              "                      Name/Alias  Appearances\n",
              "0      Henry Jonathan \"Hank\" Pym         1269\n",
              "1                 Janet van Dyne         1165\n",
              "2    Anthony Edward \"Tony\" Stark         3068\n",
              "3            Robert Bruce Banner         2089\n",
              "4                   Thor Odinson         2402\n",
              "..                           ...          ...\n",
              "168                  Eric Brooks          198\n",
              "169                Adam Brashear           29\n",
              "170               Victor Alvarez           45\n",
              "171                    Ava Ayala           49\n",
              "172                        Kaluu           35\n",
              "\n",
              "[173 rows x 2 columns]"
            ],
            "text/html": [
              "\n",
              "  <div id=\"df-bcd02913-ae1f-4ffa-b3d8-ba488daa37cb\" class=\"colab-df-container\">\n",
              "    <div>\n",
              "<style scoped>\n",
              "    .dataframe tbody tr th:only-of-type {\n",
              "        vertical-align: middle;\n",
              "    }\n",
              "\n",
              "    .dataframe tbody tr th {\n",
              "        vertical-align: top;\n",
              "    }\n",
              "\n",
              "    .dataframe thead th {\n",
              "        text-align: right;\n",
              "    }\n",
              "</style>\n",
              "<table border=\"1\" class=\"dataframe\">\n",
              "  <thead>\n",
              "    <tr style=\"text-align: right;\">\n",
              "      <th></th>\n",
              "      <th>Name/Alias</th>\n",
              "      <th>Appearances</th>\n",
              "    </tr>\n",
              "  </thead>\n",
              "  <tbody>\n",
              "    <tr>\n",
              "      <th>0</th>\n",
              "      <td>Henry Jonathan \"Hank\" Pym</td>\n",
              "      <td>1269</td>\n",
              "    </tr>\n",
              "    <tr>\n",
              "      <th>1</th>\n",
              "      <td>Janet van Dyne</td>\n",
              "      <td>1165</td>\n",
              "    </tr>\n",
              "    <tr>\n",
              "      <th>2</th>\n",
              "      <td>Anthony Edward \"Tony\" Stark</td>\n",
              "      <td>3068</td>\n",
              "    </tr>\n",
              "    <tr>\n",
              "      <th>3</th>\n",
              "      <td>Robert Bruce Banner</td>\n",
              "      <td>2089</td>\n",
              "    </tr>\n",
              "    <tr>\n",
              "      <th>4</th>\n",
              "      <td>Thor Odinson</td>\n",
              "      <td>2402</td>\n",
              "    </tr>\n",
              "    <tr>\n",
              "      <th>...</th>\n",
              "      <td>...</td>\n",
              "      <td>...</td>\n",
              "    </tr>\n",
              "    <tr>\n",
              "      <th>168</th>\n",
              "      <td>Eric Brooks</td>\n",
              "      <td>198</td>\n",
              "    </tr>\n",
              "    <tr>\n",
              "      <th>169</th>\n",
              "      <td>Adam Brashear</td>\n",
              "      <td>29</td>\n",
              "    </tr>\n",
              "    <tr>\n",
              "      <th>170</th>\n",
              "      <td>Victor Alvarez</td>\n",
              "      <td>45</td>\n",
              "    </tr>\n",
              "    <tr>\n",
              "      <th>171</th>\n",
              "      <td>Ava Ayala</td>\n",
              "      <td>49</td>\n",
              "    </tr>\n",
              "    <tr>\n",
              "      <th>172</th>\n",
              "      <td>Kaluu</td>\n",
              "      <td>35</td>\n",
              "    </tr>\n",
              "  </tbody>\n",
              "</table>\n",
              "<p>173 rows × 2 columns</p>\n",
              "</div>\n",
              "    <div class=\"colab-df-buttons\">\n",
              "\n",
              "  <div class=\"colab-df-container\">\n",
              "    <button class=\"colab-df-convert\" onclick=\"convertToInteractive('df-bcd02913-ae1f-4ffa-b3d8-ba488daa37cb')\"\n",
              "            title=\"Convert this dataframe to an interactive table.\"\n",
              "            style=\"display:none;\">\n",
              "\n",
              "  <svg xmlns=\"http://www.w3.org/2000/svg\" height=\"24px\" viewBox=\"0 -960 960 960\">\n",
              "    <path d=\"M120-120v-720h720v720H120Zm60-500h600v-160H180v160Zm220 220h160v-160H400v160Zm0 220h160v-160H400v160ZM180-400h160v-160H180v160Zm440 0h160v-160H620v160ZM180-180h160v-160H180v160Zm440 0h160v-160H620v160Z\"/>\n",
              "  </svg>\n",
              "    </button>\n",
              "\n",
              "  <style>\n",
              "    .colab-df-container {\n",
              "      display:flex;\n",
              "      gap: 12px;\n",
              "    }\n",
              "\n",
              "    .colab-df-convert {\n",
              "      background-color: #E8F0FE;\n",
              "      border: none;\n",
              "      border-radius: 50%;\n",
              "      cursor: pointer;\n",
              "      display: none;\n",
              "      fill: #1967D2;\n",
              "      height: 32px;\n",
              "      padding: 0 0 0 0;\n",
              "      width: 32px;\n",
              "    }\n",
              "\n",
              "    .colab-df-convert:hover {\n",
              "      background-color: #E2EBFA;\n",
              "      box-shadow: 0px 1px 2px rgba(60, 64, 67, 0.3), 0px 1px 3px 1px rgba(60, 64, 67, 0.15);\n",
              "      fill: #174EA6;\n",
              "    }\n",
              "\n",
              "    .colab-df-buttons div {\n",
              "      margin-bottom: 4px;\n",
              "    }\n",
              "\n",
              "    [theme=dark] .colab-df-convert {\n",
              "      background-color: #3B4455;\n",
              "      fill: #D2E3FC;\n",
              "    }\n",
              "\n",
              "    [theme=dark] .colab-df-convert:hover {\n",
              "      background-color: #434B5C;\n",
              "      box-shadow: 0px 1px 3px 1px rgba(0, 0, 0, 0.15);\n",
              "      filter: drop-shadow(0px 1px 2px rgba(0, 0, 0, 0.3));\n",
              "      fill: #FFFFFF;\n",
              "    }\n",
              "  </style>\n",
              "\n",
              "    <script>\n",
              "      const buttonEl =\n",
              "        document.querySelector('#df-bcd02913-ae1f-4ffa-b3d8-ba488daa37cb button.colab-df-convert');\n",
              "      buttonEl.style.display =\n",
              "        google.colab.kernel.accessAllowed ? 'block' : 'none';\n",
              "\n",
              "      async function convertToInteractive(key) {\n",
              "        const element = document.querySelector('#df-bcd02913-ae1f-4ffa-b3d8-ba488daa37cb');\n",
              "        const dataTable =\n",
              "          await google.colab.kernel.invokeFunction('convertToInteractive',\n",
              "                                                    [key], {});\n",
              "        if (!dataTable) return;\n",
              "\n",
              "        const docLinkHtml = 'Like what you see? Visit the ' +\n",
              "          '<a target=\"_blank\" href=https://colab.research.google.com/notebooks/data_table.ipynb>data table notebook</a>'\n",
              "          + ' to learn more about interactive tables.';\n",
              "        element.innerHTML = '';\n",
              "        dataTable['output_type'] = 'display_data';\n",
              "        await google.colab.output.renderOutput(dataTable, element);\n",
              "        const docLink = document.createElement('div');\n",
              "        docLink.innerHTML = docLinkHtml;\n",
              "        element.appendChild(docLink);\n",
              "      }\n",
              "    </script>\n",
              "  </div>\n",
              "\n",
              "\n",
              "<div id=\"df-7f9a0f85-4160-45aa-ac44-8936859f8dad\">\n",
              "  <button class=\"colab-df-quickchart\" onclick=\"quickchart('df-7f9a0f85-4160-45aa-ac44-8936859f8dad')\"\n",
              "            title=\"Suggest charts\"\n",
              "            style=\"display:none;\">\n",
              "\n",
              "<svg xmlns=\"http://www.w3.org/2000/svg\" height=\"24px\"viewBox=\"0 0 24 24\"\n",
              "     width=\"24px\">\n",
              "    <g>\n",
              "        <path d=\"M19 3H5c-1.1 0-2 .9-2 2v14c0 1.1.9 2 2 2h14c1.1 0 2-.9 2-2V5c0-1.1-.9-2-2-2zM9 17H7v-7h2v7zm4 0h-2V7h2v10zm4 0h-2v-4h2v4z\"/>\n",
              "    </g>\n",
              "</svg>\n",
              "  </button>\n",
              "\n",
              "<style>\n",
              "  .colab-df-quickchart {\n",
              "      --bg-color: #E8F0FE;\n",
              "      --fill-color: #1967D2;\n",
              "      --hover-bg-color: #E2EBFA;\n",
              "      --hover-fill-color: #174EA6;\n",
              "      --disabled-fill-color: #AAA;\n",
              "      --disabled-bg-color: #DDD;\n",
              "  }\n",
              "\n",
              "  [theme=dark] .colab-df-quickchart {\n",
              "      --bg-color: #3B4455;\n",
              "      --fill-color: #D2E3FC;\n",
              "      --hover-bg-color: #434B5C;\n",
              "      --hover-fill-color: #FFFFFF;\n",
              "      --disabled-bg-color: #3B4455;\n",
              "      --disabled-fill-color: #666;\n",
              "  }\n",
              "\n",
              "  .colab-df-quickchart {\n",
              "    background-color: var(--bg-color);\n",
              "    border: none;\n",
              "    border-radius: 50%;\n",
              "    cursor: pointer;\n",
              "    display: none;\n",
              "    fill: var(--fill-color);\n",
              "    height: 32px;\n",
              "    padding: 0;\n",
              "    width: 32px;\n",
              "  }\n",
              "\n",
              "  .colab-df-quickchart:hover {\n",
              "    background-color: var(--hover-bg-color);\n",
              "    box-shadow: 0 1px 2px rgba(60, 64, 67, 0.3), 0 1px 3px 1px rgba(60, 64, 67, 0.15);\n",
              "    fill: var(--button-hover-fill-color);\n",
              "  }\n",
              "\n",
              "  .colab-df-quickchart-complete:disabled,\n",
              "  .colab-df-quickchart-complete:disabled:hover {\n",
              "    background-color: var(--disabled-bg-color);\n",
              "    fill: var(--disabled-fill-color);\n",
              "    box-shadow: none;\n",
              "  }\n",
              "\n",
              "  .colab-df-spinner {\n",
              "    border: 2px solid var(--fill-color);\n",
              "    border-color: transparent;\n",
              "    border-bottom-color: var(--fill-color);\n",
              "    animation:\n",
              "      spin 1s steps(1) infinite;\n",
              "  }\n",
              "\n",
              "  @keyframes spin {\n",
              "    0% {\n",
              "      border-color: transparent;\n",
              "      border-bottom-color: var(--fill-color);\n",
              "      border-left-color: var(--fill-color);\n",
              "    }\n",
              "    20% {\n",
              "      border-color: transparent;\n",
              "      border-left-color: var(--fill-color);\n",
              "      border-top-color: var(--fill-color);\n",
              "    }\n",
              "    30% {\n",
              "      border-color: transparent;\n",
              "      border-left-color: var(--fill-color);\n",
              "      border-top-color: var(--fill-color);\n",
              "      border-right-color: var(--fill-color);\n",
              "    }\n",
              "    40% {\n",
              "      border-color: transparent;\n",
              "      border-right-color: var(--fill-color);\n",
              "      border-top-color: var(--fill-color);\n",
              "    }\n",
              "    60% {\n",
              "      border-color: transparent;\n",
              "      border-right-color: var(--fill-color);\n",
              "    }\n",
              "    80% {\n",
              "      border-color: transparent;\n",
              "      border-right-color: var(--fill-color);\n",
              "      border-bottom-color: var(--fill-color);\n",
              "    }\n",
              "    90% {\n",
              "      border-color: transparent;\n",
              "      border-bottom-color: var(--fill-color);\n",
              "    }\n",
              "  }\n",
              "</style>\n",
              "\n",
              "  <script>\n",
              "    async function quickchart(key) {\n",
              "      const quickchartButtonEl =\n",
              "        document.querySelector('#' + key + ' button');\n",
              "      quickchartButtonEl.disabled = true;  // To prevent multiple clicks.\n",
              "      quickchartButtonEl.classList.add('colab-df-spinner');\n",
              "      try {\n",
              "        const charts = await google.colab.kernel.invokeFunction(\n",
              "            'suggestCharts', [key], {});\n",
              "      } catch (error) {\n",
              "        console.error('Error during call to suggestCharts:', error);\n",
              "      }\n",
              "      quickchartButtonEl.classList.remove('colab-df-spinner');\n",
              "      quickchartButtonEl.classList.add('colab-df-quickchart-complete');\n",
              "    }\n",
              "    (() => {\n",
              "      let quickchartButtonEl =\n",
              "        document.querySelector('#df-7f9a0f85-4160-45aa-ac44-8936859f8dad button');\n",
              "      quickchartButtonEl.style.display =\n",
              "        google.colab.kernel.accessAllowed ? 'block' : 'none';\n",
              "    })();\n",
              "  </script>\n",
              "</div>\n",
              "    </div>\n",
              "  </div>\n"
            ],
            "application/vnd.google.colaboratory.intrinsic+json": {
              "type": "dataframe",
              "variable_name": "df_aparicoes",
              "summary": "{\n  \"name\": \"df_aparicoes\",\n  \"rows\": 173,\n  \"fields\": [\n    {\n      \"column\": \"Name/Alias\",\n      \"properties\": {\n        \"dtype\": \"string\",\n        \"num_unique_values\": 162,\n        \"samples\": [\n          \"Adam Brashear\",\n          \"Brian Braddock\",\n          \"Taki Matsuya\"\n        ],\n        \"semantic_type\": \"\",\n        \"description\": \"\"\n      }\n    },\n    {\n      \"column\": \"Appearances\",\n      \"properties\": {\n        \"dtype\": \"number\",\n        \"std\": 677,\n        \"min\": 2,\n        \"max\": 4333,\n        \"num_unique_values\": 148,\n        \"samples\": [\n          746,\n          86,\n          173\n        ],\n        \"semantic_type\": \"\",\n        \"description\": \"\"\n      }\n    }\n  ]\n}"
            }
          },
          "metadata": {},
          "execution_count": 179
        }
      ]
    },
    {
      "cell_type": "markdown",
      "source": [
        "##**Explicação**"
      ],
      "metadata": {
        "id": "pByDlU7xhP8t"
      }
    },
    {
      "cell_type": "code",
      "source": [
        "print(\"Média Aritmetica:\", mediaAritmetica(df_aparicoes['Appearances']))\n",
        "print(\"Mediana:\", mediana(df_aparicoes['Appearances']))\n",
        "print(\"Moda:\", moda(df_aparicoes['Appearances']))\n",
        "print(\"Amplitude:\", amplitude(df_aparicoes['Appearances']))\n",
        "print(\"Variância Amostral:\", var_amostral(df_aparicoes['Appearances']))\n",
        "print(\"Desvio Padrão:\", desvio_padrao(df_aparicoes['Appearances']))\n",
        "print(\"Média Harmônica:\", mediaHarmonica(df_aparicoes['Appearances']))\n"
      ],
      "metadata": {
        "colab": {
          "base_uri": "https://localhost:8080/"
        },
        "id": "0q1aRe-mnapr",
        "outputId": "efc8089a-65b6-4e56-bcd5-f497270b3552"
      },
      "execution_count": 180,
      "outputs": [
        {
          "output_type": "stream",
          "name": "stdout",
          "text": [
            "Média Aritmetica: 414.052\n",
            "Mediana: 132\n",
            "Moda: 22\n",
            "Amplitude: 4331\n",
            "Variância Amostral: 457016\n",
            "Desvio Padrão: 676\n",
            "Média Harmônica: 43.1\n"
          ]
        }
      ]
    },
    {
      "cell_type": "markdown",
      "source": [
        "--------------------------------------------------------------------------------"
      ],
      "metadata": {
        "id": "MJIhMqAT0m2a"
      }
    },
    {
      "cell_type": "markdown",
      "source": [
        "#**Amostragem**"
      ],
      "metadata": {
        "id": "jsRIj-RTOIJD"
      }
    },
    {
      "cell_type": "markdown",
      "source": [
        "##**Intervalo de Confiança**\n",
        "\n",
        "![image.png](data:image/png;base64,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)"
      ],
      "metadata": {
        "id": "rIqbA8WHOM9N"
      }
    },
    {
      "cell_type": "markdown",
      "source": [
        "##**Intervalo de Confiança 100(1-$\\alpha$)% (n>30)**\n",
        "\n",
        "$(\\bar{x}-\\frac{SZ_{1-\\alpha/2}}{\\sqrt{n}}; \\bar{x}+\\frac{SZ_{1-\\alpha/2}}{\\sqrt{n}})$, onde $\\frac{S}{\\sqrt{n}}$ é chamado erro padrão.\n",
        "\n",
        "\n",
        "```markdown\n",
        "$\\alpha$ | ${1}-\\alpha$ | $Z_{1-\\alpha/2}$\n",
        "---------|--------------|------------------\n",
        "    0,1  |     0,90     |       1,645\n",
        "```\n"
      ],
      "metadata": {
        "id": "1Jc-VpI9iFbH"
      }
    },
    {
      "cell_type": "code",
      "source": [
        "def intervaloConfianca(nums, z):\n",
        "  nivelConfianca = z/100\n",
        "  a = 1 - nivelConfianca\n",
        "  z_a = 1 - (a/2)\n",
        "  distribuicao = scipy.stats.norm.ppf(z_a)\n",
        "  erroPadrao = distribuicao*desvio_padrao(nums)/(math.sqrt(len(nums)))\n",
        "\n",
        "  return[round((mediaAritmetica(nums)-erroPadrao),3), round((mediaAritmetica(nums)+erroPadrao), 3)]"
      ],
      "metadata": {
        "id": "JxWMfBm3sN8Y"
      },
      "execution_count": 181,
      "outputs": []
    },
    {
      "cell_type": "markdown",
      "source": [
        "###**Exercício**\n",
        "\n",
        "Construir um IC com níveis de confiança de 90%, 95% e 99%,\n",
        "para os seguintes dados coletados em um experimento:\n",
        "\n",
        "        177 122 128 191 180 142 197 196 67 160\n",
        "        167 138 107 188 102 116 138 114 188 176\n",
        "        148 175 169 203 135 142 168 181 168 150\n",
        "        132 196 88 177 164 118 178 102 156 114"
      ],
      "metadata": {
        "id": "cOs6FBf_iL3B"
      }
    },
    {
      "cell_type": "code",
      "source": [
        "nums = [ 177, 122, 128, 191, 180, 142, 197, 196, 67, 160,\n",
        "         167, 138, 107, 188, 102, 116, 138, 114, 188, 176,\n",
        "         148, 175, 169, 203, 135, 142, 168, 181, 168, 150,\n",
        "         132, 196, 88, 177, 164, 118, 178, 102, 156, 114\n",
        "      ]\n",
        "\n",
        "print(\"90%\", intervaloConfianca(nums, 90))\n",
        "print(\"95%\", intervaloConfianca(nums, 95))\n",
        "print(\"99%\", intervaloConfianca(nums, 99))"
      ],
      "metadata": {
        "id": "ITpzMaGepzeV",
        "colab": {
          "base_uri": "https://localhost:8080/"
        },
        "outputId": "ef53ddcb-907c-4cd4-a026-573ed25476db"
      },
      "execution_count": 182,
      "outputs": [
        {
          "output_type": "stream",
          "name": "stdout",
          "text": [
            "90% [142.607, 160.293]\n",
            "95% [140.913, 161.987]\n",
            "99% [137.603, 165.297]\n"
          ]
        }
      ]
    },
    {
      "cell_type": "markdown",
      "source": [
        "##**Explicação**\n",
        "\n",
        "Abaixo, segue um gráfico de como o intervalo de confiança se intercala entre os limites inferior e superior."
      ],
      "metadata": {
        "id": "uACjcIDv5Q3q"
      }
    },
    {
      "cell_type": "code",
      "source": [
        "limite_inferior, limite_superior = intervaloConfianca(nums, 90)\n",
        "\n",
        "plt.figure(figsize=(4, 2))\n",
        "plt.bar('Limite Inferior', limite_inferior, color='lightgreen')\n",
        "plt.bar('Limite Superior', limite_superior, color='lightblue')\n",
        "plt.title(f'Intervalo de Confiança ({90}%)')\n",
        "plt.ylabel('Valores')\n",
        "plt.show()"
      ],
      "metadata": {
        "colab": {
          "base_uri": "https://localhost:8080/",
          "height": 237
        },
        "id": "ug5CjH_j5nhQ",
        "outputId": "5c77bd47-7627-4914-fb2b-9dfce42ebb4d"
      },
      "execution_count": 183,
      "outputs": [
        {
          "output_type": "display_data",
          "data": {
            "text/plain": [
              "<Figure size 400x200 with 1 Axes>"
            ],
            "image/png": "[encoded data removed]"
          },
          "metadata": {}
        }
      ]
    },
    {
      "cell_type": "markdown",
      "source": [
        "###**Exercício**\n",
        "\n",
        "Construir um IC com nível de confiança de 95%, para a seguinte amostra coletada em um experimento:\n",
        "\n",
        "        -0.04, -0.19, 0.14, -0.09, -0.14, 0.19, 0.04, 0.09"
      ],
      "metadata": {
        "id": "rKZvgaWpiWxG"
      }
    },
    {
      "cell_type": "code",
      "source": [
        "nums = [-0.04, -0.19, 0.14, -0.09, -0.14, 0.19, 0.04, 0.09]\n",
        "\n",
        "print(\"95%\", intervaloConfianca(nums, 95))"
      ],
      "metadata": {
        "id": "vUcRsSQsieHd",
        "colab": {
          "base_uri": "https://localhost:8080/"
        },
        "outputId": "3a8ade10-ed03-4526-d204-cc9f6de5eed5"
      },
      "execution_count": 184,
      "outputs": [
        {
          "output_type": "stream",
          "name": "stdout",
          "text": [
            "95% [0.0, 0.0]\n"
          ]
        }
      ]
    },
    {
      "cell_type": "markdown",
      "source": [
        "##**Teste Média Zero**\n",
        "\n",
        "Um IC pode ser usado para determinar se um valor medido é significativamente diferente de zero, para um certo nível de confiança.\n",
        "\n",
        "![image.png](data:image/png;base64,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)\n"
      ],
      "metadata": {
        "id": "quU7mja4igu9"
      }
    },
    {
      "cell_type": "code",
      "source": [],
      "metadata": {
        "id": "MmC-t6JXiwkE"
      },
      "execution_count": 184,
      "outputs": []
    },
    {
      "cell_type": "markdown",
      "source": [
        "###**Exercício**\n",
        "\n",
        "Dois sistemas (A e B) foram submetidos a seis cargas similares. As observações da métrica de interesse para os dois sistemas aparecem na tabela abaixo. Um dos sistemas é melhor que o outro? Argumente com base em um nível de confiança de 90%, 95% e 99%.\n",
        "\n",
        "```markdown\n",
        "Sistemas | Carga 1 | Carga 2 | Carga 3 | Carga 4 | Carga 5 | Carga 6\n",
        "---------|---------|---------|---------|---------|---------|--------\n",
        "     A   |   5,4   |   16,6  |    0,6  |   1,4   |    0,6  |   7,3   \n",
        "     B   |  19,1   |    3,5  |    3,4  |   2,5   |    3,6  |   1,7     \n",
        "      \n",
        "```"
      ],
      "metadata": {
        "id": "MtvHBZpEi1-g"
      }
    },
    {
      "cell_type": "code",
      "source": [],
      "metadata": {
        "id": "EW6p9uzmi2T0"
      },
      "execution_count": 184,
      "outputs": []
    },
    {
      "cell_type": "markdown",
      "source": [
        "###**Exercício**\n",
        "\n",
        "A diferença de tempo de execução de duas implementações do mesmo algoritmo foi medida em sete cargas de trabalho semelhantes. As diferenças obtidas foram: {1,5; 2,6; -1,8; 1,3; -0,5; 1,7; 2,4}. Podemos dizer com 99% de confiança que uma implementação é superior à outra?"
      ],
      "metadata": {
        "id": "ochunH17kSTm"
      }
    },
    {
      "cell_type": "code",
      "source": [],
      "metadata": {
        "id": "MZbv-yNAkYMk"
      },
      "execution_count": 184,
      "outputs": []
    },
    {
      "cell_type": "markdown",
      "source": [
        "Quando as amostras não são pareadas, a análise é um pouco diferente. Suponha duas amostras de tamanho $n_{a} \\quad \\text{e} \\quad n_{b}$:\n",
        "\n",
        "* 1) Computar as médias amostrais: $\\bar{x_{a}}$ e $\\bar{x_{b}}$\n",
        "* 2) Computar a diferença das médias: $\\bar{x_{a}} - \\bar{x_{b}}$\n",
        "* 3) Computar os desvios padrões das amostras:${s_{a}}$ e ${s_{b}}$\n",
        "* 4) Computar o desvio padrão da diferença das médias: $s=\\sqrt{\\frac{s_{a}^2}{n_{a}}+\\frac{s_{b}^2}{n_{b}}}$\n",
        "* 5) Computar o número efetivo de graus de liberdade: $v = \\frac{(\\frac{s_{a}^2}{n_{a}}+\\frac{s_{b}^2}{n_{b}})^2}{\\frac{1}{n_{a}+1}(\\frac{s_{a}^2}{n_{a}})^2+\\frac{1}{n_{b}+1}(\\frac{s_{b}^2}{n_{b}})^2}-2$\n",
        "* 6) Computar o IC para a diferença entre as médias: $(\\bar{x_{a}}- \\bar{x_{b}})\\bar{+}st_{[v;1-\\alpha/2]}$\n",
        "* 7) Se o IC inclui o zero, a diferença não é significativa no nível de confiança analisado.\n",
        "\n",
        "\n"
      ],
      "metadata": {
        "id": "bXfcmBNbkmBF"
      }
    },
    {
      "cell_type": "markdown",
      "source": [
        "###**Exercício**\n",
        "\n",
        "O tempo de processador consumido na execução de uma determinada aplicação foi medido em dois sistemas. Os tempos nos sistema A e B estão registrados na tabela a seguir. Podemos afirmar que os dois sistemas são significativamente\n",
        "diferentes? Utilizem 90%, 95% e 99% como nível de confiança.\n",
        "\n",
        "      -----------------------------------------------------------\n",
        "        A     5,3   16   0,6   1,4   0,6   7,7   3,6   2,4   12\n",
        "               6    57    2     1     4     6     4     8    1\n",
        "      -----------------------------------------------------------\n",
        "        B      19   3,5  3,3   2,5   3,6   1,7\n",
        "               12    2    8     1     1     4\n",
        "      -----------------------------------------------------------"
      ],
      "metadata": {
        "id": "Tx9XW61Xm_xH"
      }
    },
    {
      "cell_type": "code",
      "source": [],
      "metadata": {
        "id": "AJ4y0jmqoELH"
      },
      "execution_count": 184,
      "outputs": []
    },
    {
      "cell_type": "markdown",
      "source": [
        "--------------------------------------------------------------------------------"
      ],
      "metadata": {
        "id": "zbjI7Uk30w3Y"
      }
    },
    {
      "cell_type": "markdown",
      "source": [
        "#**Tamanho de uma Amostra**\n",
        "\n",
        "Seja {X1, X2, ..., Xn} observações de um experimento. Se n>30,podemos construir um intervalo de confiança\n",
        "\n",
        "$(\\bar{x}-\\frac{\\sigma  Z_{1-\\alpha/2}}{\\sqrt{n}};\\bar{x}+\\frac{\\sigma Z_{1-\\alpha/2}}{\\sqrt{n}})$\n",
        "\n",
        "Seja H é a largura do intervalo de confiança. Então,\n",
        "\n",
        "$H=\\frac{2 \\sigma Z_{1-\\alpha/2}}{\\sqrt{n}}$\n",
        "\n",
        "Podemos encontrar n, o tamanho da amostra\n",
        "\n",
        "$n \\geq \\frac{4(\\sigma Z_{1-\\alpha/2})^2}{H^2}$\n"
      ],
      "metadata": {
        "id": "2bTM5C6OoViJ"
      }
    },
    {
      "cell_type": "code",
      "source": [
        "def tam_amostra(dp, larg, nvlc):\n",
        "  confianca = round((nvlc/100),2)\n",
        "  alpha = 1-confianca\n",
        "  alphab = round(((1+confianca)/2),3)\n",
        "  z=scipy.stats.norm.ppf(alphab)\n",
        "  numerador = (((dp*z)**2)*4)\n",
        "  tam = (numerador/(largura**2))\n",
        "  return int(tam)"
      ],
      "metadata": {
        "id": "DsjgY8KVrx_8"
      },
      "execution_count": 185,
      "outputs": []
    },
    {
      "cell_type": "markdown",
      "source": [
        "Se a variância não é conhecida\n",
        "\n",
        "$(\\bar{x}-\\frac{s t_{[n-1,1-\\alpha /2]}}{\\sqrt{n}};\\bar{x}+\\frac{s t_{[n-1,1-\\alpha /2]}}{\\sqrt{n}})$\n",
        "\n",
        "Seja H a largura do intervalo de confiança. Então,\n",
        "\n",
        "$H=\\frac{2 s t_{[n-1,1-\\alpha /2]}}{\\sqrt{n}}$\n",
        "\n",
        "e o tamanho da amostra\n",
        "\n",
        "$n \\geq \\frac{4(st_{[n-1,1-\\alpha /2]})^2}{H^2}$"
      ],
      "metadata": {
        "id": "YJxZqYPsaDK7"
      }
    },
    {
      "cell_type": "code",
      "source": [
        "def tam_amostra_var_n_conhecida(dpa, li, nvlc):\n",
        "  confianca = nvlc/100\n",
        "  alpha = 1 - confianca\n",
        "  t = scipy.stats.t.ppf(1-alpha/2, df=math.inf)\n",
        "  numerador = (t*(dpa/li))**2\n",
        "  denominador = 4*(dpa/li)**2\n",
        "  return math.ceil(max(numerador, denominador))\n"
      ],
      "metadata": {
        "id": "9kYVeDdxaFFR"
      },
      "execution_count": 186,
      "outputs": []
    },
    {
      "cell_type": "markdown",
      "source": [
        "##**Exercício**\n",
        "\n",
        "Estamos projetando um experimento e gostaríamos de saber quantos estudantes do IComp utilizam um app. Em anos anteriores, o desvio padrão dessa informação era 6. Se queremos um nível de confiança de 95%, com largura não maior que 3, quantos estudantes devem participar da amostra?"
      ],
      "metadata": {
        "id": "WU5R4jFLryi8"
      }
    },
    {
      "cell_type": "code",
      "source": [
        "print(tam_amostra_var_n_conhecida(6, 3, 95))"
      ],
      "metadata": {
        "id": "o0nsUreUr4wj",
        "colab": {
          "base_uri": "https://localhost:8080/"
        },
        "outputId": "4a7c1592-c69b-4566-f0a2-7c7d2de245c5"
      },
      "execution_count": 187,
      "outputs": [
        {
          "output_type": "stream",
          "name": "stdout",
          "text": [
            "16\n"
          ]
        }
      ]
    },
    {
      "cell_type": "markdown",
      "source": [
        "Se não conhecemos previamente o tamanho do IC, podemos especificar o seu tamanho relativo ao valor sendo estimado.\n",
        "\n",
        "$\\bar{x} \\pm \\frac{sz}{\\sqrt{n}}$\n",
        "\n",
        "Se queremos uma estimativa com r% de precisão, o IC deve ser\n",
        "\n",
        "$(\\bar{x}(1-r/100);\\bar{x}(1+r/100))$\n",
        "\n",
        "Logo,\n",
        "\n",
        "$\\bar{x} \\pm \\frac{sz}{\\sqrt{n}} = \\bar{x}(1 \\pm \\frac{r}{100}) \\to \\frac{sz}{\\sqrt{n}} = \\bar{x}\\frac{r}{100} \\to n=(\\frac{100 sz}{r \\bar{x}})^2$"
      ],
      "metadata": {
        "id": "FkoE7Oq3r9iM"
      }
    },
    {
      "cell_type": "code",
      "source": [
        "def tam_amostra_prec(dp, nvlc, pp, me):\n",
        "  z = scipy.stats.norm.ppf(1-(1-nvlc)/2)\n",
        "  return math.ceil((100*dp*z)/(pp*me))"
      ],
      "metadata": {
        "id": "A9jOrP3It9Rr"
      },
      "execution_count": 188,
      "outputs": []
    },
    {
      "cell_type": "markdown",
      "source": [
        "##**Exercício**\n",
        "\n",
        "Baseado em um teste preliminar, a média amostral do tempo de resposta de um sistema é igual 20 segundos, e a desvio padrão é igual a 5 segundos. Quantas repetições são necessárias para obter um tempo de resposta com precisão não maior que 1 segundo no nível de confiança de 95%?\n",
        "\n"
      ],
      "metadata": {
        "id": "Ykb-CbczuCly"
      }
    },
    {
      "cell_type": "code",
      "source": [
        "print(tam_amostra_prec(5, 0.95, 0.01, 20))"
      ],
      "metadata": {
        "id": "h1tdKATxuIgr",
        "colab": {
          "base_uri": "https://localhost:8080/"
        },
        "outputId": "b95da553-7ff6-495c-8a7b-a2fe9617da37"
      },
      "execution_count": 189,
      "outputs": [
        {
          "output_type": "stream",
          "name": "stdout",
          "text": [
            "4900\n"
          ]
        }
      ]
    },
    {
      "cell_type": "markdown",
      "source": [
        "--------------------------------------------------------------------------------"
      ],
      "metadata": {
        "id": "91eTMGwL00tp"
      }
    },
    {
      "cell_type": "markdown",
      "source": [
        "#**Variáveis Aleatórias**"
      ],
      "metadata": {
        "id": "O7-t-jS5uFuC"
      }
    },
    {
      "cell_type": "markdown",
      "source": [
        "##**Distribuição de Probabilidade**\n",
        "\n",
        "Distribuição de probabilidade para uma V.A. discreta X é um método de se especificar todos os possíveis valores de X e a probabilidade associada a cada valor.\n",
        "\n",
        "Suponha que um experimento tenha 8 resultados possíveis, cada um denotado por 3 letras, cada uma ou um N ou um D. A V.A. X é definida como o número de Ds em um resultado.\n",
        "\n",
        "```markdown\n",
        "Resultado     |  NNN  |  NND  |  NDN  |  DNN  |  NDD  |  DND  |  DDN  |  DDD\n",
        "--------------|-------|-------|-------|-------|-------|-------|-------|-------\n",
        "Probabilidade | 0,336 | 0,224 | 0,144 | 0,084 | 0,096 | 0,056 | 0,036 | 0,024  \n",
        "```\n",
        "\n",
        "A distribuição de probabilidade pode ser apresentada em uma tabela:\n",
        "\n",
        "```markdown\n",
        "  X  |   0   |   1   |   2   |   3\n",
        "-----|-------|-------|-------|-------\n",
        "P(X) | 0,336 | 0,452 | 0,188 | 0,024   \n",
        "```\n",
        "\n",
        "O valor esperado de uma V.A. é dado por\n",
        "\n",
        "$E[X] = \\sum_{\\forall x}[x.p(x)]$\n",
        "\n",
        "Distribuição de probabilidade de X, uma V.A. discreta\n",
        "\n",
        "$E[X] = \\sum_{\\forall x}[x.p(x)] \\quad \\quad E[X^2] = \\sum_{\\forall x}[{x^2}.p(x)] \\quad \\quad Var[X]=E[X^2]-(E[X])^2$"
      ],
      "metadata": {
        "id": "brd4eBXJvVkC"
      }
    },
    {
      "cell_type": "code",
      "source": [
        "def valorEsperado_VA(nums, prob):\n",
        "    val_esperado = 0\n",
        "    for i in range(len(nums)):\n",
        "        val_esperado += nums[i] * prob[i]\n",
        "    return val_esperado\n",
        "\n",
        "def variancia_VA(nums, prob):\n",
        "    esperanca = valorEsperado_VA(nums, prob)\n",
        "    variancia = 0\n",
        "    for i in range(len(nums)):\n",
        "        variancia += ((nums[i] - esperanca) ** 2) * prob[i]\n",
        "    return variancia"
      ],
      "metadata": {
        "id": "CT3LmTw0xT6K"
      },
      "execution_count": 190,
      "outputs": []
    },
    {
      "cell_type": "markdown",
      "source": [
        "##**Exercício**\n",
        "\n",
        "Distribuição de probabilidade de X, uma V.A. discreta\n",
        "\n",
        "|   x   |  -1  |  1   |  2   |  3   |\n",
        "|-------|------|------|------|------|\n",
        "| p(x)  | 1/4  | 1/8  | 1/8  | 1/2  |\n"
      ],
      "metadata": {
        "id": "adTnuplxFZKP"
      }
    },
    {
      "cell_type": "code",
      "source": [
        "# Valores da variável aleatória\n",
        "x = [-1, 1, 2, 3]\n",
        "\n",
        "px = [1/4, 1/8, 1/8, 1/2]\n",
        "\n",
        "\n",
        "print(valorEsperado_VA(x, px))"
      ],
      "metadata": {
        "colab": {
          "base_uri": "https://localhost:8080/"
        },
        "id": "f0Z8OkrcE6WR",
        "outputId": "bb33949f-7642-4666-e85f-3eba40d1057a"
      },
      "execution_count": 191,
      "outputs": [
        {
          "output_type": "stream",
          "name": "stdout",
          "text": [
            "1.625\n"
          ]
        }
      ]
    },
    {
      "cell_type": "markdown",
      "source": [
        "###**Exercício**\n",
        "\n",
        "Suponha que a V.A. X represente a idade de um calouro do IComp selecionado\n",
        "aleatoriamente. A tabela seguinte mostra a sua distribuição de probabilidade.\n",
        "Encontre a média e a variância de X.\n",
        "\n",
        "     -------------------------------------------------\n",
        "        x     16    17    18    19    20    21    22\n",
        "\n",
        "      p(x)   0,05  0,10  0,15  0,25  0,20  0,15  0,10\n",
        "     -------------------------------------------------\n"
      ],
      "metadata": {
        "id": "2bMgml6O5RWE"
      }
    },
    {
      "cell_type": "code",
      "source": [
        "idades = [16, 17, 18, 19, 20, 21, 22]\n",
        "probabilidades = [0.05, 0.10, 0.15, 0.25, 0.20, 0.15, 0.10]\n",
        "\n",
        "print(\"Variancia:\", variancia_VA(idades, probabilidades))\n",
        "print(\"Valor Esperado:\", valorEsperado_VA(idades, probabilidades))"
      ],
      "metadata": {
        "id": "q-1vZSvd51GX",
        "colab": {
          "base_uri": "https://localhost:8080/"
        },
        "outputId": "fb39d26e-19af-47b9-fc8e-c55d5d612997"
      },
      "execution_count": 192,
      "outputs": [
        {
          "output_type": "stream",
          "name": "stdout",
          "text": [
            "Variancia: 2.61\n",
            "Valor Esperado: 19.299999999999997\n"
          ]
        }
      ]
    },
    {
      "cell_type": "markdown",
      "source": [
        "###**Exercício**\n",
        "\n",
        "No vídeo game The Kings of Madra, os usuários resolvem quebra-cabeças lógicos\n",
        "para se tornarem mais poderosos e influentes. O número de pontos de experiência\n",
        "ganhos em cada nível é uma variável aleatória (Y), e é o quadrado do número de\n",
        "quebra-cabeças\n",
        "\n",
        "     -------------------------------------------------\n",
        "        y     0     1     4  9     16     25    \n",
        "\n",
        "      p(y)   0,01  0,05  ?  0,25  0,35  0,30\n",
        "     -------------------------------------------------\n",
        "\n",
        "Determine\n",
        "* (a) p(4)\n",
        "* (b) P( 1 <= Y <= 16 )\n",
        "* (c) P( 1 < Y < 16 )\n"
      ],
      "metadata": {
        "id": "nDMX28mT522s"
      }
    },
    {
      "cell_type": "code",
      "source": [
        "numeros = [0, 1, 4, 9, 16, 25]\n",
        "probabilidades = [0.01, 0.05, None, 0.25, 0.35, 0.30]\n",
        "\n",
        "prob_faltante = 1 - sum(prob for prob in probabilidades if prob is not None)\n",
        "indice_faltante = numeros.index(4)\n",
        "probabilidades[indice_faltante] = prob_faltante\n",
        "\n",
        "p_4 = probabilidades[indice_faltante]\n",
        "print(\"p(4):\", p_4)\n",
        "\n",
        "P_1_a_16 = sum(probabilidades[:numeros.index(16) + 1])\n",
        "print(\"P(1 <= Y <= 16):\", P_1_a_16)\n",
        "\n",
        "P_1_a_16_exclusive = sum(probabilidades[:numeros.index(16)])\n",
        "print(\"P(1 < Y < 16):\", P_1_a_16_exclusive)\n"
      ],
      "metadata": {
        "id": "8gyk6LY76W-F",
        "colab": {
          "base_uri": "https://localhost:8080/"
        },
        "outputId": "80676c6f-8ce0-4d39-abc6-b66724991ca9"
      },
      "execution_count": 193,
      "outputs": [
        {
          "output_type": "stream",
          "name": "stdout",
          "text": [
            "p(4): 0.040000000000000036\n",
            "P(1 <= Y <= 16): 0.7\n",
            "P(1 < Y < 16): 0.35000000000000003\n"
          ]
        }
      ]
    },
    {
      "cell_type": "markdown",
      "source": [
        "--------------------------------------------------------------------------------"
      ],
      "metadata": {
        "id": "hUtDtROa08_Z"
      }
    },
    {
      "cell_type": "markdown",
      "source": [
        "##**Variáveis Aleatórias Discretas**"
      ],
      "metadata": {
        "id": "zZDjI4TBtJM-"
      }
    },
    {
      "cell_type": "markdown",
      "source": [
        "###**Variável Aleatória Bernoulli**\n",
        "\n",
        "O valor esperado de uma V.A. Bernoulli com parâmetro **p**:\n",
        "\n",
        "$E[X]=0(1-p)+1(p) = p$\n",
        "\n",
        "Variância: $Var[X]=p(1-p)$\n",
        "\n",
        "Coeficiente de Varaiação: $CV[X]=\\frac{\\sqrt{p(1-p)}}{p}$"
      ],
      "metadata": {
        "id": "nHXRs9-9Imgr"
      }
    },
    {
      "cell_type": "code",
      "source": [
        "def var_bernoulli(p):\n",
        "  return p(1-p)\n",
        "\n",
        "def coeficiente_var_bernoulli(p):\n",
        "  return (math.sqrt(var_bernoulli(p)))/p"
      ],
      "metadata": {
        "id": "7ppBBqepKGgz"
      },
      "execution_count": 194,
      "outputs": []
    },
    {
      "cell_type": "markdown",
      "source": [
        "###**Variável Aleatória Binomial**\n",
        "\n",
        "O valor esperado de uma V.A. Binomial com parâmetro p:\n",
        "\n",
        "$𝐸[𝑋] = 𝑛p$\n",
        "\n",
        "Variância: $Var[X]=np(1-p)$\n",
        "\n",
        "Coeficiente de Variação: $CV[X]=\\frac{\\sqrt{np(1-p)}}{np}$"
      ],
      "metadata": {
        "id": "DrEhzc3JKUdi"
      }
    },
    {
      "cell_type": "code",
      "source": [
        "def valor_esperado_binomial(n ,p):\n",
        "  return n*p\n",
        "\n",
        "def var_binomial(n, p):\n",
        "  return valor_esperado_binomial(n, p)*(1-p)\n",
        "\n",
        "def coeficiente_binomial(n, p):\n",
        "  return (math.sqrt(var_binomial(n, p)))/(valor_(n, p))\n"
      ],
      "metadata": {
        "id": "7s9_ywD8Lu-Z"
      },
      "execution_count": 195,
      "outputs": []
    },
    {
      "cell_type": "markdown",
      "source": [
        "####**Exemplo**\n",
        "\n",
        "Cerca de 75% de estudantes do IComp acompanham as aulas síncronas através de um notebook, enquanto que 25% acessam via celular. Suponha que em uma aula síncrona, o professor seleciona aleatoriamente 10 estudantes. Qual a probabilidade de que exatamente 6 estudantes estejam usando notebook.\n",
        "\n",
        "$p(k)=\\binom{n}{k}p^k(1-p)^{n-k}$\n",
        "\n",
        "$p(6)=\\binom{10}{6}(0,75)^6(1-0,75)^{10-6} = 0,1460$"
      ],
      "metadata": {
        "id": "hps7WPYnRe-p"
      }
    },
    {
      "cell_type": "code",
      "source": [
        "def prob_binomial(n, k, p):\n",
        "  return round((math.comb(n, k)*(p**k)*((1-p)**(n-k))),4)"
      ],
      "metadata": {
        "id": "FfWBNtFiSbdo"
      },
      "execution_count": 196,
      "outputs": []
    },
    {
      "cell_type": "code",
      "source": [
        "print(prob_binomial(10, 6, 0.75))"
      ],
      "metadata": {
        "colab": {
          "base_uri": "https://localhost:8080/"
        },
        "id": "KNm8j55bjgnZ",
        "outputId": "9e206a70-55be-423c-c780-09ee381453e8"
      },
      "execution_count": 197,
      "outputs": [
        {
          "output_type": "stream",
          "name": "stdout",
          "text": [
            "0.146\n"
          ]
        }
      ]
    },
    {
      "cell_type": "markdown",
      "source": [
        "###**Variável Aleatória Geométrica**\n",
        "\n",
        "O valor esperado de uma V.A. Geométrica com parâmetro **p**:\n",
        "\n",
        "$E[X]=\\frac{1}{p}$\n",
        "\n",
        "Variância: $Var(X)=\\frac{1-p}{p^2}$\n",
        "\n",
        "Coeficiente de Variação: $CV(X)=\\frac{\\sqrt{\\frac{1-p}{p^2}}}{1/p}$\n"
      ],
      "metadata": {
        "id": "AvkpKrPdScEA"
      }
    },
    {
      "cell_type": "code",
      "source": [
        "def esperado_geo(p):\n",
        "  return 1/p\n",
        "\n",
        "def var_geo(p):\n",
        "  return (1-p)/(p**2)\n",
        "\n",
        "def coeficiente_var_geo(p):\n",
        "  return (math.sqrt(var_geo(p)))/(1/p)"
      ],
      "metadata": {
        "id": "fNSySFQxTM5q"
      },
      "execution_count": 198,
      "outputs": []
    },
    {
      "cell_type": "markdown",
      "source": [
        "####**Exemplo**\n",
        "\n",
        "Suponha que a probabilidade de perda em um link seja 10% e que perdas de pacotes sejam independentes, embora isso aconteça raramente na prática. Quando um pacote é perdido, isso é detectado e o pacote retransmitido até que seja recebido corretamente. Qual é a probabilidade de um pacote ser retransmitido exatamente em 1, 2 e 3 vezes?\n",
        "\n",
        "$p(i)=P\\{X=i\\}=p(1-p)^{i-1}, onde p=0,9$\n",
        "\n",
        "  $P\\{X=1\\}=(0,9).(1-0,90)^{1-1}=0,9$\n",
        "\n",
        "  $P\\{X=2\\}=(0,9).(1-0,90)^{2-1}=0,09$\n",
        "\n",
        "  $P\\{X=3\\}=(0,9).(1-0,90)^{3-1}=0,009$"
      ],
      "metadata": {
        "id": "DiSRBASFTQM_"
      }
    },
    {
      "cell_type": "code",
      "source": [
        "def prob_retrans(p ,i):\n",
        "  return round((p*((1-p)**(i-1))),3)"
      ],
      "metadata": {
        "id": "lcfaCzo0Y0eI"
      },
      "execution_count": 199,
      "outputs": []
    },
    {
      "cell_type": "code",
      "source": [
        "for i in range(1, 4):\n",
        "    prob = prob_retrans(0.9, i)\n",
        "    print(prob)"
      ],
      "metadata": {
        "colab": {
          "base_uri": "https://localhost:8080/"
        },
        "id": "Wrr0yhKHkug4",
        "outputId": "434d09cf-dc8c-4adb-da63-c03f350f51d4"
      },
      "execution_count": 200,
      "outputs": [
        {
          "output_type": "stream",
          "name": "stdout",
          "text": [
            "0.9\n",
            "0.09\n",
            "0.009\n"
          ]
        }
      ]
    },
    {
      "cell_type": "markdown",
      "source": [
        "###**Variável Aleatória Poisson**\n",
        "\n",
        "O valor esperado de uma V.A. Poisson com parâmetro $\\lambda$\n",
        "\n",
        "$E[X]=\\lambda$\n",
        "\n",
        "Variância: $Var(X)=\\lambda$\n",
        "\n",
        "Coeficiente de Variação: $CV(X)=\\frac{\\sqrt{\\lambda}}{\\lambda}$"
      ],
      "metadata": {
        "id": "qjd5BCHQZbvg"
      }
    },
    {
      "cell_type": "code",
      "source": [
        "def esperado_poisson(l):\n",
        "  return l\n",
        "\n",
        "def var_poisson(l):\n",
        "  return l\n",
        "\n",
        "def coeficiente_var_poisson(l):\n",
        "  return math.sqrt(l)/l"
      ],
      "metadata": {
        "id": "qnnldN8lgLDo"
      },
      "execution_count": 201,
      "outputs": []
    },
    {
      "cell_type": "markdown",
      "source": [
        "####**Exemplo**\n",
        "\n",
        "Considere um sistema computacional com um fluxo de chegadas de 2 jobs por minuto. Modelando esse sistema como Poisson, determine a probabilidade de chegarem, no máximo, três jobs durante um intervalo de 1 minuto.\n",
        "\n",
        "$p(i)=P\\{X=i\\}=e^{-\\lambda}\\frac{\\lambda^i}{i!}$    \n",
        "\n",
        "$p(0)=P\\{X=0\\}=e^{-2}\\frac{2^0}{0!}=0,1353$\n",
        "\n",
        "$p(1)=P\\{X=1\\}=e^{-2}\\frac{2^1}{1!}=0,2706$\n",
        "\n",
        "$p(2)=P\\{X=2\\}=e^{-2}\\frac{2^2}{2!}=0,2706$\n",
        "\n",
        "$p(3)=P\\{X=3\\}=e^{-2}\\frac{2^3}{3!}=0,1804$"
      ],
      "metadata": {
        "id": "3sQsk8ZFgLQQ"
      }
    },
    {
      "cell_type": "code",
      "source": [
        "def prob_poisson(l, k):\n",
        "  prob = 0\n",
        "  for i in range(k+1):\n",
        "    prob += math.exp(-l) * ((l**i)/math.factorial(i))\n",
        "  return prob"
      ],
      "metadata": {
        "id": "53EiLbqk1Jao"
      },
      "execution_count": 202,
      "outputs": []
    },
    {
      "cell_type": "code",
      "source": [
        "print(prob_poisson(2, 3))"
      ],
      "metadata": {
        "colab": {
          "base_uri": "https://localhost:8080/"
        },
        "id": "0KS4RcWzmnRp",
        "outputId": "01a794c6-00d3-434a-9bae-7e6d8ff10cf5"
      },
      "execution_count": 203,
      "outputs": [
        {
          "output_type": "stream",
          "name": "stdout",
          "text": [
            "0.8571234604985472\n"
          ]
        }
      ]
    },
    {
      "cell_type": "markdown",
      "source": [
        "--------------------------------------------------------------------------------"
      ],
      "metadata": {
        "id": "asmM82Yx1H4A"
      }
    },
    {
      "cell_type": "markdown",
      "source": [
        "##**Variáveis Aleatórias Contínuas**"
      ],
      "metadata": {
        "id": "TibCsUBrm4N4"
      }
    },
    {
      "cell_type": "markdown",
      "source": [
        "###**Variável Aleatória Uniforme**\n",
        "\n",
        "O valor esperado de uma V.A. uniforme com parâmetros a e b é dado por\n",
        "\n",
        "$E[X]=\\frac{a+b}{2}$\n",
        "\n",
        "Variância: $Var[X]=\\frac{(b-a)^2}{12}$\n",
        "\n",
        "Coeficiente de Variação: $CV(X)=\\frac{\\sqrt{3}}{3}\\frac{(b-a)^2}{(a+b)}$\n"
      ],
      "metadata": {
        "id": "_6uATWCHnI8J"
      }
    },
    {
      "cell_type": "code",
      "source": [
        "def esperado_uniforme(a, b):\n",
        "  return (a+b)/2\n",
        "\n",
        "def var_uniforme(a, b):\n",
        "  return ((b-a)**2)/12\n",
        "\n",
        "def coeficiente_var_uniforme(a, b):\n",
        "  return (math.sqrt(3)/3)*(((b-a)**2)/(a+b))"
      ],
      "metadata": {
        "id": "sso92vPtqiMI"
      },
      "execution_count": 204,
      "outputs": []
    },
    {
      "cell_type": "markdown",
      "source": [
        "###**Variável Aleatória Exponencial**\n",
        "\n",
        "\n",
        "Função distribuição de probabilidade de uma V.A. exponencial com média **a**\n",
        "\n",
        "$F(X)=P(X \\leq x)=1-e^{-x/a}$\n",
        "\n",
        "Função densidade de probabilidade\n",
        "\n",
        "$f(x)=\\frac{1}{a}e^{-x/a}$\n",
        "\n",
        "Valor esperado de uma V.A. exponencial com parâmetros **a** (média)\n",
        "\n",
        "$E[X]=a$\n",
        "\n",
        "Variância: $Var(x)=a^2$\n",
        "\n",
        "Coeficiente de Variação: $CV=1$"
      ],
      "metadata": {
        "id": "LWM0xdLjqrKe"
      }
    },
    {
      "cell_type": "code",
      "source": [
        "def distr_prob_exp(x, a):\n",
        "  return (1/a)*(math.exp(-x/a))\n",
        "\n",
        "def densidade_prob(x, a):\n",
        "  return (1/a)*(math.exp(-x/a))\n",
        "\n",
        "def esperado_exp(a):\n",
        "  return a\n",
        "\n",
        "def var_exp(a):\n",
        "  return a**2\n",
        "\n",
        "def coeficiente_var_exp(a):\n",
        "  return 1"
      ],
      "metadata": {
        "id": "WgJw2ynMrJgf"
      },
      "execution_count": 205,
      "outputs": []
    },
    {
      "cell_type": "markdown",
      "source": [
        "###**Variável Aleatória Normal**\n",
        "\n",
        "Uma distribuição normal é completamente caracterizada, ou determinada, por sua média **μ** e desvio padrão **σ**.\n",
        "\n",
        "$X\\sim N(μ, σ)$\n",
        "\n",
        "Função densidade de probabilidade:\n",
        "\n",
        "$f(x)=\\frac{1}{σ\\sqrt{2 \\pi}}e^{-(x-μ)^2/2σ^2}$\n",
        "\n",
        "O valor esperado de uma V.A. normal com parâmetros **μ** (média) e **σ²** (variância) é dado por\n",
        "\n",
        "$E[X]=μ$\n",
        "\n",
        "Variância: $Var(X)=σ²$\n",
        "\n",
        "Coeficiente de variação: $CV(X)=\\frac{σ}{μ}$"
      ],
      "metadata": {
        "id": "T5SQjN9MrhPX"
      }
    },
    {
      "cell_type": "code",
      "source": [
        "def esperado_normal(u):\n",
        "  return u\n",
        "\n",
        "def var_normal(o):\n",
        "  return o**2\n",
        "\n",
        "def coeficiente_var_normal(u, o):\n",
        "  return o/u"
      ],
      "metadata": {
        "id": "BTWyLbVisriv"
      },
      "execution_count": 206,
      "outputs": []
    },
    {
      "cell_type": "markdown",
      "source": [
        "####**Exercício**\n"
      ],
      "metadata": {
        "id": "OkfP4T_rs6J_"
      }
    },
    {
      "cell_type": "code",
      "source": [],
      "metadata": {
        "id": "EE6vze19tBmP"
      },
      "execution_count": 206,
      "outputs": []
    }
  ]
}